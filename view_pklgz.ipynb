{
 "cells": [
  {
   "cell_type": "code",
   "execution_count": 1,
   "metadata": {},
   "outputs": [],
   "source": [
    "import pandas as pd\n",
    "from pathlib import Path"
   ]
  },
  {
   "cell_type": "code",
   "execution_count": 2,
   "metadata": {},
   "outputs": [],
   "source": [
    "dfpath = Path(\"pile_exclusions/pile_test-sample_Pile-CC_excl.pkl.gz\").resolve()\n",
    "df_exclude = pd.read_pickle(dfpath)"
   ]
  },
  {
   "cell_type": "code",
   "execution_count": 3,
   "metadata": {},
   "outputs": [],
   "source": [
    "dfp1 = Path(\"pile_tables/pile_test-sample_Pile-CC_df.pkl.gz\")\n",
    "df_include = pd.read_pickle(dfp1)"
   ]
  }
 ],
 "metadata": {
  "interpreter": {
   "hash": "990ae82fbb04d90481d11740c657598359608ebecead91f770b85fca03892d68"
  },
  "kernelspec": {
   "display_name": "Python 3.8.12 64-bit ('stanza': conda)",
   "language": "python",
   "name": "python3"
  },
  "language_info": {
   "codemirror_mode": {
    "name": "ipython",
    "version": 3
   },
   "file_extension": ".py",
   "mimetype": "text/x-python",
   "name": "python",
   "nbconvert_exporter": "python",
   "pygments_lexer": "ipython3",
   "version": "3.8.12"
  },
  "orig_nbformat": 4
 },
 "nbformat": 4,
 "nbformat_minor": 2
}
