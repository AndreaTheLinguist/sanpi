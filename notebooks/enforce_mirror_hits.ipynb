{
 "cells": [
  {
   "cell_type": "code",
   "execution_count": 110,
   "metadata": {},
   "outputs": [
    {
     "data": {
      "text/plain": [
       "{'POSmirror': PosixPath('/share/compling/data/sanpi/4_post-processed/POSmirror/trigger-bigrams_thr0-001p.35f.pkl.gz'),\n",
       " 'NEGmirror': PosixPath('/share/compling/data/sanpi/4_post-processed/NEGmirror/trigger-bigrams_thr0-001p.35f.pkl.gz')}"
      ]
     },
     "execution_count": 110,
     "metadata": {},
     "output_type": "execute_result"
    }
   ],
   "source": [
    "import re\n",
    "from pathlib import Path\n",
    "\n",
    "import pandas as pd\n",
    "\n",
    "from source.utils import POST_PROC_DIR, print_iter\n",
    "from source.utils.sample import sample_pickle\n",
    "\n",
    "HIT_EX_COLS = ['WITH::^.[il].*lower', 'WITH::text', 'token_str']\n",
    "\n",
    "pkl_name = 'trigger-bigrams_thr0-001p.35f.pkl.gz'\n",
    "path_dict = {p: POST_PROC_DIR / p / pkl_name for  p in ('POSmirror','NEGmirror')}\n",
    "path_dict"
   ]
  },
  {
   "cell_type": "code",
   "execution_count": 111,
   "metadata": {},
   "outputs": [],
   "source": [
    "nmir = pd.read_pickle(path_dict['NEGmirror'])"
   ]
  },
  {
   "cell_type": "code",
   "execution_count": 2,
   "metadata": {},
   "outputs": [],
   "source": [
    "pmir = pd.read_pickle(path_dict['POSmirror'])\n"
   ]
  },
  {
   "cell_type": "code",
   "execution_count": 3,
   "metadata": {},
   "outputs": [],
   "source": [
    "def str_to_cat(df):\n",
    "    cat_cols = df.filter(regex=r'form|bigram|lemma|deprel|head').columns\n",
    "    df[cat_cols] = df[cat_cols].astype('category')\n",
    "    # df.info()\n",
    "    return df"
   ]
  },
  {
   "cell_type": "code",
   "execution_count": 4,
   "metadata": {},
   "outputs": [],
   "source": [
    "pmir = str_to_cat(pmir)"
   ]
  },
  {
   "cell_type": "code",
   "execution_count": 79,
   "metadata": {},
   "outputs": [],
   "source": [
    "nmir = str_to_cat(nmir)"
   ]
  },
  {
   "cell_type": "code",
   "execution_count": 58,
   "metadata": {},
   "outputs": [],
   "source": [
    "def set_col_widths(df):\n",
    "    cols = df.copy().reset_index().columns\n",
    "    width_dict = (\n",
    "        {c: None for c in cols}\n",
    "        | {c: 22 for c in cols[cols.str.contains('_id')]}\n",
    "        | {c: 45 for c in cols[cols.str.contains('text')]}\n",
    "        | {c: 30 for c in cols[cols.str.contains('forms')]}\n",
    "        | {c: 60 for c in cols[cols.str.contains('_str')]})\n",
    "    return list(width_dict.values())"
   ]
  },
  {
   "cell_type": "code",
   "execution_count": 7,
   "metadata": {},
   "outputs": [
    {
     "name": "stdout",
     "output_type": "stream",
     "text": [
      "\n",
      "POSmirror columns:\n",
      "▸ adv_form\n",
      "▸ adj_form\n",
      "▸ text_window\n",
      "▸ bigram_id\n",
      "▸ token_str\n",
      "▸ mir_deprel\n",
      "▸ mir_head\n",
      "▸ mir_lemma\n",
      "▸ adv_lemma\n",
      "▸ adj_lemma\n",
      "▸ mir_form\n",
      "▸ mir_form_lower\n",
      "▸ adv_form_lower\n",
      "▸ adj_form_lower\n",
      "▸ bigram_lower\n",
      "▸ all_forms_lower\n",
      "▸ pattern\n",
      "▸ category\n",
      "▸ prev_form_lower\n",
      "\n",
      "NEGmirror columns:\n",
      "▸ neg_form\n",
      "▸ adv_form\n",
      "▸ adj_form\n",
      "▸ text_window\n",
      "▸ bigram_id\n",
      "▸ token_str\n",
      "▸ neg_deprel\n",
      "▸ neg_head\n",
      "▸ neg_lemma\n",
      "▸ adv_lemma\n",
      "▸ adj_lemma\n",
      "▸ neg_form_lower\n",
      "▸ adv_form_lower\n",
      "▸ adj_form_lower\n",
      "▸ bigram_lower\n",
      "▸ all_forms_lower\n",
      "▸ pattern\n",
      "▸ category\n",
      "▸ prev_form_lower\n"
     ]
    }
   ],
   "source": [
    "print_iter(header = 'POSmirror columns:', iter_obj= pmir.columns.to_list())\n",
    "print_iter(header = 'NEGmirror columns:', iter_obj= nmir.columns.to_list())"
   ]
  },
  {
   "cell_type": "code",
   "execution_count": 59,
   "metadata": {},
   "outputs": [],
   "source": [
    "def show_sample(df: pd.DataFrame,\n",
    "                format: str = 'grid',\n",
    "                limit_cols: bool = True):\n",
    "    if limit_cols and format != 'pipe':\n",
    "        col_widths_list = set_col_widths(df)\n",
    "    else:\n",
    "        col_widths_list = [None] * len(df.columns)\n",
    "    print(df.to_markdown(\n",
    "        floatfmt=',.0f', intfmt=',',\n",
    "        maxcolwidths=col_widths_list, \n",
    "        tablefmt=format\n",
    "        ))"
   ]
  },
  {
   "cell_type": "code",
   "execution_count": 9,
   "metadata": {},
   "outputs": [
    {
     "name": "stdout",
     "output_type": "stream",
     "text": [
      "| pattern      |     count |\n",
      "|:-------------|----------:|\n",
      "| pos-mirror-R | 1,313,154 |\n",
      "| pos-mirror-L |   362,347 |\n"
     ]
    }
   ],
   "source": [
    "show_sample(pmir.pattern.value_counts().to_frame(), limit_cols=False, format='pipe')"
   ]
  },
  {
   "cell_type": "code",
   "execution_count": 10,
   "metadata": {},
   "outputs": [
    {
     "name": "stdout",
     "output_type": "stream",
     "text": [
      "| pattern      |   count |\n",
      "|:-------------|--------:|\n",
      "| neg-mirror-R | 210,404 |\n",
      "| neg-mirror-L |  75,031 |\n"
     ]
    }
   ],
   "source": [
    "show_sample(nmir.pattern.value_counts().to_frame(), limit_cols=False, format='pipe')"
   ]
  },
  {
   "cell_type": "code",
   "execution_count": 38,
   "metadata": {},
   "outputs": [],
   "source": [
    "REGNOT=r\" (n[o']t) \"\n",
    "def embolden(series,\n",
    "            bold_regex=None):\n",
    "    bold_regex = re.compile(bold_regex) if bold_regex else REGNOT\n",
    "    return series.apply(\n",
    "        lambda x: bold_regex.sub(r' __`\\1`__ ', x))\n",
    "    \n"
   ]
  },
  {
   "cell_type": "markdown",
   "metadata": {},
   "source": [
    "## Problem Sentences\n",
    "\n",
    "The following examples are all from the `POSmirror` data set which should not include any negative triggers. \n",
    "I believe the issue may be due to unexpected parses or cases where the negative trigger dependency is indirect or scopes over the identified positive trigger. "
   ]
  },
  {
   "cell_type": "code",
   "execution_count": 12,
   "metadata": {},
   "outputs": [
    {
     "name": "stdout",
     "output_type": "stream",
     "text": [
      "\n",
      "- *filtering rows...*\n",
      "  - regex parsing = True\n",
      "  - ✓ Applied filter: `token_str== n[o']t .* exactly `\n",
      "  - ✓ Applied filter: `adv_form_lower==^exactly$`\n",
      "  - ✓ Applied filter: `pattern==.*L$`\n",
      "\n",
      "### All (5) row(s) matching filter(s) from `input frame`\n",
      "\n",
      "| hit_id                                    | mir_form_lower   | bigram_lower     | text_window                                                  | token_str                                                                                                                                                                                                                                                                                                                                                                                            |\n",
      "|:------------------------------------------|:-----------------|:-----------------|:-------------------------------------------------------------|:-----------------------------------------------------------------------------------------------------------------------------------------------------------------------------------------------------------------------------------------------------------------------------------------------------------------------------------------------------------------------------------------------------|\n",
      "| pcc_eng_25_005.3062_x0070160_19:11-12-13  | many             | exactly_alike    | , there are __`not`__ many __`exactly`__ alike .             | Because the traps were all handmade , there are __`not`__ many __`exactly`__ alike .                                                                                                                                                                                                                                                                                                                 |\n",
      "| pcc_eng_03_092.8566_x1487301_15:21-22-23  | something        | exactly_friendly | n't think it was something __`exactly`__ friendly for kids . | The i Pad is a fairly simple device to use for adults , but I did __`n't`__ think it was something __`exactly`__ friendly for kids .                                                                                                                                                                                                                                                                 |\n",
      "| pcc_eng_29_085.1202_x1358647_07:4-5-6     | something        | exactly_new      | This is __`n't`__ something __`exactly`__ new .              | This is __`n't`__ something __`exactly`__ new .                                                                                                                                                                                                                                                                                                                                                      |\n",
      "| pcc_eng_21_004.3936_x0054774_071:62-63-64 | something        | exactly_new      | so it 's __`not`__ something __`exactly`__ new with him ] )  | It 's also missing some of his earlier stuff , but the \" KMD \" ( Kurious and another random dude Doom was supposedly gonna make a new KMD album with [ another of the many rumored - but- never- seen Doom projects a la Madvillainy 2 & the Ghost collab - this was from like 2000 so it 's __`not`__ something __`exactly`__ new with him ] ) track Sorcerors is on there , which is really nice . |\n",
      "| pcc_eng_08_092.9577_x1488616_29:17-18-19  | something        | exactly_right    | I did __`n't`__ have something __`exactly`__ right .         | \" [ My clients ] needed a piece of art , and I did __`n't`__ have something __`exactly`__ right .                                                                                                                                                                                                                                                                                                    |\n",
      "\n",
      "- *filtering rows...*\n",
      "  - regex parsing = True\n",
      "  - ✓ Applied filter: `token_str== n[o']t .* exactly `\n",
      "  - ✓ Applied filter: `adv_form_lower==^exactly$`\n",
      "  - ✓ Applied filter: `pattern==.*R$`\n",
      "\n",
      "### 6 random rows matching filter(s) from `input frame`\n",
      "\n",
      "| hit_id                                    | mir_form_lower   | bigram_lower      | text_window                                                                           | token_str                                                                                                                                                                                                                                                                                                                    |\n",
      "|:------------------------------------------|:-----------------|:------------------|:--------------------------------------------------------------------------------------|:-----------------------------------------------------------------------------------------------------------------------------------------------------------------------------------------------------------------------------------------------------------------------------------------------------------------------------|\n",
      "| pcc_eng_24_028.3166_x0441708_039:20-23-24 | everyone         | exactly_equal     | better \" rights unless everyone is also __`exactly`__ equal in all other respects     | It 's simply __`not`__ , in general , true that no one will have \" better \" rights unless everyone is also __`exactly`__ equal in all other respects .                                                                                                                                                                       |\n",
      "| pcc_eng_22_031.0840_x0485714_249:19-24-25 | everything       | exactly_friendly  | he knows that __`not`__ everything in Cool World is __`exactly`__ friendly . \" in top | Intrigued at seeing his creating come to life , Jack is nonetheless wary as he knows that __`not`__ everything in Cool World is __`exactly`__ friendly . \" in top quality .                                                                                                                                                  |\n",
      "| pcc_eng_29_068.6475_x1092799_11:21-22-23  | or               | exactly_immutable | life is necessarily true or __`exactly`__ immutable .                                 | It 's the realization that we can sense that __`not`__ everything we have been taught in life is necessarily true or __`exactly`__ immutable .                                                                                                                                                                               |\n",
      "| pcc_eng_02_050.0522_x0793598_106:10-11-12 | or               | exactly_perfect   | does __`n't`__ go well or __`exactly`__ perfect , or when something                   | He 's grown when it does __`n't`__ go well or __`exactly`__ perfect , or when something does __`n't`__ happen our way .                                                                                                                                                                                                      |\n",
      "| pcc_eng_22_098.4705_x1575203_17:14-16-17  | or               | exactly_sure      | call it honor , or been __`exactly`__ sure of how to describe                         | But , although I might __`not`__ have known to call it honor , or been __`exactly`__ sure of how to describe the gender , race , and class politics that inflect it , I had a sneaking suspicion that something more than my socioeconomic background or my gender stood in the way of my ever being like Dally or Ponyboy . |\n",
      "| pcc_eng_01_019.2732_x0295388_118:01-11-12 | some             | exactly_right     | Some of those calls that did __`n't`__ get called were __`exactly`__ right .          | Some of those calls that did __`n't`__ get called were __`exactly`__ right .                                                                                                                                                                                                                                                 |\n",
      "\n",
      "- *filtering rows...*\n",
      "  - regex parsing = True\n",
      "  - ✓ Applied filter: `token_str== n[o']t .* ever `\n",
      "  - ✓ Applied filter: `adv_form_lower==^ever$`\n",
      "  - ✓ Applied filter: `pattern==.*L$`\n",
      "\n",
      "### 6 random rows matching filter(s) from `input frame`\n",
      "\n",
      "| hit_id                                   | mir_form_lower   | bigram_lower     | text_window                                                                        | token_str                                                                                                                                                                                                                                                                                                                                                                                      |\n",
      "|:-----------------------------------------|:-----------------|:-----------------|:-----------------------------------------------------------------------------------|:-----------------------------------------------------------------------------------------------------------------------------------------------------------------------------------------------------------------------------------------------------------------------------------------------------------------------------------------------------------------------------------------------|\n",
      "| pcc_eng_11_083.0903_x1328650_1:25-26-27  | everyone         | ever_involved    | admittedly __`not`__ familiar with everyone __`ever`__ involved with the Wo W      | There are other items in the patch files that look to be named after certain individuals , but I 'm admittedly __`not`__ familiar with everyone __`ever`__ involved with the Wo W community , so I 'll leave it to you guys to let me know if I missed someone .                                                                                                                               |\n",
      "| pcc_eng_24_012.9287_x0192321_19:37-38-39 | everything       | ever_related     | attempt to do absolutely everything __`ever`__ related to desktop publishing all   | I 'm in that set of people who fondly remember Word 5.1 , and miss the days of having a word processor that was actually a word processor , __`not`__ an overblown attempt to do absolutely everything __`ever`__ related to desktop publishing all at once ( even Apple 's Pages , while far preferable to any post - 5.1 version of Word , is far more than just a simple word processor ) . |\n",
      "| nyt_eng_19950818_0506_53:14-17-18        | someone          | ever_likely      | liberals and surely __`not`__ someone who is __`ever`__ likely to be labeled a     | she is one of broadcasting 's last remaining flaming liberals and surely __`not`__ someone who is __`ever`__ likely to be labeled a girly-girl .                                                                                                                                                                                                                                               |\n",
      "| apw_eng_20080222_0028_15:35-39-40        | something        | ever_comfortable | but this is __`not`__ something the Times is __`ever`__ comfortable doing , '' New | `` From the looks of it , the paper is going to have to fight for its story -- and its ethics -- in the court of public opinion , but this is __`not`__ something the Times is __`ever`__ comfortable doing , '' New York University journalism professor Jay Rosen said in a posting on The Huffington Post , a widely read online forum .                                                    |\n",
      "| pcc_eng_14_006.0533_x0081779_21:11-12-13 | something        | ever_palpable    | taught , it is something __`ever`__ palpable , in classrooms throughout            | While love may __`not`__ be overtly taught , it is something __`ever`__ palpable , in classrooms throughout the world .                                                                                                                                                                                                                                                                        |\n",
      "| pcc_eng_10_005.9191_x0079566_10:6-7-8    | something        | ever_related     | anyone hates AARP and something __`ever`__ related to it , then                    | If anyone hates AARP and something __`ever`__ related to it , then it 's good to hear that they wo __`n't`__ ever __`ever`__ e-book an OAT journey , as a result of I would take one once more and I 'd hate to journey with somebody toting a grudge .                                                                                                                                        |\n",
      "\n",
      "- *filtering rows...*\n",
      "  - regex parsing = True\n",
      "  - ✓ Applied filter: `token_str== n[o']t .* ever `\n",
      "  - ✓ Applied filter: `adv_form_lower==^ever$`\n",
      "  - ✓ Applied filter: `pattern==.*R$`\n",
      "\n",
      "### 6 random rows matching filter(s) from `input frame`\n",
      "\n",
      "| hit_id                                    | mir_form_lower   | bigram_lower   | text_window                                                              | token_str                                                                                                                                                                                                                                                                                                                                                                                           |\n",
      "|:------------------------------------------|:-----------------|:---------------|:-------------------------------------------------------------------------|:----------------------------------------------------------------------------------------------------------------------------------------------------------------------------------------------------------------------------------------------------------------------------------------------------------------------------------------------------------------------------------------------------|\n",
      "| pcc_eng_12_100.4534_x1607108_11:58-61-62  | or               | ever_able      | market for your passion or that your __`ever`__ able to build a business | A lot of business advice tells you to find your passion and pursue it with the kind of persistence that is usually reserved for romantic relationships , but the truth of the matter is you can be passionate about a variety of different things but that does __`n't`__ mean that there 's a market for your passion or that your __`ever`__ able to build a business with that passion in mind . |\n",
      "| pcc_eng_19_040.0188_x0629578_10:36-38-39  | or               | ever_moral     | continue to be moral or were __`ever`__ moral to begin with .            | But I ca __`n't`__ help but feel that the moral thing for the show to do is to never let the viewer stop asking him or herself if Matt 's actions continue to be moral or were __`ever`__ moral to begin with .                                                                                                                                                                                     |\n",
      "| pcc_eng_24_055.5103_x0881451_09:37-40-41  | or               | ever_okay      | certain spurious results , or is it __`ever`__ okay ?                    | \" This book is about the gray zones , \" she says , \" like when is a data point worthy of inclusion or __`not`__ , when is it okay to overlook certain spurious results , or is it __`ever`__ okay ?                                                                                                                                                                                                 |\n",
      "| pcc_eng_05_050.0374_x0793434_13:40-42-43  | or               | ever_popular   | headed this way \" or the __`ever`__ popular \" regardless of whether      | The average Joe is busy driving to work , dealing with a petty boss and figuring out how he is going to pay his mortgage this month __`not`__ worrying on \" a very rainy mess headed this way \" or the __`ever`__ popular \" regardless of whether it gets a name we are in for bad weather \" sort of soundbites .                                                                                   |\n",
      "| pcc_eng_19_030.3108_x0473160_281:33-35-36 | or               | ever_popular   | fit him ? \" or the __`ever`__ popular , \" that dress                     | I should limit my comments to things like , \" where did he get that tie ?!?! \" or , \" could __`n't`__ he afford a suit that fit him ? \" or the __`ever`__ popular , \" that dress is horrible ! \"                                                                                                                                                                                                    |\n",
      "| pcc_eng_29_030.4867_x0475923_21:21-22-23  | or               | ever_vocal     | communication is __`not`__ guttural or __`ever`__ vocal ?                | Why would an alien have a name full of human vowels , when their mode of communication is __`not`__ guttural or __`ever`__ vocal ?                                                                                                                                                                                                                                                                  |\n",
      "\n",
      "- *filtering rows...*\n",
      "  - regex parsing = True\n",
      "  - ✓ Applied filter: `token_str== n[o']t .* necessarily `\n",
      "  - ✓ Applied filter: `adv_form_lower==^necessarily$`\n",
      "  - ✓ Applied filter: `pattern==.*L$`\n",
      "\n",
      "### 6 random rows matching filter(s) from `input frame`\n",
      "\n",
      "| hit_id                                    | mir_form_lower   | bigram_lower             | text_window                                                                         | token_str                                                                                                                                                                                                                                                                                                                                                                     |\n",
      "|:------------------------------------------|:-----------------|:-------------------------|:------------------------------------------------------------------------------------|:------------------------------------------------------------------------------------------------------------------------------------------------------------------------------------------------------------------------------------------------------------------------------------------------------------------------------------------------------------------------------|\n",
      "| nyt_eng_20040429_0030_4:10-13-14          | all              | necessarily_congruent    | of ambitions , __`not`__ all of them __`necessarily`__ congruent with one another . | TriBeCa clearly has a number of ambitions , __`not`__ all of them __`necessarily`__ congruent with one another .                                                                                                                                                                                                                                                              |\n",
      "| nyt_eng_20030413_0024_28:14-16-17         | someone          | necessarily_pop          | you 're __`not`__ expecting someone to __`necessarily`__ pop out of a window        | `` I think it could be very dangerous because you 're __`not`__ expecting someone to __`necessarily`__ pop out of a window as a sniper or a suicide bomber . ''                                                                                                                                                                                                               |\n",
      "| pcc_eng_22_076.0516_x1212971_110:22-23-24 | something        | necessarily_commendable  | as if that was something __`necessarily`__ commendable .                            | It is interesting how Bloom 's behaviour is being interpreted as \" __`not`__ politically correct \" , as if that was something __`necessarily`__ commendable .                                                                                                                                                                                                                 |\n",
      "| pcc_eng_14_043.6120_x0688460_092:11-12-13 | something        | necessarily_involved     | of being , but something __`necessarily`__ involved in all kinds and                | God is __`not`__ a special kind of being , but something __`necessarily`__ involved in all kinds and conditions of being .                                                                                                                                                                                                                                                    |\n",
      "| pcc_eng_23_010.0018_x0145294_374:23-24-25 | something        | necessarily_supernatural | does __`n't`__ relay on something __`necessarily`__ supernatural .                  | BEANYWOOD : That 's one of the things that I appreciated most about the movie , that it does __`n't`__ relay on something __`necessarily`__ supernatural .                                                                                                                                                                                                                    |\n",
      "| pcc_eng_17_008.1276_x0115288_17:10-11-12  | something        | necessarily_vivid        | , it is __`not`__ something __`necessarily`__ vivid and precise , but               | It is __`not`__ a fantasy , it is __`not`__ something __`necessarily`__ vivid and precise , but it functions as an anxious driver from within that forces attention and focus , that clamps onto your spinal column when you hear your child crying out in the night , makes you spin your head on a swivel when you hear an anonymous cry in the street ; is that my child ? |\n",
      "\n",
      "- *filtering rows...*\n",
      "  - regex parsing = True\n",
      "  - ✓ Applied filter: `token_str== n[o']t .* necessarily `\n",
      "  - ✓ Applied filter: `adv_form_lower==^necessarily$`\n",
      "  - ✓ Applied filter: `pattern==.*R$`\n",
      "\n",
      "### 6 random rows matching filter(s) from `input frame`\n",
      "\n",
      "| hit_id                                   | mir_form_lower   | bigram_lower           | text_window                                                                        | token_str                                                                                                                                                                                                                                                                                             |\n",
      "|:-----------------------------------------|:-----------------|:-----------------------|:-----------------------------------------------------------------------------------|:------------------------------------------------------------------------------------------------------------------------------------------------------------------------------------------------------------------------------------------------------------------------------------------------------|\n",
      "| pcc_eng_04_094.0512_x1503416_38:6-7-8    | or               | necessarily_accurate   | list is __`not`__ comprehensive or __`necessarily`__ accurate but it 's a          | My list is __`not`__ comprehensive or __`necessarily`__ accurate but it 's a good way to keep tabs on whats going on in the world of nanobrewing .                                                                                                                                                    |\n",
      "| pcc_eng_08_002.9893_x0032328_089:6-7-8   | or               | necessarily_fun        | methods are __`not`__ popular or __`necessarily`__ fun to enforce , but            | Those methods are __`not`__ popular or __`necessarily`__ fun to enforce , but very close supervision and the decision to remove the option of social media at this age would be a good start .                                                                                                        |\n",
      "| pcc_eng_21_029.5917_x0462226_35:29-30-31 | or               | necessarily_predictive | reflected on those tests or __`necessarily`__ predictive of later economic success | Reading and math test scores are predictive of economic success later in life , but __`not`__ everything we teach in reading and math is reflected on those tests or __`necessarily`__ predictive of later economic success .                                                                         |\n",
      "| pcc_eng_17_081.6290_x1303004_77:50-51-52 | or               | necessarily_productive | dog is __`not`__ appropriate or __`necessarily`__ productive .                     | While it may use up a lot of space in the book , all that explanation of how dogs and wolves are different ultimately helps us to fully understand why using the \" pack mentality \" and dominance approach to how one deals with their dog is __`not`__ appropriate or __`necessarily`__ productive . |\n",
      "| pcc_eng_07_084.6026_x1350878_12:09-10-11 | or               | necessarily_true       | think it 's fair or __`necessarily`__ true to many I know                          | I do __`n't`__ even think it 's fair or __`necessarily`__ true to many I know to use the phrase \" right- wing \" to label these ideas , as it 's more like \" nut-wing \" to me and at any extreme edge along a political compass .                                                                      |\n",
      "| pcc_eng_03_106.7755_x1712578_38:22-23-24 | or               | necessarily_untrained  | as you insinuated ) or __`necessarily`__ untrained .                               | I do __`n't`__ see anything in the OP 's post that said the dog was unattended ( as you insinuated ) or __`necessarily`__ untrained .                                                                                                                                                                 |\n",
      "\n",
      "- *filtering rows...*\n",
      "  - regex parsing = True\n",
      "  - ✓ Applied filter: `token_str== n[o']t .* yet `\n",
      "  - ✓ Applied filter: `adv_form_lower==^yet$`\n",
      "  - ✓ Applied filter: `pattern==.*L$`\n",
      "\n",
      "### 6 random rows matching filter(s) from `input frame`\n",
      "\n",
      "| hit_id                                    | mir_form_lower   | bigram_lower   | text_window                                                                       | token_str                                                                                                                                                                                                                                                                                                                                                        |\n",
      "|:------------------------------------------|:-----------------|:---------------|:----------------------------------------------------------------------------------|:-----------------------------------------------------------------------------------------------------------------------------------------------------------------------------------------------------------------------------------------------------------------------------------------------------------------------------------------------------------------|\n",
      "| pcc_eng_00_068.1007_x1084525_32:29-32-33  | something        | yet_appealing  | realm of fairies , something simple and __`yet`__ appealing to a younger audience | For light entertainment it 's okay , but then again the original book itself is __`n't`__ much else than a fantastic journey into the realm of fairies , something simple and __`yet`__ appealing to a younger audience , and if you do __`n't`__ care much for character development or heavy themes , it 's alright .                                          |\n",
      "| nyt_eng_20070107_0095_4:39-41-42          | something        | yet_available  | to Phoenix to get something __`not`__ yet available on the West Coast             | when more than a decade ago he moved into his previous home , in Coldwater Canyon , only to learn he could __`not`__ pick up a cable signal , he dispatched a production assistant to Phoenix to get something __`not`__ yet available on the West Coast : DirecTV .                                                                                             |\n",
      "| pcc_eng_08_045.0918_x0713586_39:63-65-66  | something        | yet_distinct   | to our reality , something abstract __`yet`__ distinct and relatable .            | I was torn on the gods : on one hand they are __`not`__ as meddling as Liu perhaps would have them be , while on the other they do a wonderful job of making the text epic -- of creating that proper distance from our reality to the reality of the story , and therefore also a mirror to our reality , something abstract __`yet`__ distinct and relatable . |\n",
      "| pcc_eng_21_056.6212_x0899253_115:45-47-48 | something        | yet_lovely     | indeed and give you something little __`yet`__ lovely to admire every spring      | If you are an admirer of Australian plants in general but do __`n't`__ have enough sunshine to grow the bigger sun-loving natives , a few pots of these beautiful little native orchids will fit into that semi-shaded spot very nicely indeed and give you something little __`yet`__ lovely to admire every spring .                                           |\n",
      "| pcc_eng_15_013.4718_x0201157_030:22-23-24 | something        | yet_unfinished | reason to believe that something __`yet`__ unfinished is coming for me            | Ken 's sticking around me , and he 's __`not`__ the idle type ; I have every reason to believe that something __`yet`__ unfinished is coming for me as a loose end , and Ken is using me as bait to get at it - and both of us know it .                                                                                                                         |\n",
      "| pcc_eng_03_097.9630_x1569987_08:07-10-11  | something        | yet_unknown    | not even begin until something ( still __`yet`__ unknown to us ) happens          | Evolution can __`not`__ even begin until something ( still __`yet`__ unknown to us ) happens first .                                                                                                                                                                                                                                                             |\n",
      "\n",
      "- *filtering rows...*\n",
      "  - regex parsing = True\n",
      "  - ✓ Applied filter: `token_str== n[o']t .* yet `\n",
      "  - ✓ Applied filter: `adv_form_lower==^yet$`\n",
      "  - ✓ Applied filter: `pattern==.*R$`\n",
      "\n",
      "### 6 random rows matching filter(s) from `input frame`\n",
      "\n",
      "| hit_id                                       | mir_form_lower   | bigram_lower     | text_window                                                                                       | token_str                                                                                                                                                                                                                                                                                                                                                                                                                                                                                                                                                                                                                                                                                                                                                                                                                                                                                                                                                                                                                                                              |\n",
      "|:---------------------------------------------|:-----------------|:-----------------|:--------------------------------------------------------------------------------------------------|:-----------------------------------------------------------------------------------------------------------------------------------------------------------------------------------------------------------------------------------------------------------------------------------------------------------------------------------------------------------------------------------------------------------------------------------------------------------------------------------------------------------------------------------------------------------------------------------------------------------------------------------------------------------------------------------------------------------------------------------------------------------------------------------------------------------------------------------------------------------------------------------------------------------------------------------------------------------------------------------------------------------------------------------------------------------------------|\n",
      "| nyt_eng_20060708_0187_22:05-09-10            | everyone         | yet_comfortable  | that does __`not`__ mean everyone in America is __`yet`__ comfortable with interracial marriage ; | that does __`not`__ mean everyone in America is __`yet`__ comfortable with interracial marriage ; it means the law affords them no remedy for their discomfort .                                                                                                                                                                                                                                                                                                                                                                                                                                                                                                                                                                                                                                                                                                                                                                                                                                                                                                       |\n",
      "| pcc_eng_07_026.0948_x0405987_45:28-30-31     | everyone         | yet_willing      | an investment that __`not`__ everyone is __`yet`__ willing to make .                              | Although those who buy Net Zero homes will never experience the stale home smell or the cold basement feeling again , it is an investment that __`not`__ everyone is __`yet`__ willing to make .                                                                                                                                                                                                                                                                                                                                                                                                                                                                                                                                                                                                                                                                                                                                                                                                                                                                       |\n",
      "| pcc_eng_08_027.0334_x0421722_05:10-16-17     | many             | yet_unknown      | for modern makers as many of these modern makers are __`yet`__ unknown to me .                    | I do __`n't`__ give values for modern makers as many of these modern makers are __`yet`__ unknown to me .                                                                                                                                                                                                                                                                                                                                                                                                                                                                                                                                                                                                                                                                                                                                                                                                                                                                                                                                                              |\n",
      "| pcc_eng_16_018.6265_x0285541_08628:07-10-11  | or               | yet_more         | your cruelty contented , or have I __`yet`__ more to suffer ?                                     | Is __`not`__ your cruelty contented , or have I __`yet`__ more to suffer ?                                                                                                                                                                                                                                                                                                                                                                                                                                                                                                                                                                                                                                                                                                                                                                                                                                                                                                                                                                                             |\n",
      "| pcc_eng_04_054.2382_x0859969_308:135-137-138 | or               | yet_undeveloped  | rights ( publically owned or as __`yet`__ undeveloped ) of effective use                          | Obviously , the crisis will be ensuring the stability of long-term and settled use of the land , for the moment that the power of the movement weakens , it is more than possible that the forces of nation -state and capital will take the opportunity to fight back , thus destroying previous gains ; and the critical factor in this respect will be whether or __`not`__ the movement will prove , under particular circumstances when the attributes of the nation ( class or other societies ) are in the movement 's favour , robust and efficacious enough to seize hold of such opportunity and transform itself into a resulting organisational structure and whether , through the process of national and legal legitimisation , the peasants will earn the lands rights ( publically owned or as __`yet`__ undeveloped ) of effective use for the purposes of their livelihoods ; and whether this demand can be extended and become a shared consciousness at the national , local , and global levels , is a question worthy of our further thought . |\n",
      "| pcc_eng_19_090.9902_x1454514_30:114-116-117  | or               | yet_unidentified | integrity of any surviving or as __`yet`__ unidentified archaeological remains associated with    | Key elements that contribute to the heritage character of the site include : - the original location of the Elizabeth and Mary wreck in the St. Lawrence River , on the seabed of Anse-aux - Bouleaux , __`not`__ far from Baie-Trinite , in the Cote - Nord region of Quebec ; - the continued association of the site with the collection of more than 4,000 perfectly preserved artifacts found during the dives which relate to the navigation , armament , food , clothing , hygiene and the living conditions of the expedition , removed for research , and in storage and on display to the public ; - the integrity of any surviving or as __`yet`__ unidentified archaeological remains associated with the wreck of the Elizabeth and Mary , which may be found within the site in their original placement and extent .                                                                                                                                                                                                                                    |\n"
     ]
    }
   ],
   "source": [
    "for adv in ['exactly', 'ever', 'necessarily', 'yet']:\n",
    "    for pat_suff in ['L', 'R']:\n",
    "        problems = sample_pickle(\n",
    "            data=pmir, sample_size=6, regex=True, print_sample=False,\n",
    "            filters=[f'token_str== {REGNOT} .* {adv} ',\n",
    "                    f'adv_form_lower==^{adv}$', \n",
    "                    f'pattern==.*{pat_suff}$'],\n",
    "            columns=['mir_form_lower', 'bigram_lower', 'text_window', 'token_str'],\n",
    "            sort_by='all_forms_lower')\n",
    "\n",
    "        show_sample(\n",
    "            problems.loc[problems.token_str.str.contains(f'{REGNOT}.*{adv}')].assign(\n",
    "                token_str=embolden(problems.token_str, f' ({REGNOT}|{adv}) '),\n",
    "                text_window=embolden(problems.text_window, f' ({REGNOT}|{adv}) ')\n",
    "            ),\n",
    "            format='pipe', limit_cols=False)"
   ]
  },
  {
   "cell_type": "markdown",
   "metadata": {},
   "source": [
    "- This could be dealt with by modifying the patterns (i.e. the `WITHOUT` clauses specifically) and rerunning everything, but\n",
    "  1. There's no telling how long that would take \n",
    "  2. verifying its accuracy is difficult\n",
    "  3. even with 100% accurate patterns for *correct* parses, there is no way to prevent or really even predict all possible *mis*parses\n",
    "- So there is a better way: \n",
    "  \n",
    "  The preponderance of positive data provides a large margin for additional data exclusions without unbalancing the samples---in fact, \n",
    "  it actually brings `[POSMIR,f1]` _closer_ to the negative sample size, `[NEGMIR, f1]`.\n",
    "\n",
    "  Therefore, it is possible to simply drop anything with a likely negation preceding the bigram, \n",
    "  regardless of the polarity environment the particular syntactic configuration creates, and call it a day.\n"
   ]
  },
  {
   "cell_type": "code",
   "execution_count": 13,
   "metadata": {},
   "outputs": [],
   "source": [
    "pmir['adv_index'] = pd.to_numeric(pmir.index.to_series().str.split(':').str.get(-1).apply(lambda i: re.search(r'-(\\d+)-', i).group().strip('-')), downcast='unsigned')\n",
    "pmir['preceding_text'] = pmir.apply(lambda x: ' '.join(x.token_str.split()[:x.adv_index - 1]), axis='columns').astype('string')"
   ]
  },
  {
   "cell_type": "code",
   "execution_count": 14,
   "metadata": {},
   "outputs": [
    {
     "name": "stdout",
     "output_type": "stream",
     "text": [
      "+------------------------+------------------------------------------+----------------------+---------------------------------------------------------+\n",
      "| hit_id                 | preceding_text                           | bigram_lower         | token_str                                               |\n",
      "+========================+==========================================+======================+=========================================================+\n",
      "| pcc_eng_06_009.0943_x0 | There 's just something                  | so_solid             | There 's just something so solid , so comforting about  |\n",
      "| 130776_7:4-5-6         |                                          |                      | a piping hot flaky disc which conceals a tender and     |\n",
      "|                        |                                          |                      | buttery crumb .                                         |\n",
      "+------------------------+------------------------------------------+----------------------+---------------------------------------------------------+\n",
      "| nyt_eng_20100804_0062_ | in the Harlem store , popular brands     | conspicuously_absent | in the Harlem store , popular brands like JK Jemma Kidd |\n",
      "| 34:24-25-26            | like JK Jemma Kidd , Napoleon Perdis '   |                      | , Napoleon Perdis ' NP Set and Petra Strand 's Pixi     |\n",
      "|                        | NP Set and Petra Strand 's Pixi were all |                      | were all conspicuously absent .                         |\n",
      "+------------------------+------------------------------------------+----------------------+---------------------------------------------------------+\n",
      "| pcc_eng_01_037.2456_x0 | I am suggesting there is something       | vitally_important    | I am suggesting there is something vitally important    |\n",
      "| 585508_17:6-7-8        |                                          |                      | about the experience of being in environments where     |\n",
      "|                        |                                          |                      | loss and hardship are out in the open , where the need  |\n",
      "|                        |                                          |                      | for individual courage and collective solidarity is     |\n",
      "|                        |                                          |                      | painfully obvious .                                     |\n",
      "+------------------------+------------------------------------------+----------------------+---------------------------------------------------------+\n",
      "| pcc_eng_20_087.3033_x1 | It is true that HAL goes on to begin     | more_human           | It is true that HAL goes on to begin murdering the crew |\n",
      "| 394229_096:23-25-26    | murdering the crew of Discovery , but on |                      | of Discovery , but on some level this makes him all the |\n",
      "|                        | some level this makes him all the        |                      | more human .                                            |\n",
      "+------------------------+------------------------------------------+----------------------+---------------------------------------------------------+\n",
      "| pcc_eng_18_019.9011_x0 | All                                      | very_nice            | All very nice , you might say , but what about the cost |\n",
      "| 305893_19:1-2-3        |                                          |                      | ?                                                       |\n",
      "+------------------------+------------------------------------------+----------------------+---------------------------------------------------------+\n"
     ]
    }
   ],
   "source": [
    "show_sample(pmir[['preceding_text', 'bigram_lower', 'token_str']].sample(5))"
   ]
  },
  {
   "cell_type": "code",
   "execution_count": 15,
   "metadata": {},
   "outputs": [
    {
     "name": "stdout",
     "output_type": "stream",
     "text": [
      "| hit_id                                    | preceding_text                                                                                                                             | bigram_lower     | token_str                                                                                                                                                                     |\n",
      "|:------------------------------------------|:-------------------------------------------------------------------------------------------------------------------------------------------|:-----------------|:------------------------------------------------------------------------------------------------------------------------------------------------------------------------------|\n",
      "| pcc_eng_15_088.6009_x1415991_30:4-5-6     | Has she done something                                                                                                                     | so_egregious     | Has she done something so egregious that it warrants such venomous comments ?                                                                                                 |\n",
      "| pcc_eng_15_006.3691_x0086627_053:16-18-19 | For many locals , it was also the first big trip to this region and everyone was                                                           | very_excited     | For many locals , it was also the first big trip to this region and everyone was very excited and happy .                                                                     |\n",
      "| pcc_eng_26_106.7456_x1709931_13:6-7-8     | But something like this -- something                                                                                                       | so_unexpected    | But something like this -- something so unexpected , so final -- makes the reality of the situation a little clearer than the romantic ideal .                                |\n",
      "| pcc_eng_26_026.5146_x0412213_11:4-6-7     | These shows are all the                                                                                                                    | more_impressive  | These shows are all the more impressive considering the relative creative constraints under which previous generations of TV writers labored .                                |\n",
      "| pcc_eng_21_062.5818_x0995326_21:28-29-30  | When it 's actually art and not just some toy scribbling their initials as fast as they can , I do think it is capable of adding something | really_wonderful | When it 's actually art and not just some toy scribbling their initials as fast as they can , I do think it is capable of adding something really wonderful to public space . |\n"
     ]
    }
   ],
   "source": [
    "show_sample(pmir[['preceding_text', 'bigram_lower', 'token_str']].sample(5), format='pipe')"
   ]
  },
  {
   "cell_type": "code",
   "execution_count": 28,
   "metadata": {},
   "outputs": [
    {
     "name": "stderr",
     "output_type": "stream",
     "text": [
      "/tmp/ipykernel_28020/1348533305.py:1: UserWarning: This pattern is interpreted as a regular expression, and has match groups. To actually get the groups, use str.extract.\n",
      "  pmir['after_neg'] = pmir.preceding_text.str.lower().str.contains(r\"\\b(no|n[o']t|no(body| one|thing|where)|(rare|scarce|bare|hard)ly|without|never)\\b\", regex=True)\n"
     ]
    },
    {
     "name": "stdout",
     "output_type": "stream",
     "text": [
      "+------------------------+------------------------------------------+------------------------+---------------------------------------------------------+\n",
      "| hit_id                 | preceding_text                           | bigram_lower           | token_str                                               |\n",
      "+========================+==========================================+========================+=========================================================+\n",
      "| pcc_eng_02_104.3362_x1 | I found that the mood on this album was  | too_mournful           | I found that the mood on this album was consistent      |\n",
      "| 671023_332:17-18-19    | consistent throughout , never becoming   |                        | throughout , never becoming too uplifting or too        |\n",
      "|                        | too uplifting or                         |                        | mournful , but steady and very revealing , almost       |\n",
      "|                        |                                          |                        | meditative .                                            |\n",
      "+------------------------+------------------------------------------+------------------------+---------------------------------------------------------+\n",
      "| pcc_eng_14_099.6160_x1 | \" We 've competed in Nationals so it 's  | completely_new         | \" We 've competed in Nationals so it 's not something   |\n",
      "| 594081_09:11-12-13     | not something                            |                        | completely new , but it is weird , especially at a dual |\n",
      "|                        |                                          |                        | meet . \"                                                |\n",
      "+------------------------+------------------------------------------+------------------------+---------------------------------------------------------+\n",
      "| pcc_eng_17_072.3109_x1 | I 've been working with Guy Viner and    | more_crazy             | I 've been working with Guy Viner and until now I am    |\n",
      "| 152357_10:21-22-23     | until now I am not really sure if he is  |                        | not really sure if he is more talented or more crazy .  |\n",
      "|                        | more talented or                         |                        |                                                         |\n",
      "+------------------------+------------------------------------------+------------------------+---------------------------------------------------------+\n",
      "| pcc_eng_15_063.7716_x1 | Those who had a supportive work          | more_satisfied         | Those who had a supportive work environment felt they   |\n",
      "| 013972_17:22-23-24     | environment felt they did not have to go |                        | did not have to go to work when ill , and were both     |\n",
      "|                        | to work when ill , and were both         |                        | more satisfied with their jobs and healthier . \"        |\n",
      "+------------------------+------------------------------------------+------------------------+---------------------------------------------------------+\n",
      "| pcc_eng_21_084.9338_x1 | Playing live blackjack all day and       | more_profitable        | Playing live blackjack all day and everyday has never   |\n",
      "| 356731_02:12-13-14     | everyday has never been easier or        |                        | been easier or more profitable than it is at Global     |\n",
      "|                        |                                          |                        | Live Casino .                                           |\n",
      "+------------------------+------------------------------------------+------------------------+---------------------------------------------------------+\n",
      "| pcc_eng_15_050.8072_x0 | \" We did not file any document and we    | not_true               | \" We did not file any document and we are not saying    |\n",
      "| 805216_14:17-18-19     | are not saying that it 's true or        |                        | that it 's true or not true , \" he said .               |\n",
      "+------------------------+------------------------------------------+------------------------+---------------------------------------------------------+\n",
      "| pcc_eng_21_078.0603_x1 | Sekulow referenced when Israeli Prime    | more_heroic            | Sekulow referenced when Israeli Prime Minister Ben      |\n",
      "| 245291_14:40-41-42     | Minister Ben Gurion eulogized the        |                        | Gurion eulogized the defenders of Gush Etzion in 1948 , |\n",
      "|                        | defenders of Gush Etzion in 1948 , \" I   |                        | \" I can think of no battle in the annals of the Israel  |\n",
      "|                        | can think of no battle in the annals of  |                        | Defense Forces which was more magnificent , more tragic |\n",
      "|                        | the Israel Defense Forces which was more |                        | or more heroic than the struggle for Gush Etzion ...    |\n",
      "|                        | magnificent , more tragic or             |                        |                                                         |\n",
      "+------------------------+------------------------------------------+------------------------+---------------------------------------------------------+\n",
      "| pcc_eng_14_064.8076_x1 | I guess Orkut is n't a major priority    | more_exciting          | I guess Orkut is n't a major priority for Google but it |\n",
      "| 031245_17:34-35-36     | for Google but it has a large user base  |                        | has a large user base and it would be a shame if they   |\n",
      "|                        | and it would be a shame if they turned   |                        | turned their backs on Orkut and looked for something    |\n",
      "|                        | their backs on Orkut and looked for      |                        | more exciting .                                         |\n",
      "|                        | something                                |                        |                                                         |\n",
      "+------------------------+------------------------------------------+------------------------+---------------------------------------------------------+\n",
      "| pcc_eng_11_012.6811_x0 | Dr. Ebbing Lautenbach , chief of the     | actually_inappropriate | Dr. Ebbing Lautenbach , chief of the infectious         |\n",
      "| 188835_25:24-29-30     | infectious diseases division at the      |                        | diseases division at the University of Pennsylvania ,   |\n",
      "|                        | University of Pennsylvania , agreed the  |                        | agreed the study ca n't show whether all of the         |\n",
      "|                        | study ca n't show whether all of the     |                        | prescriptions were actually inappropriate .             |\n",
      "|                        | prescriptions were                       |                        |                                                         |\n",
      "+------------------------+------------------------------------------+------------------------+---------------------------------------------------------+\n",
      "| pcc_eng_00_025.2926_x0 | You never know if it 's a tight race     | completely_nonsensical | You never know if it 's a tight race what 's gonna come |\n",
      "| 392803_079:18-19-20    | what 's gonna come out it could be       |                        | out it could be something completely nonsensical but .  |\n",
      "|                        | something                                |                        |                                                         |\n",
      "+------------------------+------------------------------------------+------------------------+---------------------------------------------------------+\n"
     ]
    }
   ],
   "source": [
    "pmir['after_neg'] = pmir.preceding_text.str.lower().str.contains(r\"\\b(no|n[o']t|no(body| one|thing|where)|(rare|scarce|bare|hard)ly|without|never)\\b\", regex=True)\n",
    "show_sample(pmir.loc[pmir.after_neg, ['preceding_text', 'bigram_lower', 'token_str']].sample(10))"
   ]
  },
  {
   "cell_type": "code",
   "execution_count": 29,
   "metadata": {},
   "outputs": [
    {
     "name": "stdout",
     "output_type": "stream",
     "text": [
      "| hit_id                                    | preceding_text                                                                                                                                                                                                                                                                                  | bigram_lower        | token_str                                                                                                                                                                                                                                                                                                                                                                   |\n",
      "|:------------------------------------------|:------------------------------------------------------------------------------------------------------------------------------------------------------------------------------------------------------------------------------------------------------------------------------------------------|:--------------------|:----------------------------------------------------------------------------------------------------------------------------------------------------------------------------------------------------------------------------------------------------------------------------------------------------------------------------------------------------------------------------|\n",
      "| pcc_eng_11_013.8090_x0207020_504:12-13-14 | In this middle - of- nowhere land , the Kungsleden is sometimes                                                                                                                                                                                                                                 | hardly_more         | In this middle - of- nowhere land , the Kungsleden is sometimes hardly more than a nervous groove cut through the thin topsoil , or a strip of exposed stones with occasional cairns , like lighthouses in a wide green sea .                                                                                                                                               |\n",
      "| pcc_eng_04_004.9211_x0063505_40:25-26-27  | It does __`n't`__ help that the scene where Alex comes to have dinner with the Bravermans is kinda silly , what with him being all                                                                                                                                                              | impossibly_virtuous | It does n't help that the scene where Alex comes to have dinner with the Bravermans is kinda silly , what with him being all impossibly virtuous and Adam always seeming like he 's going to punch the kid , but then looking as if he 's tremendously moved by his plight or something .                                                                                   |\n",
      "| pcc_eng_12_069.0750_x1100093_14:08-09-10  | It does __`n't`__ take a great imagination or                                                                                                                                                                                                                                                   | much_more           | It does n't take a great imagination or much more than a B-level technothriller writer to see where that has the potential to go , especially when the neighbors are nations like Turkey ( dealing with a forced secularization of the world 's most militant Islamic nation ) and Saudi Arabia ( where an entire population smolders under a brutal medieval theocracy ) . |\n",
      "| pcc_eng_02_004.3866_x0054663_041:61-62-63 | Let us try __`not`__ to snicker over trivia : that the man 's name is also the name of the least stylish of all hair styles , and that in the mug shots we see that , to a man , they would all benefit immensely from the services of a skilled barber , because their hair and beards are all | as_ugly             | Let us try not to snicker over trivia : that the man 's name is also the name of the least stylish of all hair styles , and that in the mug shots we see that , to a man , they would all benefit immensely from the services of a skilled barber , because their hair and beards are all as ugly as so many mud fences .                                                   |\n",
      "| nyt_eng_19980223_0317_6:10-20-21          | it 's __`not`__ always like that , but too often the image of a rude and arrogant press is                                                                                                                                                                                                      | more_accurate       | it 's not always like that , but too often the image of a rude and arrogant press is more accurate than many of us would like to admit .                                                                                                                                                                                                                                    |\n",
      "| pcc_eng_27_061.3710_x0975760_07:17-18-19  | We also se the latest machinery in the cleaning industry therefore __`no`__ job is too small or                                                                                                                                                                                                 | too_big             | We also se the latest machinery in the cleaning industry therefore no job is too small or too big for us , Abalandi Holdings believes in leaving the client happy and with that its retention and an ongoing relationship , Your pocket is our concern as we will tailor a service that meets your budget .                                                                 |\n"
     ]
    }
   ],
   "source": [
    "some_neg_ex = pmir.loc[pmir.after_neg, ['preceding_text', 'bigram_lower', 'token_str']].sample(6)\n",
    "show_sample(some_neg_ex.assign(\n",
    "    preceding_text=embolden(some_neg_ex.preceding_text, \n",
    "                            f' ({REGNOT}|nobody|nothing|never|none|no) ')\n",
    "    ), format='pipe')"
   ]
  },
  {
   "cell_type": "code",
   "execution_count": 31,
   "metadata": {},
   "outputs": [
    {
     "name": "stdout",
     "output_type": "stream",
     "text": [
      "* $1,434,420$ tokens in `POSmirror` hits not preceded by negation\n",
      "  > - I.e. what would remain if _all_ potential contaminants were excluded\n",
      "  > - _241,081_ potential exclusions\n",
      "* $285,435$ tokens in `NEGmirror` hits\n",
      "* Remaining Sample Size Discrepancy: $1,148,985$\n"
     ]
    }
   ],
   "source": [
    "print(f'* ${pmir.after_neg.value_counts()[False]:,}$ tokens in `POSmirror` hits not preceded by negation')\n",
    "print('  > - I.e. what would remain if _all_ potential contaminants were excluded')\n",
    "print(f'  > - _{pmir.after_neg.value_counts()[True]:,}_ potential exclusions')\n",
    "print(f'* ${len(nmir):,}$ tokens in `NEGmirror` hits')\n",
    "print(f'* Remaining Sample Size Discrepancy: ${pmir.after_neg.value_counts()[False] - len(nmir):,}$')"
   ]
  },
  {
   "cell_type": "markdown",
   "metadata": {},
   "source": [
    "_Without considering any upper case_\n",
    "* ~~__1,457,913__ tokens in `POSmirror` hits not preceded by negation~~\n",
    "    * ~~I.e. what would remain if _all_ potential contaminants were excluded~~\n",
    "    * ~~_217,588_ potential exclusions~~\n",
    "---\n",
    "_Without considering fully upper case triggers_\n",
    "* ~~__1,460,126__ tokens in `POSmirror` hits not preceded by negation~~\n",
    "  * ~~I.e. what would remain if _all_ potential contaminants were excluded~~\n",
    "  * ~~_215,375_ potential exclusions~~\n",
    "---\n",
    "_Normalized for case first, but not catching negation at very end of preceding text (no whitespace following)_\n",
    "* ~~**1,459,568** tokens in `POSmirror` hits not preceded by negation~~\n",
    "  > - ~~I.e. what would remain if _all_ potential contaminants were excluded~~\n",
    "  > - ~~_215,933_ potential exclusions~~\n",
    "* ~~Updated difference in hit subtotals: **1,174,133**~~\n",
    "* $285,435$ tokens in `NEGmirror` hits\n",
    "---\n",
    "**_Fixed to catch even `preceding_text` final negative triggers_**\n",
    "* ~~**1,455,547** tokens in `POSmirror` hits not preceded by negation~~\n",
    "  > - ~~I.e. what would remain if _all_ potential contaminants were excluded~~\n",
    "  > - ~~_219,954_ potential exclusions~~\n",
    "* $285,435$ tokens in `NEGmirror` hits\n",
    "* ~~Remaining Sample Size Discrepancy: **1,170,112**~~\n",
    "---\n",
    "**Strengthened even furthre to catch negative adverbs and \"without\" and triggers at the _beginning_ of the `preceding_text`**\n",
    "* $1,434,420$ tokens in `POSmirror` hits not preceded by negation\n",
    "  > - I.e. what would remain if _all_ potential contaminants were excluded\n",
    "  > - _241,081_ potential exclusions\n",
    "* $285,435$ tokens in `NEGmirror` hits\n",
    "* Remaining Sample Size Discrepancy: $1,148,985$\n"
   ]
  },
  {
   "cell_type": "code",
   "execution_count": 85,
   "metadata": {},
   "outputs": [
    {
     "name": "stdout",
     "output_type": "stream",
     "text": [
      "<class 'pandas.core.frame.DataFrame'>\n",
      "Index: 1434420 entries, apw_eng_19941111_0004_1:14-15-16 to pcc_eng_val_3.11253_x52703_07:08-10-11\n",
      "Data columns (total 21 columns):\n",
      " #   Column           Non-Null Count    Dtype   \n",
      "---  ------           --------------    -----   \n",
      " 0   adv_form         1434420 non-null  category\n",
      " 1   adj_form         1434420 non-null  category\n",
      " 2   text_window      1434420 non-null  string  \n",
      " 3   bigram_id        1434420 non-null  category\n",
      " 4   token_str        1434420 non-null  string  \n",
      " 5   mir_deprel       1434420 non-null  category\n",
      " 6   mir_head         1434420 non-null  category\n",
      " 7   mir_lemma        1434420 non-null  category\n",
      " 8   adv_lemma        1434420 non-null  category\n",
      " 9   adj_lemma        1434420 non-null  category\n",
      " 10  mir_form         1434420 non-null  category\n",
      " 11  mir_form_lower   1434420 non-null  category\n",
      " 12  adv_form_lower   1434420 non-null  category\n",
      " 13  adj_form_lower   1434420 non-null  category\n",
      " 14  bigram_lower     1434420 non-null  category\n",
      " 15  all_forms_lower  1434420 non-null  category\n",
      " 16  pattern          1434420 non-null  category\n",
      " 17  category         1434420 non-null  category\n",
      " 18  prev_form_lower  1434420 non-null  category\n",
      " 19  adv_index        1434420 non-null  uint8   \n",
      " 20  preceding_text   1434420 non-null  string  \n",
      "dtypes: category(17), string(3), uint8(1)\n",
      "memory usage: 1.0 GB\n"
     ]
    }
   ],
   "source": [
    "enforced_pos= pmir.loc[~pmir.after_neg, :'preceding_text']\n",
    "enforced_pos.info()"
   ]
  },
  {
   "cell_type": "code",
   "execution_count": 89,
   "metadata": {},
   "outputs": [
    {
     "name": "stdout",
     "output_type": "stream",
     "text": [
      "\n",
      "- *filtering rows...*\n",
      "  - regex parsing = False\n",
      "  - ✓ Applied filter: `adv_form_lower==exactly`\n",
      "\n",
      "### 10 random rows matching filter(s) from `input frame`\n",
      "\n",
      "+------------------------+--------------------------+--------------------------------------------------------------+\n",
      "| hit_id                 | all_forms_lower          | token_str                                                    |\n",
      "+========================+==========================+==============================================================+\n",
      "| pcc_eng_09_044.5386_x0 | all_exactly_right        | All that is __`exactly`__ right , because deciding on a      |\n",
      "| 704486_15:1-4-5        |                          | university is often the first really major decision of a     |\n",
      "|                        |                          | young adult 's life .                                        |\n",
      "+------------------------+--------------------------+--------------------------------------------------------------+\n",
      "| pcc_eng_10_096.0405_x1 | all_exactly_identical    | The doors were evenly spaced from one another , and they     |\n",
      "| 536500_662:13-14-15    |                          | were all __`exactly`__ identical .                           |\n",
      "+------------------------+--------------------------+--------------------------------------------------------------+\n",
      "| pcc_eng_11_014.7695_x0 | or_exactly_diligent      | The cloths representing the flag , ' ' palace of governador  |\n",
      "| 222721_006:30-31-32    |                          | ' ' , the incorporation of people of positions of the        |\n",
      "|                        |                          | governmental apparatus , status in the society or            |\n",
      "|                        |                          | __`exactly`__ diligent as they themselves that are           |\n",
      "|                        |                          | incorporating for example ' ' driver of caminho ' ' - , the  |\n",
      "|                        |                          | egg in the head of the statue representing the hat used for  |\n",
      "|                        |                          | the governors , everything following the same ' ' protocolo  |\n",
      "|                        |                          | ' ' of the colonizadores .                                   |\n",
      "+------------------------+--------------------------+--------------------------------------------------------------+\n",
      "| pcc_eng_12_107.08000_x | or_exactly_equivalent    | DON'T FENCEMEIN : Nearly the size of Manhattan Island ( or   |\n",
      "| 1726258_109:11-12-13   |                          | __`exactly`__ equivalent to the square mileage of the City   |\n",
      "|                        |                          | of Santa Barbara ) , the \" Hanson Ranch \" was pieced         |\n",
      "|                        |                          | together slowly by Louise Hanson starting in 1972 and        |\n",
      "|                        |                          | eventually grew to include eight previously individual       |\n",
      "|                        |                          | properties that span much of the land between Highway 1 and  |\n",
      "|                        |                          | Route 246 and Highway 101 .                                  |\n",
      "+------------------------+--------------------------+--------------------------------------------------------------+\n",
      "| pcc_eng_14_100.6183_x1 | all_exactly_alike        | We visited the workrooms at Redwing Pottery in Redwing ,     |\n",
      "| 610324_19:40-41-42     |                          | Minnesota once and watched the whole process , but the best  |\n",
      "|                        |                          | part was a single potter throwing the same pot , on a wheel  |\n",
      "|                        |                          | , one after another , all __`exactly`__ alike except not     |\n",
      "|                        |                          | somehow .                                                    |\n",
      "+------------------------+--------------------------+--------------------------------------------------------------+\n",
      "| pcc_eng_16_035.7224_x0 | all_exactly_right        | All of those are __`exactly`__ right !                       |\n",
      "| 561972_51:1-5-6        |                          |                                                              |\n",
      "+------------------------+--------------------------+--------------------------------------------------------------+\n",
      "| pcc_eng_23_061.1887_x0 | everything_exactly_right | Recently , I saw the power of open in action -- and it both  |\n",
      "| 972433_016:23-29-30    |                          | broke my heart and made me feel like everything our team had |\n",
      "|                        |                          | done was __`exactly`__ right .                               |\n",
      "+------------------------+--------------------------+--------------------------------------------------------------+\n",
      "| pcc_eng_24_012.7792_x0 | all_exactly_alike        | how could we all get along if we were all __`exactly`__      |\n",
      "| 189980_12:10-11-12     |                          | alike ?                                                      |\n",
      "+------------------------+--------------------------+--------------------------------------------------------------+\n",
      "| pcc_eng_24_013.4738_x0 | both_exactly_alike       | I married a lady , with whom I lived very happily , but ,    |\n",
      "| 201045_009:76-78-79    |                          | being obliged to go to Epidamnum , I was detained there by   |\n",
      "|                        |                          | my business six months , and then , finding I should be      |\n",
      "|                        |                          | obliged to stay some time longer , I sent for my wife , who  |\n",
      "|                        |                          | , as soon as she arrived , was brought to bed of two sons ,  |\n",
      "|                        |                          | and what was very strange , they were both so __`exactly`__  |\n",
      "|                        |                          | alike that it was impossible to distinguish the one from the |\n",
      "|                        |                          | other .                                                      |\n",
      "+------------------------+--------------------------+--------------------------------------------------------------+\n",
      "| pcc_eng_28_074.0381_x1 | or_exactly_identical     | Witnesses ' statements conflict or are __`exactly`__         |\n",
      "| 181327_16:5-7-8        |                          | identical to the employee 's ;                               |\n",
      "+------------------------+--------------------------+--------------------------------------------------------------+\n"
     ]
    }
   ],
   "source": [
    "adv = 'exactly'\n",
    "new_exactly_ex = sample_pickle(\n",
    "    data=enforced_pos,\n",
    "    print_sample=False, sample_size=10,\n",
    "    columns=['all_forms_lower', 'token_str'],\n",
    "    filters=[f'adv_form_lower=={adv}'],\n",
    ")\n",
    "\n",
    "show_sample(new_exactly_ex.assign(token_str=embolden(new_exactly_ex.token_str, r' (exactly) ')))"
   ]
  },
  {
   "cell_type": "code",
   "execution_count": 90,
   "metadata": {},
   "outputs": [
    {
     "name": "stdout",
     "output_type": "stream",
     "text": [
      "\n",
      "- *filtering rows...*\n",
      "  - regex parsing = False\n",
      "  - ✓ Applied filter: `adv_form_lower==exactly`\n",
      "  - ✓ Applied filter: `pattern==pos-mirror-R`\n",
      "\n",
      "### 8 random rows matching filter(s) from `input frame`\n",
      "\n",
      "| hit_id                                    | all_forms_lower             | text_window                                                                                                                 | token_str                                                                                                                                                                                                                                                                                                                     |\n",
      "|:------------------------------------------|:----------------------------|:----------------------------------------------------------------------------------------------------------------------------|:------------------------------------------------------------------------------------------------------------------------------------------------------------------------------------------------------------------------------------------------------------------------------------------------------------------------------|\n",
      "| pcc_eng_07_074.2182_x1183280_143:23-28-29 | everything_exactly_accurate | came across this and everything you have said is __`exactly`__ accurate to what I have                                      | I 'm 3 days into my split and would be in some serious agony at night so I came across this and everything you have said is __`exactly`__ accurate to what I have experienced / am experiencing .                                                                                                                             |\n",
      "| pcc_eng_17_017.7709_x0271342_22:53-59-60  | or_exactly_alike            | they came from , or why their genetic structure is __`exactly`__ alike .                                                    | The clones look alike but all have different personalities -- so far there 's a soccer mom , a hippie science nerd , a Russian spitfire , and a cop , all played brilliantly by the Canadian actress Tatiana Maslany - - but none of them know where they came from , or why their genetic structure is __`exactly`__ alike . |\n",
      "| pcc_eng_29_041.8913_x0660527_20:09-10-11  | all_exactly_alike           | Man Whose Teeth Were All Exactly Alike I have is hardcover                                                                  | The edition of The Man Whose Teeth Were All Exactly Alike I have is hardcover , published by Tor Books , posthumously by Mr. Dick 's estate in 1984 .                                                                                                                                                                         |\n",
      "| pcc_eng_07_002.9468_x0031350_128:19-20-21 | or_exactly_equal            | or less than n or __`exactly`__ equal to n .                                                                                | The total value of all pips in a spell must be greater than n or less than n or __`exactly`__ equal to n .                                                                                                                                                                                                                    |\n",
      "| pcc_eng_00_044.4965_x0702889_30:09-12-13  | or_exactly_identical        | now effectively infinite ( or at least __`exactly`__ identical to the entire corpus                                         | My record collection is now effectively infinite ( or at least __`exactly`__ identical to the entire corpus of recorded music ) but that does n't mean I want it all on a hard drive in my house .                                                                                                                            |\n",
      "| pcc_eng_21_034.0405_x0534239_002:1-3-4    | or_exactly_more             | Or more __`exactly`__ more of a private ideological                                                                         | Or more __`exactly`__ more of a private ideological ( provided it is the right one ) entrepreneur driven program .                                                                                                                                                                                                            |\n",
      "| pcc_eng_01_007.5031_x0105039_16:01-17-18  | everything_exactly_right    | Everything from the frieze boards on the exterior to the window trim on the interior is __`exactly`__ right for the space . | Everything from the frieze boards on the exterior to the window trim on the interior is __`exactly`__ right for the space .                                                                                                                                                                                                   |\n",
      "| pcc_eng_15_031.9549_x0500468_154:1-2-3    | all_exactly_wrong           | All __`exactly`__ wrong for the start of                                                                                    | All __`exactly`__ wrong for the start of the mass , I would suggest .                                                                                                                                                                                                                                                         |\n",
      "\n",
      "- *filtering rows...*\n",
      "  - regex parsing = False\n",
      "  - ✓ Applied filter: `adv_form_lower==exactly`\n",
      "  - ✓ Applied filter: `pattern==pos-mirror-L`\n",
      "\n",
      "### 8 random rows matching filter(s) from `input frame`\n",
      "\n",
      "| hit_id                                    | all_forms_lower            | text_window                                                                   | token_str                                                                                                                                                                   |\n",
      "|:------------------------------------------|:---------------------------|:------------------------------------------------------------------------------|:----------------------------------------------------------------------------------------------------------------------------------------------------------------------------|\n",
      "| pcc_eng_05_069.4747_x1107978_086:1-2-3    | everybody_exactly_alike    | Everybody __`exactly`__ alike . \"                                             | Everybody __`exactly`__ alike . \"                                                                                                                                           |\n",
      "| pcc_eng_06_038.9890_x0614425_107:3-6-7    | all_exactly_alike          | They are all of them __`exactly`__ alike , and there is                       | They are all of them __`exactly`__ alike , and there is not one of them can be eaten .                                                                                      |\n",
      "| pcc_eng_01_028.2684_x0440942_22:23-24-25  | everyone_exactly_alike     | keys or surfaces , everyone __`exactly`__ alike .                             | All we have is typewriting : a series of gestures that are always the same - taps on keys or surfaces , everyone __`exactly`__ alike .                                      |\n",
      "| pcc_eng_04_104.1453_x1666254_08:20-21-22  | something_exactly_opposite | say that somebody said something __`exactly`__ opposite to what they actually | misrepresentation is the kind of thing you and Goerzen do where you outright lie and say that somebody said something __`exactly`__ opposite to what they actually said . > |\n",
      "| pcc_eng_15_106.5980_x1707092_015:16-17-18 | something_exactly_related  | , you offered them something __`exactly`__ related to the post they           | What if , instead of pointing visitors to a semi-related resource , you offered them something __`exactly`__ related to the post they just read ?                           |\n",
      "| pcc_eng_01_090.6691_x1449922_24:1-2-3     | everything_exactly_same    | Everything __`exactly`__ same , minimum 290 people                            | Everything __`exactly`__ same , minimum 290 people dead .                                                                                                                   |\n",
      "| pcc_eng_11_064.7133_x1031125_24:1-2-3     | everything_exactly_same    | Everything __`exactly`__ same , minimum two hundred                           | Everything __`exactly`__ same , minimum two hundred ninety people dead .                                                                                                    |\n",
      "| pcc_eng_08_106.0266_x1700594_12:1-2-3     | everything_exactly_same    | Everything __`exactly`__ same , minimum 290 people                            | Everything __`exactly`__ same , minimum 290 people dead .                                                                                                                   |\n"
     ]
    }
   ],
   "source": [
    "for pat_suff in ['R', 'L']:\n",
    "    new_exactly_ex = sample_pickle(\n",
    "        data=enforced_pos, sample_size=8,\n",
    "        print_sample=False, sort_by='adj_form_lower',\n",
    "        columns=['all_forms_lower', 'text_window', 'token_str'],\n",
    "        filters=[f'adv_form_lower=={adv}', \n",
    "                f'pattern==pos-mirror-{pat_suff}'],\n",
    "    )\n",
    "\n",
    "    show_sample(new_exactly_ex.assign(\n",
    "        text_window=embolden(new_exactly_ex.text_window, f' ({adv}) '),\n",
    "        token_str=embolden(new_exactly_ex.token_str, f' ({adv}) ')\n",
    "    ), format='pipe')"
   ]
  },
  {
   "cell_type": "markdown",
   "metadata": {},
   "source": [
    "# FIXME \n",
    "  👇 🪲"
   ]
  },
  {
   "cell_type": "code",
   "execution_count": 91,
   "metadata": {},
   "outputs": [],
   "source": [
    "enforced_pos['utt_len']= pd.to_numeric(enforced_pos.token_str.apply(lambda x: int(len(x.split()))), downcast='integer')"
   ]
  },
  {
   "cell_type": "code",
   "execution_count": 63,
   "metadata": {},
   "outputs": [
    {
     "name": "stdout",
     "output_type": "stream",
     "text": [
      "+------------------------+-----------------------+--------------------------------------------------------------+-----------+\n",
      "| hit_id                 | all_forms_lower       | token_str                                                    |   utt_len |\n",
      "+========================+=======================+==============================================================+===========+\n",
      "| pcc_eng_14_107.06555_x | or_too_little         | All of the types of depression may be accompanied by sighs , |        80 |\n",
      "| 1724020_021:25-26-27   |                       | tears , outbursts , impulsivity , disturbances of sleep (    |           |\n",
      "|                        |                       | too much or too little ) , eating ( too much or too little ) |           |\n",
      "|                        |                       | , stomach problems , random aches and pains , changes in     |           |\n",
      "|                        |                       | libido ( too much or too little ) , and often a reluctance   |           |\n",
      "|                        |                       | to do anything from taking care of major responsibilities to |           |\n",
      "|                        |                       | maintaining activities of daily living such as hygiene .     |           |\n",
      "+------------------------+-----------------------+--------------------------------------------------------------+-----------+\n",
      "| pcc_eng_14_107.06555_x | or_too_little         | All of the types of depression may be accompanied by sighs , |        80 |\n",
      "| 1724020_021:34-35-36   |                       | tears , outbursts , impulsivity , disturbances of sleep (    |           |\n",
      "|                        |                       | too much or too little ) , eating ( too much or too little ) |           |\n",
      "|                        |                       | , stomach problems , random aches and pains , changes in     |           |\n",
      "|                        |                       | libido ( too much or too little ) , and often a reluctance   |           |\n",
      "|                        |                       | to do anything from taking care of major responsibilities to |           |\n",
      "|                        |                       | maintaining activities of daily living such as hygiene .     |           |\n",
      "+------------------------+-----------------------+--------------------------------------------------------------+-----------+\n",
      "| pcc_eng_14_107.06555_x | or_too_little         | All of the types of depression may be accompanied by sighs , |        80 |\n",
      "| 1724020_021:53-54-55   |                       | tears , outbursts , impulsivity , disturbances of sleep (    |           |\n",
      "|                        |                       | too much or too little ) , eating ( too much or too little ) |           |\n",
      "|                        |                       | , stomach problems , random aches and pains , changes in     |           |\n",
      "|                        |                       | libido ( too much or too little ) , and often a reluctance   |           |\n",
      "|                        |                       | to do anything from taking care of major responsibilities to |           |\n",
      "|                        |                       | maintaining activities of daily living such as hygiene .     |           |\n",
      "+------------------------+-----------------------+--------------------------------------------------------------+-----------+\n",
      "| pcc_eng_02_019.3116_x0 | or_otherwise_unlawful | You are solely liable for any unauthorized or otherwise      |        80 |\n",
      "| 296430_35:08-09-10     |                       | unlawful use of any log-in information and password we may   |           |\n",
      "|                        |                       | make available for you to access any part of this site , and |           |\n",
      "|                        |                       | you will indemnify and hold Dayco harmless from any suit ,   |           |\n",
      "|                        |                       | claim , loss or damage ( including attorneys ' fees )        |           |\n",
      "|                        |                       | arising from or relating to the unauthorized or otherwise    |           |\n",
      "|                        |                       | unlawful use of any log-in information or password used to   |           |\n",
      "|                        |                       | access any part of this site .                               |           |\n",
      "+------------------------+-----------------------+--------------------------------------------------------------+-----------+\n",
      "| pcc_eng_02_019.3116_x0 | or_otherwise_unlawful | You are solely liable for any unauthorized or otherwise      |        80 |\n",
      "| 296430_35:62-63-64     |                       | unlawful use of any log-in information and password we may   |           |\n",
      "|                        |                       | make available for you to access any part of this site , and |           |\n",
      "|                        |                       | you will indemnify and hold Dayco harmless from any suit ,   |           |\n",
      "|                        |                       | claim , loss or damage ( including attorneys ' fees )        |           |\n",
      "|                        |                       | arising from or relating to the unauthorized or otherwise    |           |\n",
      "|                        |                       | unlawful use of any log-in information or password used to   |           |\n",
      "|                        |                       | access any part of this site .                               |           |\n",
      "+------------------------+-----------------------+--------------------------------------------------------------+-----------+\n",
      "| pcc_eng_18_108.0672_x1 | or_even_greek         | Great mysteries \" ( 1:6S ) , the term , well attested in     |        82 |\n",
      "| 734493_32:70-71-72     |                       | apocalyptic parallels , was replaced by \" mysteries \" in G.  |           |\n",
      "|                        |                       | - \" ... stirring [ the clay for bricks ] \" ( 3:5S ) ,        |           |\n",
      "|                        |                       | paralleled in an aggadic account , replaced with \" making    |           |\n",
      "|                        |                       | bricks \" in G. 26 Introduction Some mss of S present angels  |           |\n",
      "|                        |                       | ' names in Semitic ( rather than Slavic or even Greek )      |           |\n",
      "|                        |                       | rather than Slavic or even Greek ) forms .                   |           |\n",
      "+------------------------+-----------------------+--------------------------------------------------------------+-----------+\n"
     ]
    }
   ],
   "source": [
    "dups = enforced_pos.loc[enforced_pos.duplicated(subset=['token_str', 'all_forms_lower'], keep=False), ['all_forms_lower', 'token_str', 'utt_len']]\n",
    "show_sample(dups.loc[dups.utt_len>=80, :].sort_values(['utt_len', 'token_str']).head(6))"
   ]
  },
  {
   "cell_type": "code",
   "execution_count": 92,
   "metadata": {},
   "outputs": [],
   "source": [
    "new_pmir = pd.concat((enforced_pos.loc[enforced_pos.utt_len < 80, :],\n",
    "                      enforced_pos.loc[enforced_pos.utt_len >= 80, :].drop_duplicates(\n",
    "                          subset=['token_str', 'all_forms_lower'], keep='first'))\n",
    "                     )"
   ]
  },
  {
   "cell_type": "code",
   "execution_count": 97,
   "metadata": {},
   "outputs": [
    {
     "name": "stdout",
     "output_type": "stream",
     "text": [
      "1,434,380 hits remaining in `POSmirror` set after additional filtering\n"
     ]
    }
   ],
   "source": [
    "print(f'{len(new_pmir):,} hits remaining in `POSmirror` set after additional filtering')"
   ]
  },
  {
   "cell_type": "code",
   "execution_count": 96,
   "metadata": {},
   "outputs": [
    {
     "name": "stdout",
     "output_type": "stream",
     "text": [
      "+------------------------+-------------------------+-----------------------------------------------+\n",
      "| hit_id                 | all_forms_lower         | text_window                                   |\n",
      "+========================+=========================+===============================================+\n",
      "| pcc_eng_09_069.4170_x1 | all_more_human          | this by making him all the more human         |\n",
      "| 106792_109:17-19-20    |                         | emotionally , and filling                     |\n",
      "+------------------------+-------------------------+-----------------------------------------------+\n",
      "| pcc_eng_19_049.7594_x0 | something_very_wrong    | , I could tell something was very wrong today |\n",
      "| 787089_49:6-8-9        |                         | at Mc Donalds                                 |\n",
      "+------------------------+-------------------------+-----------------------------------------------+\n",
      "| pcc_eng_03_003.4198_x0 | or_not_safe             | lock is unsecure ' or ' your lock is not safe |\n",
      "| 038990_3:35-40-41      |                         | '                                             |\n",
      "+------------------------+-------------------------+-----------------------------------------------+\n",
      "| pcc_eng_19_063.7973_x1 | something_very_personal | because Esposito told him something very      |\n",
      "| 013949_18:22-23-24     |                         | personal and inspirational .                  |\n",
      "+------------------------+-------------------------+-----------------------------------------------+\n",
      "| pcc_eng_23_050.0325_x0 | often_more_stable       | workers and , very often , these day workers  |\n",
      "| 792054_23:24-30-31     |                         | are more stable , staying with the            |\n",
      "+------------------------+-------------------------+-----------------------------------------------+\n",
      "| pcc_eng_20_018.0404_x0 | or_as_detailed          | any time by unsubscribing or as detailed in   |\n",
      "| 275207_20:12-13-14     |                         | our terms .                                   |\n",
      "+------------------------+-------------------------+-----------------------------------------------+\n"
     ]
    }
   ],
   "source": [
    "show_sample(new_pmir.sample(6)[['all_forms_lower', 'text_window']])"
   ]
  },
  {
   "cell_type": "code",
   "execution_count": 103,
   "metadata": {},
   "outputs": [
    {
     "data": {
      "text/plain": [
       "Index(['adv_form', 'adj_form', 'text_window', 'bigram_id', 'token_str',\n",
       "       'mir_deprel', 'mir_head', 'mir_lemma', 'adv_lemma', 'adj_lemma',\n",
       "       'mir_form', 'mir_form_lower', 'adv_form_lower', 'adj_form_lower',\n",
       "       'bigram_lower', 'all_forms_lower', 'pattern', 'category',\n",
       "       'trigger_lower'],\n",
       "      dtype='object')"
      ]
     },
     "execution_count": 103,
     "metadata": {},
     "output_type": "execute_result"
    }
   ],
   "source": [
    "new_pmir = new_pmir.loc[:, :'category']\n",
    "new_pmir['trigger_lower'] = new_pmir['mir_form_lower'].astype('category')\n",
    "new_pmir.columns"
   ]
  },
  {
   "cell_type": "code",
   "execution_count": 112,
   "metadata": {},
   "outputs": [
    {
     "name": "stdout",
     "output_type": "stream",
     "text": [
      "Updated `POSmirror` hits dataframe saved as:\\ \n",
      "  `/share/compling/data/sanpi/4_post-processed/POSmirror/LimitedPOS-trigger-bigrams_thr0-001p.35f.pkl.gz`\n"
     ]
    }
   ],
   "source": [
    "new_path = path_dict['POSmirror'].with_name('LimitedPOS-'+path_dict['POSmirror'].name)\n",
    "\n",
    "if not new_path.is_file():\n",
    "    \n",
    "    new_pmir.loc[:, ].to_pickle(new_path)\n",
    "    print(f'Updated `POSmirror` hits dataframe saved as:\\ \\n  `{new_path}`')\n",
    "else: \n",
    "    print(f'Updated `POSmirror` hits dataframe already exists:\\ \\n  `{new_path}`')\n",
    "    print('\\n```shell')\n",
    "    !ls -ho {new_path}\n",
    "    print('```')\n",
    "    "
   ]
  },
  {
   "cell_type": "code",
   "execution_count": 117,
   "metadata": {},
   "outputs": [
    {
     "name": "stdout",
     "output_type": "stream",
     "text": [
      "+------------------------+-----------------+------------------------+----------------------------------------------+\n",
      "| hit_id                 | trigger_lower   | all_forms_lower        | text_window                                  |\n",
      "+========================+=================+========================+==============================================+\n",
      "| pcc_eng_08_055.1052_x0 | nothing         | nothing_more_exciting  | \" There 's nothing more exciting than that . |\n",
      "| 876088_33:4-5-6        |                 |                        | \"                                            |\n",
      "+------------------------+-----------------+------------------------+----------------------------------------------+\n",
      "| pcc_eng_24_070.1460_x1 | nor             | nor_more_different     | Nor as writers could they have been more     |\n",
      "| 118408_21:1-8-9        |                 |                        | different in their talents .                 |\n",
      "+------------------------+-----------------+------------------------+----------------------------------------------+\n",
      "| pcc_eng_06_057.2967_x0 | never           | never_too_late         | USor Canadabecause it 's never too late !    |\n",
      "| 911029_18:15-16-17     |                 |                        |                                              |\n",
      "+------------------------+-----------------+------------------------+----------------------------------------------+\n",
      "| pcc_eng_23_101.1275_x1 | nothing         | nothing_even_close     | \" , mostly because nothing else in the       |\n",
      "| 618498_04:30-37-38     |                 |                        | kitchen sections was even close .            |\n",
      "+------------------------+-----------------+------------------------+----------------------------------------------+\n",
      "| pcc_eng_13_014.9416_x0 | nothing         | nothing_more_promising | There 's nothing more promising than a core  |\n",
      "| 225224_08:3-4-5        |                 |                        | rulebook                                     |\n",
      "+------------------------+-----------------+------------------------+----------------------------------------------+\n",
      "| pcc_eng_02_047.0907_x0 | nor             | nor_as_simple          | Nor is it as simple as just turning the      |\n",
      "| 745619_017:1-4-5       |                 |                        |                                              |\n",
      "+------------------------+-----------------+------------------------+----------------------------------------------+\n"
     ]
    }
   ],
   "source": [
    "nmir['utt_len']= nmir.token_str.apply(lambda x: len(x.split()))\n",
    "new_nmir = pd.concat((nmir.loc[nmir.utt_len < 80, :], nmir.loc[nmir.utt_len >= 80, :].drop_duplicates(subset=['token_str', 'all_forms_lower'], keep='first')))\n",
    "new_nmir = new_nmir.loc[:, :'category']\n",
    "new_nmir['trigger_lower'] = new_nmir.neg_form_lower.astype('category')\n",
    "show_sample(new_nmir.sample(6)[['trigger_lower', 'all_forms_lower', 'text_window']])\n"
   ]
  },
  {
   "cell_type": "code",
   "execution_count": 118,
   "metadata": {},
   "outputs": [
    {
     "name": "stdout",
     "output_type": "stream",
     "text": [
      "\n",
      "* 285,435 original hits in `NEGmirror` (`NEGmirror/trigger-bigrams_thr0-001p.35f.pkl.gz`)\n",
      "\n",
      "* 285,430 hits remaining in `NEGmirror` set after additional filtering of duplicate hits\n"
     ]
    }
   ],
   "source": [
    "\n",
    "print(f'\\n* {len(nmir):,} original hits in `NEGmirror` (`{path_dict[\"NEGmirror\"].relative_to(POST_PROC_DIR)}`)')\n",
    "print(f'\\n* {len(new_nmir):,} hits remaining in `NEGmirror` set after additional filtering of duplicate hits')\n"
   ]
  },
  {
   "cell_type": "code",
   "execution_count": 119,
   "metadata": {},
   "outputs": [
    {
     "name": "stdout",
     "output_type": "stream",
     "text": [
      "Updated `NEGmirror` hits dataframe saved as:\\ \n",
      "  `/share/compling/data/sanpi/4_post-processed/NEGmirror/LimitedNEG-trigger-bigrams_thr0-001p.35f.pkl.gz`\n"
     ]
    }
   ],
   "source": [
    "\n",
    "new_path = path_dict['NEGmirror'].with_name('LimitedNEG-'+path_dict['NEGmirror'].name)\n",
    "if not new_path.is_file():\n",
    "    \n",
    "    new_nmir.to_pickle(new_path)\n",
    "    print(f'Updated `NEGmirror` hits dataframe saved as:\\ \\n  `{new_path}`')\n",
    "else: \n",
    "    print(f'Updated `NEGmirror` hits dataframe already exists:\\ \\n  `{new_path}`')\n",
    "    print('\\n```shell')\n",
    "    !ls -ho {new_path}\n",
    "    print('```')"
   ]
  }
 ],
 "metadata": {
  "kernelspec": {
   "display_name": "dev-sanpi",
   "language": "python",
   "name": "python3"
  },
  "language_info": {
   "codemirror_mode": {
    "name": "ipython",
    "version": 3
   },
   "file_extension": ".py",
   "mimetype": "text/x-python",
   "name": "python",
   "nbconvert_exporter": "python",
   "pygments_lexer": "ipython3",
   "version": "3.10.13"
  }
 },
 "nbformat": 4,
 "nbformat_minor": 2
}
