{
 "cells": [
  {
   "cell_type": "code",
   "execution_count": null,
   "metadata": {},
   "outputs": [],
   "source": [
    "import pandas as pd\n",
    "from pathlib import Path"
   ]
  },
  {
   "cell_type": "code",
   "execution_count": 2,
   "metadata": {},
   "outputs": [],
   "source": [
    "contig_hits_pkl_path = Path('/share/compling/data/sanpi/2_csv_hits/contig/exactly_subset_sans-relay_hits.pkl.gz')\n",
    "exactly_contig = pd.read_pickle(contig_hits_pkl_path)\n"
   ]
  },
  {
   "cell_type": "code",
   "execution_count": 4,
   "metadata": {},
   "outputs": [
    {
     "data": {
      "text/html": [
       "<div>\n",
       "<style scoped>\n",
       "    .dataframe tbody tr th:only-of-type {\n",
       "        vertical-align: middle;\n",
       "    }\n",
       "\n",
       "    .dataframe tbody tr th {\n",
       "        vertical-align: top;\n",
       "    }\n",
       "\n",
       "    .dataframe thead th {\n",
       "        text-align: right;\n",
       "    }\n",
       "</style>\n",
       "<table border=\"1\" class=\"dataframe\">\n",
       "  <thead>\n",
       "    <tr style=\"text-align: right;\">\n",
       "      <th></th>\n",
       "      <th>colloc</th>\n",
       "      <th>neg_lemma</th>\n",
       "      <th>dep_neg_relation</th>\n",
       "    </tr>\n",
       "  </thead>\n",
       "  <tbody>\n",
       "    <tr>\n",
       "      <th>count</th>\n",
       "      <td>44868</td>\n",
       "      <td>44868</td>\n",
       "      <td>44868</td>\n",
       "    </tr>\n",
       "    <tr>\n",
       "      <th>unique</th>\n",
       "      <td>4469</td>\n",
       "      <td>28</td>\n",
       "      <td>9</td>\n",
       "    </tr>\n",
       "    <tr>\n",
       "      <th>top</th>\n",
       "      <td>exactly_sure</td>\n",
       "      <td>not</td>\n",
       "      <td>advmod</td>\n",
       "    </tr>\n",
       "    <tr>\n",
       "      <th>freq</th>\n",
       "      <td>8756</td>\n",
       "      <td>25419</td>\n",
       "      <td>44319</td>\n",
       "    </tr>\n",
       "  </tbody>\n",
       "</table>\n",
       "</div>"
      ],
      "text/plain": [
       "              colloc neg_lemma dep_neg_relation\n",
       "count          44868     44868            44868\n",
       "unique          4469        28                9\n",
       "top     exactly_sure       not           advmod\n",
       "freq            8756     25419            44319"
      ]
     },
     "execution_count": 4,
     "metadata": {},
     "output_type": "execute_result"
    }
   ],
   "source": [
    "exactly_contig.loc[:, ['colloc', 'neg_lemma', 'dep_neg_relation']].describe()"
   ]
  },
  {
   "cell_type": "code",
   "execution_count": 6,
   "metadata": {},
   "outputs": [
    {
     "data": {
      "text/plain": [
       "colloc              neg_lemma  dep_neg_relation\n",
       "exactly_sure        not        advmod              6223\n",
       "                    n't        advmod              1973\n",
       "exactly_right       not        advmod              1535\n",
       "exactly_clear       not        advmod              1060\n",
       "exactly_true        not        advmod               941\n",
       "exactly_new         n't        advmod               765\n",
       "exactly_easy        n't        advmod               539\n",
       "                    not        advmod               522\n",
       "exactly_new         not        advmod               497\n",
       "exactly_clear       n't        advmod               477\n",
       "exactly_sure        Not        advmod               423\n",
       "exactly_true        n't        advmod               362\n",
       "exactly_cheap       n't        advmod               331\n",
       "                    not        advmod               322\n",
       "exactly_surprising  not        advmod               250\n",
       "exactly_right       n't        advmod               221\n",
       "exactly_accurate    not        advmod               220\n",
       "exactly_happy       n't        advmod               211\n",
       "                    not        advmod               201\n",
       "exactly_ideal       n't        advmod               194\n",
       "dtype: int64"
      ]
     },
     "execution_count": 6,
     "metadata": {},
     "output_type": "execute_result"
    }
   ],
   "source": [
    "exactly_contig.loc[:, ['colloc', 'neg_lemma', 'dep_neg_relation']].value_counts().head(20)"
   ]
  },
  {
   "cell_type": "code",
   "execution_count": null,
   "metadata": {},
   "outputs": [
    {
     "ename": "",
     "evalue": "",
     "output_type": "error",
     "traceback": [
      "\u001b[1;31mFailed to start the Kernel. \n",
      "\u001b[1;31mUnable to start Kernel 'dev-sanpi (Python 3.10.4)' due to connection timeout. \n",
      "\u001b[1;31mView Jupyter <a href='command:jupyter.viewOutput'>log</a> for further details."
     ]
    }
   ],
   "source": [
    "# scoped_hits_pkl_path = Path('/share/compling/data/sanpi/2_csv_hits/scoped/exactly_subset_with-relay_hits.pkl.gz')\n",
    "# exactly_scoped = pd.read_pickle(scoped_hits_pkl_path)\n",
    "# exactly_scoped.loc[:, ['colloc', 'neg_lemma', 'dep_neg_relation']].describe()"
   ]
  }
 ],
 "metadata": {
  "kernelspec": {
   "display_name": "Python 3.10.4 ('parallel-sanpi')",
   "language": "python",
   "name": "python3"
  },
  "language_info": {
   "codemirror_mode": {
    "name": "ipython",
    "version": 3
   },
   "file_extension": ".py",
   "mimetype": "text/x-python",
   "name": "python",
   "nbconvert_exporter": "python",
   "pygments_lexer": "ipython3",
   "version": "3.10.4"
  },
  "orig_nbformat": 4,
  "vscode": {
   "interpreter": {
    "hash": "508a7df24556a40f414639c34af4dc74b7375699d78ce48c8ff014d3117a06db"
   }
  }
 },
 "nbformat": 4,
 "nbformat_minor": 2
}
