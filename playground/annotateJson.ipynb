{
 "metadata": {
  "language_info": {
   "codemirror_mode": {
    "name": "ipython",
    "version": 3
   },
   "file_extension": ".py",
   "mimetype": "text/x-python",
   "name": "python",
   "nbconvert_exporter": "python",
   "pygments_lexer": "ipython3",
   "version": 3
  },
  "orig_nbformat": 2
 },
 "nbformat": 4,
 "nbformat_minor": 2,
 "cells": [
  {
   "source": [
    "# Overview\n",
    "---\n",
    "To test accuracy of association measures, some sort of acceptability judgement is required. Since the aim of this project is to determine if certain adv-adj collocations are highly correlated with negative contexts (i.e. if they are NPIs of a sort), each collocation token needs to be annotated for type: litotes or not litotes. Basically, is there a pattern of context preference, and is that pattern determined by the same things that create litotes?\n",
    "\n",
    "To speed up the annotation process, this script will load the filled json hit files, loop through each hit, print the collocation and its context, collect a response, and use that response to fill in a new json field *litotes* appropriately."
   ],
   "cell_type": "markdown",
   "metadata": {}
  },
  {
   "source": [
    "---\n",
    "# 1. Initiate script"
   ],
   "cell_type": "markdown",
   "metadata": {}
  },
  {
   "cell_type": "code",
   "execution_count": null,
   "metadata": {},
   "outputs": [],
   "source": [
    "import json\n",
    "import argparse\n",
    "import os\n",
    "import sys\n",
    "from pathlib import Path"
   ]
  },
  {
   "source": [
    "---\n",
    "# 2. Process arguments"
   ],
   "cell_type": "markdown",
   "metadata": {}
  },
  {
   "source": [
    "def parseargs(): \n",
    "\n",
    "    parser = argparse.ArgumentParser(\n",
    "        description='Script to loop through collocation tokens in json files and annotate/and and fill litotes field. Takes in directory and saves new files periodically as <origname>_annot.json'\n",
    "    )\n",
    "\n",
    "    parser.add_argument('-d', '--json_dir', \n",
    "    required=True, type=Path, \n",
    "    help='path to directory containing filled json files (i.e. with tokens and context text added)'\n",
    "    )\n",
    "\n",
    "    return parser.parse_args()"
   ],
   "cell_type": "code",
   "metadata": {},
   "execution_count": null,
   "outputs": []
  },
  {
   "source": [
    "---\n",
    "# 3. Assess directory"
   ],
   "cell_type": "markdown",
   "metadata": {}
  },
  {
   "cell_type": "code",
   "execution_count": null,
   "metadata": {},
   "outputs": [],
   "source": [
    "args = parseargs()\n",
    "\n",
    "if not args.json_dir.is_dir(): \n",
    "\n",
    "    sys.exit('Error: directory not found. Exiting script.')\n",
    "\n",
    "filled = [f for f in os.listdir(json_dir) \n",
    "            if not f.endswith('.raw.json')]\n",
    "\n",
    "annot = [f for f in os.listdir(json_dir) \n",
    "            if f.endswith('.annot.json')]\n",
    "\n",
    "if len(filled) == 0: \n",
    "    sys.exit('Error: directory is empty. Exiting script.')\n",
    "\n",
    "else: \n",
    "    print(f'{len(filled)} total json files to be annotated.')\n",
    "\n",
    "\n",
    "\n"
   ]
  }
 ]
}