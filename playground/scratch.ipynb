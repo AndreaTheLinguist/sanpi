{
 "metadata": {
  "language_info": {
   "codemirror_mode": {
    "name": "ipython",
    "version": 3
   },
   "file_extension": ".py",
   "mimetype": "text/x-python",
   "name": "python",
   "nbconvert_exporter": "python",
   "pygments_lexer": "ipython3",
   "version": "3.8.10"
  },
  "orig_nbformat": 2,
  "kernelspec": {
   "name": "python3810jvsc74a57bd0f14e906f6c55070a077a89cc5717e48c6e6b165b8f84516754651fa338ccc864",
   "display_name": "Python 3.8.10 64-bit ('base': conda)"
  }
 },
 "nbformat": 4,
 "nbformat_minor": 2,
 "cells": [
  {
   "cell_type": "code",
   "execution_count": 125,
   "metadata": {
    "tags": []
   },
   "outputs": [
    {
     "output_type": "stream",
     "name": "stdout",
     "text": [
      "['not_VP-adv',\n 'never_VP-adv',\n 'doubt_matrix-VP',\n 'nobody_subject',\n 'no-one_subject',\n 'no_determinter-on-subject-N',\n 'none_subject',\n 'neither_determiner-on-subject',\n 'neither_subject',\n 'not-one_determiner-on-subject',\n 'not-a-single_determiner-on-subject',\n 'not-one_subject',\n 'nothing_subject',\n 'few_determiner-on-subject',\n 'few_subject',\n 'almost-nobody_subject',\n 'almost-no-one_subject',\n 'almost-no_determiner-on-subject',\n 'almost-none_subject',\n 'without-being_PP']\n"
     ]
    },
    {
     "output_type": "error",
     "ename": "FileNotFoundError",
     "evalue": "[Errno 2] No such file or directory: '/home/andrea/litotes/script/Pat/gen/not_VP-adv.pat'",
     "traceback": [
      "\u001b[0;31m---------------------------------------------------------------------------\u001b[0m",
      "\u001b[0;31mFileNotFoundError\u001b[0m                         Traceback (most recent call last)",
      "\u001b[0;32m<ipython-input-125-4dfb7277d86e>\u001b[0m in \u001b[0;36m<module>\u001b[0;34m\u001b[0m\n\u001b[1;32m     31\u001b[0m     \u001b[0moutputDir\u001b[0m \u001b[0;34m=\u001b[0m \u001b[0mPath\u001b[0m\u001b[0;34m.\u001b[0m\u001b[0mcwd\u001b[0m\u001b[0;34m(\u001b[0m\u001b[0;34m)\u001b[0m \u001b[0;34m/\u001b[0m \u001b[0;34m'Pat'\u001b[0m \u001b[0;34m/\u001b[0m \u001b[0;34m'gen'\u001b[0m\u001b[0;34m\u001b[0m\u001b[0;34m\u001b[0m\u001b[0m\n\u001b[1;32m     32\u001b[0m \u001b[0;34m\u001b[0m\u001b[0m\n\u001b[0;32m---> 33\u001b[0;31m     \u001b[0;32mwith\u001b[0m \u001b[0mopen\u001b[0m\u001b[0;34m(\u001b[0m\u001b[0moutputDir\u001b[0m\u001b[0;34m/\u001b[0m\u001b[0mfname\u001b[0m\u001b[0;34m,\u001b[0m \u001b[0;34m'w'\u001b[0m\u001b[0;34m)\u001b[0m \u001b[0;32mas\u001b[0m \u001b[0mout\u001b[0m\u001b[0;34m:\u001b[0m\u001b[0;34m\u001b[0m\u001b[0;34m\u001b[0m\u001b[0m\n\u001b[0m\u001b[1;32m     34\u001b[0m \u001b[0;34m\u001b[0m\u001b[0m\n\u001b[1;32m     35\u001b[0m         \u001b[0mout\u001b[0m\u001b[0;34m.\u001b[0m\u001b[0mwritelines\u001b[0m\u001b[0;34m(\u001b[0m\u001b[0mp\u001b[0m\u001b[0;34m[\u001b[0m\u001b[0;36m1\u001b[0m\u001b[0;34m]\u001b[0m\u001b[0;34m)\u001b[0m\u001b[0;34m\u001b[0m\u001b[0;34m\u001b[0m\u001b[0m\n",
      "\u001b[0;31mFileNotFoundError\u001b[0m: [Errno 2] No such file or directory: '/home/andrea/litotes/script/Pat/gen/not_VP-adv.pat'"
     ]
    }
   ],
   "source": [
    "import re\n",
    "from pprint import pprint\n",
    "from collections import namedtuple\n",
    "from pathlib import Path\n",
    "\n",
    "pat_tup = namedtuple('pat_info',['word','type','pat'])\n",
    "\n",
    "with open('/home/andrea/litotes/Pat/pat_notes.md', 'r') as N: \n",
    "    notes = N.read().strip()\n",
    "    heading = re.compile(r'### Context (`[\\w ]*`) ([ \\w`]*)')\n",
    "    # info = heading.findall(notes)\n",
    "    heading_iter = heading.finditer(notes)\n",
    "\n",
    "    headings = [(h.groups()[0]+'_'+h.groups()[1]).replace(' ','-').replace('`','') for h in heading_iter]\n",
    "    pprint(headings)\n",
    "\n",
    "    pat = re.compile(r'```\\s+(pattern \\{[^`]*\\s+\\})\\s+```')\n",
    "    pattern_iter = pat.finditer(notes)\n",
    "    patterns = [(p.groups()[0],) for p in pattern_iter]\n",
    "    # pprint(patterns)\n",
    "\n",
    "pattern_info = zip(headings,patterns)\n",
    "\n",
    "for p in pattern_info:\n",
    "    fname = f'{p[0]}.pat'\n",
    "    \n",
    "    try:\n",
    "        os.mkdir(Path.cwd() / 'Pat' / 'gen')\n",
    "    except OSError:\n",
    "        pass\n",
    "    outputDir = Path.cwd() / 'Pat' / 'gen'\n",
    "\n",
    "    with open(outputDir/fname, 'w') as out: \n",
    "\n",
    "        out.writelines(p[1])\n"
   ]
  },
  {
   "cell_type": "code",
   "execution_count": null,
   "metadata": {},
   "outputs": [],
   "source": []
  }
 ]
}