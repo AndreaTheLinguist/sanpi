{
 "cells": [
  {
   "cell_type": "code",
   "execution_count": 16,
   "metadata": {},
   "outputs": [],
   "source": [
    "import pandas as pd\n",
    "\n",
    "from source.utils import FREQ_DIR\n",
    "from source.utils.associate import (BINARY_ASSOC_ARGS, add_extra_am,\n",
    "                                    associate_ucs, confirm_basic_ucs)\n",
    "from source.utils.associate import convert_ucs_to_csv as ucs2csv\n",
    "from source.utils.associate import get_associations_csv as init_am\n",
    "from source.utils.associate import manipulate_ucs, seek_readable_ucs"
   ]
  },
  {
   "cell_type": "markdown",
   "metadata": {},
   "source": [
    "Info for `init_am()`:\n",
    "\n",
    "The `BINARY_ASSOC_ARGS` tuple follows the same requirments as the arguments for `./script/polar_assoc.py`: \n",
    "\n",
    "options:\n",
    "  | -short             | --long                          | description                                                                                                                                                                                                                                                                                                                        | default value for script                                                                                                     |\n",
    "  |--------------------|---------------------------------|------------------------------------------------------------------------------------------------------------------------------------------------------------------------------------------------------------------------------------------------------------------------------------------------------------------------------------|------------------------------------------------------------------------------------------------------------------------------|\n",
    "  | -h,                | --help                          | show this help message and exit                                                                                                                                                                                                                                                                                                    |                                                                                                                              |\n",
    "  | -m MIN_FREQ,       | --min_freq MIN_FREQ             | Minimum frequency of co-occurrences included as rows (everything is still included in the marginal frequencies) in association tables                                                                                                                                                                                              | `500`                                                                                                                          |\n",
    "  | -a ALL_COUNTS,     | --all_counts ALL_COUNTS         | path to ucs formatted .tsv of all bigram combinations, regardless of polarity                                                                                                                                                                                                                                                      | `/share/compling/projects/sanpi/results/freq_out/RBXadj/ucs_format/AdvAdj_frq-thrMIN-7.35f.tsv`                                |\n",
    "  | -c COMPARE_COUNTS, | --compare_counts COMPARE_COUNTS | Path to ucs-formatted .tsv of COMPARISON bigram frequencies; e.g. counts for bigram tokens with **no** *identified* negation dependencies. (An approximation of bigrams occurring in 'positive polarity' environments.) The transformed frequency data will be saved as `polarity_prepped_tsv/[COMP_LABEL]_bigram_counts[DATA_SUFFIX]` | `/share/compling/projects/sanpi/results/freq_out/RBdirect/complement/ucs_format/diff_all-RBdirect_AdvAdj_frq-thrMIN-7.35f.tsv` |\n",
    "  | -C COMP_LABEL,     | --comp_label COMP_LABEL         | Option to set the label for comparison (set difference, not negated, 'positive', etc.) counts. Used for output path generation.                                                                                                                                                                                                    | `complement`                                                                                                                   |\n",
    "  | -n TARGET_COUNTS,  | --target_counts TARGET_COUNTS   | Path to ucs-formatted .tsv of NEGATED bigram frequencies; i.e. counts for bigram tokens with *identified* negation dependencies. (An approximation of bigrams occurring in 'negative polarity' environments.) The transformed frequency data will be saved as `polarity_prepped_tsv/[NEG_LABEL]_bigram_counts[DATA_SUFFIX]`        | `/share/compling/projects/sanpi/results/freq_out/RBdirect/ucs_format/AdvAdj_frq-thrMIN-7.35f.tsv`                              |\n",
    "  | -N TARG_LABEL,     | --targ_label TARG_LABEL         | Option to set the label for target counts; Used to generate output path(s) and set the `l1` values for contained `l2` values.                                                                                                                                                                                                      | `negated`                                                                                                                      |\n",
    "  | -s DATA_SUFFIX,    | --data_suffix DATA_SUFFIX       | Option to indicate specific starting data set as restricted by number of corpus parts/files and frequency threshold                                                                                                                                                                                                                | `.35f-7c.tsv`                                                                                                                  |\n",
    "  | -S,                | --skew                          | Option to collect skewed lexemes for selected association metrics.                                                                                                                                                                                                                                                                 | `False`                                                                                                                        |\n",
    "  | -v,                | --verbose                       | Option to print more processing info to stdout                                                                                                                                                                                                                                                                                     | `False`                                                                                                                        |\n",
    "\n"
   ]
  },
  {
   "cell_type": "markdown",
   "metadata": {},
   "source": [
    "1. Run `seek_readable_ucs()` to generate consistent output path\n",
    "\n",
    "    ```python\n",
    "    def seek_readable_ucs(min_freq: int,\n",
    "                        target_counts_dir: Path = None,\n",
    "                        data_suffix: str = '.35f-7c.tsv',\n",
    "                        unit: str = '',\n",
    "                        is_polar: bool = True, \n",
    "                        contained_counts_path: Path = None,\n",
    "                        ucs_subdir:str=None) -> Path:\n",
    "    ```  \n",
    "    Provide values for:\n",
    "    - `ucs_subdir`: e.g. `'trigger_eval'`\\\n",
    "      ↪️ this will become a subdir of `./results/ucs/` and will be repeated in `./results/assoc_df/`\n",
    "    - `contained_counts_path`\n",
    "    - `min_freq`                \n"
   ]
  },
  {
   "cell_type": "code",
   "execution_count": 10,
   "metadata": {},
   "outputs": [],
   "source": [
    "MIR_TRIG_ADV_TSV = FREQ_DIR.joinpath('ANYmirror/ucs_format/TrigAdv_frq-thrMIN-7.35f.tsv')\n",
    "FRQ_FLOOR = 50"
   ]
  },
  {
   "cell_type": "code",
   "execution_count": 21,
   "metadata": {},
   "outputs": [
    {
     "name": "stdout",
     "output_type": "stream",
     "text": [
      "    > seeking `trigger_eval/ANYmirror/readable/TrigAdv_frq-thrMIN-7.35f_min50x*` frequency data and initial associations...\n",
      "/share/compling/projects/sanpi/results/ucs/trigger_eval/ANYmirror/readable/TrigAdv_frq-thrMIN-7.35f_min50x.rsort-view_am-only.csv\n",
      "-rw-r--r-- 1 arh234 356K May 23 20:54 /share/compling/projects/sanpi/results/ucs/trigger_eval/ANYmirror/readable/TrigAdv_frq-thrMIN-7.35f_min50x.rsort-view_am-only.csv\n"
     ]
    }
   ],
   "source": [
    "readable = seek_readable_ucs(min_freq=FRQ_FLOOR, ucs_subdir='trigger_eval', \n",
    "                                   contained_counts_path=MIR_TRIG_ADV_TSV)\n",
    "print(readable)\n",
    "! ls -ho {readable}"
   ]
  },
  {
   "cell_type": "markdown",
   "metadata": {},
   "source": [
    "\n",
    "\n",
    "\n",
    "2. Run `confirm_basic_ucs()`\n",
    "\n",
    "    ```python\n",
    "    def confirm_basic_ucs(basic_ucs_path: Path,\n",
    "                          freq_floor:int=100,\n",
    "                          contained_counts_path:Path = None,\n",
    "                          args: BINARY_ASSOC_ARGS = None,\n",
    "                          unit: str = None):\n",
    "        if args: \n",
    "            contained_counts_path = args.all_counts\n",
    "        if basic_ucs_path.is_file():\n",
    "            print('+ existing UCS table found ✓')\n",
    "        elif unit:\n",
    "            basic_ucs_path = confirm_polarized_ucs(basic_ucs_path, args, unit)\n",
    "        elif contained_counts_path and contained_counts_path.is_file():\n",
    "            build_ucs_table(min_count=freq_floor,\n",
    "                            ucs_save_path=basic_ucs_path,\n",
    "                            cat_tsv_str=f'cat {contained_counts_path}')\n",
    "        else:\n",
    "            raise FileNotFoundError\n",
    "        return basic_ucs_path\n",
    "    ```\n"
   ]
  },
  {
   "cell_type": "code",
   "execution_count": 12,
   "metadata": {},
   "outputs": [
    {
     "name": "stdout",
     "output_type": "stream",
     "text": [
      "+ existing UCS table found ✓\n"
     ]
    }
   ],
   "source": [
    "basic_ucs_path = confirm_basic_ucs(basic_ucs_path, freq_floor=FRQ_FLOOR, contained_counts_path=MIR_TRIG_ADV_TSV)"
   ]
  },
  {
   "cell_type": "markdown",
   "metadata": {},
   "source": [
    "3. Run `associate_ucs()`\n"
   ]
  },
  {
   "cell_type": "code",
   "execution_count": 13,
   "metadata": {},
   "outputs": [
    {
     "name": "stdout",
     "output_type": "stream",
     "text": [
      "\n",
      "Calculating UCS associations...\n",
      "\n",
      "```\n",
      "bash /share/compling/projects/sanpi/script/transform_ucs.sh /share/compling/projects/sanpi/results/ucs/trigger_eval/ANYmirror/readable/TrigAdv_frq-thrMIN-7.35f_min50x.rsort-view_am-only.txt\n",
      "> log will be saved to: /share/compling/projects/sanpi/logs/associate/ucs//ucs-readable_TrigAdv_frq-thrMIN-7-35f_min50x.2024-05-23_2051.log\n",
      "...\n",
      "```\n",
      "\n",
      "+ time elapsed → 00:00:13.212\n"
     ]
    }
   ],
   "source": [
    "associate_ucs(basic_ucs_path)"
   ]
  },
  {
   "cell_type": "markdown",
   "metadata": {},
   "source": [
    "4. Run `ucs_to_csv`"
   ]
  },
  {
   "cell_type": "code",
   "execution_count": 14,
   "metadata": {},
   "outputs": [
    {
     "name": "stdout",
     "output_type": "stream",
     "text": [
      "UCS table text converted & saved as /share/compling/projects/sanpi/results/ucs/trigger_eval/ANYmirror/readable/TrigAdv_frq-thrMIN-7.35f_min50x.rsort-view_am-only.csv\n",
      "/share/compling/projects/sanpi/results/ucs/trigger_eval/ANYmirror/readable/TrigAdv_frq-thrMIN-7.35f_min50x.rsort-view_am-only.csv\n"
     ]
    }
   ],
   "source": [
    "csv_path = ucs2csv(basic_ucs_path)\n",
    "print(csv_path)"
   ]
  },
  {
   "cell_type": "markdown",
   "metadata": {},
   "source": [
    "5. Load ucs csv as dataframe\n"
   ]
  },
  {
   "cell_type": "code",
   "execution_count": 20,
   "metadata": {},
   "outputs": [
    {
     "name": "stdout",
     "output_type": "stream",
     "text": [
      "#     Frequency  signatures  computed   by      the      ucs-make-tables  tool               for  relational  cooccurrences.\n",
      "#     Sample     size:       N          =       1761853  tokens           V                  =    23125       pair            types.\n",
      "#     A          frequency   threshold  of      f        >=               50                 was  applied     leaving         V        =    1797     pair    types.\n",
      "##::  size       =           1797\n",
      "##::  threshold  =           50\n",
      "id    l1         l2          f          f1      f2       N                E11                O11  O12         O21             O22      C1   C2       R1      R2       am_log_likelihood  am_odds_ratio_disc  am_p1_given2       am_p2_given1         r_log_likelihood  r_odds_ratio_disc  r_p1_given2  r_p2_given1\n",
      "829   never      before      284        109723  288      1761853          17.9357891946717   284  109439      4               1652126  288  1761565  109723  1652130  1535.90576785475   2.97973895406291    0.923985103839168  0.00258591496569861  89                4                  1            343\n",
      "665   no         wise        51         8890    57       1761853          0.287611963086591  51   8839        6               1752957  57   1761796  8890    1752963  501.489321463686   3.19623755911185    0.889719802675045  0.0057333601259577   192               1                  2            233\n",
      "237   no         earthly     74         8890    88       1761853          0.444032504414386  74   8816        14              1752949  88   1761765  8890    1752963  706.439766206067   3.00926146352812    0.835905018288736  0.00831597302730963  151               3                  3            187\n",
      "1600  no         longer      742        8890    891      1761853          4.49582910719566   742  8148        149             1752814  891  1760962  8890    1752963  7109.45577650167   3.0287135526746     0.828145149736038  0.0833795679873422   19                2                  4            29\n"
     ]
    }
   ],
   "source": [
    "! head {csv_path} | column -t -s ','"
   ]
  },
  {
   "cell_type": "code",
   "execution_count": 17,
   "metadata": {},
   "outputs": [
    {
     "ename": "ParserError",
     "evalue": "Error tokenizing data. C error: Expected 13 fields in line 3, saw 17\n",
     "output_type": "error",
     "traceback": [
      "\u001b[0;31m---------------------------------------------------------------------------\u001b[0m",
      "\u001b[0;31mParserError\u001b[0m                               Traceback (most recent call last)",
      "Cell \u001b[0;32mIn[17], line 1\u001b[0m\n\u001b[0;32m----> 1\u001b[0m trig_adv_amdf \u001b[38;5;241m=\u001b[39m \u001b[43mpd\u001b[49m\u001b[38;5;241;43m.\u001b[39;49m\u001b[43mread_csv\u001b[49m\u001b[43m(\u001b[49m\u001b[43mcsv_path\u001b[49m\u001b[43m)\u001b[49m\n\u001b[1;32m      2\u001b[0m trig_adv_amdf\n",
      "File \u001b[0;32m~/anaconda3/envs/dev-sanpi/lib/python3.10/site-packages/pandas/io/parsers/readers.py:912\u001b[0m, in \u001b[0;36mread_csv\u001b[0;34m(filepath_or_buffer, sep, delimiter, header, names, index_col, usecols, dtype, engine, converters, true_values, false_values, skipinitialspace, skiprows, skipfooter, nrows, na_values, keep_default_na, na_filter, verbose, skip_blank_lines, parse_dates, infer_datetime_format, keep_date_col, date_parser, date_format, dayfirst, cache_dates, iterator, chunksize, compression, thousands, decimal, lineterminator, quotechar, quoting, doublequote, escapechar, comment, encoding, encoding_errors, dialect, on_bad_lines, delim_whitespace, low_memory, memory_map, float_precision, storage_options, dtype_backend)\u001b[0m\n\u001b[1;32m    899\u001b[0m kwds_defaults \u001b[38;5;241m=\u001b[39m _refine_defaults_read(\n\u001b[1;32m    900\u001b[0m     dialect,\n\u001b[1;32m    901\u001b[0m     delimiter,\n\u001b[0;32m   (...)\u001b[0m\n\u001b[1;32m    908\u001b[0m     dtype_backend\u001b[38;5;241m=\u001b[39mdtype_backend,\n\u001b[1;32m    909\u001b[0m )\n\u001b[1;32m    910\u001b[0m kwds\u001b[38;5;241m.\u001b[39mupdate(kwds_defaults)\n\u001b[0;32m--> 912\u001b[0m \u001b[38;5;28;01mreturn\u001b[39;00m \u001b[43m_read\u001b[49m\u001b[43m(\u001b[49m\u001b[43mfilepath_or_buffer\u001b[49m\u001b[43m,\u001b[49m\u001b[43m \u001b[49m\u001b[43mkwds\u001b[49m\u001b[43m)\u001b[49m\n",
      "File \u001b[0;32m~/anaconda3/envs/dev-sanpi/lib/python3.10/site-packages/pandas/io/parsers/readers.py:583\u001b[0m, in \u001b[0;36m_read\u001b[0;34m(filepath_or_buffer, kwds)\u001b[0m\n\u001b[1;32m    580\u001b[0m     \u001b[38;5;28;01mreturn\u001b[39;00m parser\n\u001b[1;32m    582\u001b[0m \u001b[38;5;28;01mwith\u001b[39;00m parser:\n\u001b[0;32m--> 583\u001b[0m     \u001b[38;5;28;01mreturn\u001b[39;00m \u001b[43mparser\u001b[49m\u001b[38;5;241;43m.\u001b[39;49m\u001b[43mread\u001b[49m\u001b[43m(\u001b[49m\u001b[43mnrows\u001b[49m\u001b[43m)\u001b[49m\n",
      "File \u001b[0;32m~/anaconda3/envs/dev-sanpi/lib/python3.10/site-packages/pandas/io/parsers/readers.py:1704\u001b[0m, in \u001b[0;36mTextFileReader.read\u001b[0;34m(self, nrows)\u001b[0m\n\u001b[1;32m   1697\u001b[0m nrows \u001b[38;5;241m=\u001b[39m validate_integer(\u001b[38;5;124m\"\u001b[39m\u001b[38;5;124mnrows\u001b[39m\u001b[38;5;124m\"\u001b[39m, nrows)\n\u001b[1;32m   1698\u001b[0m \u001b[38;5;28;01mtry\u001b[39;00m:\n\u001b[1;32m   1699\u001b[0m     \u001b[38;5;66;03m# error: \"ParserBase\" has no attribute \"read\"\u001b[39;00m\n\u001b[1;32m   1700\u001b[0m     (\n\u001b[1;32m   1701\u001b[0m         index,\n\u001b[1;32m   1702\u001b[0m         columns,\n\u001b[1;32m   1703\u001b[0m         col_dict,\n\u001b[0;32m-> 1704\u001b[0m     ) \u001b[38;5;241m=\u001b[39m \u001b[38;5;28;43mself\u001b[39;49m\u001b[38;5;241;43m.\u001b[39;49m\u001b[43m_engine\u001b[49m\u001b[38;5;241;43m.\u001b[39;49m\u001b[43mread\u001b[49m\u001b[43m(\u001b[49m\u001b[43m  \u001b[49m\u001b[38;5;66;43;03m# type: ignore[attr-defined]\u001b[39;49;00m\n\u001b[1;32m   1705\u001b[0m \u001b[43m        \u001b[49m\u001b[43mnrows\u001b[49m\n\u001b[1;32m   1706\u001b[0m \u001b[43m    \u001b[49m\u001b[43m)\u001b[49m\n\u001b[1;32m   1707\u001b[0m \u001b[38;5;28;01mexcept\u001b[39;00m \u001b[38;5;167;01mException\u001b[39;00m:\n\u001b[1;32m   1708\u001b[0m     \u001b[38;5;28mself\u001b[39m\u001b[38;5;241m.\u001b[39mclose()\n",
      "File \u001b[0;32m~/anaconda3/envs/dev-sanpi/lib/python3.10/site-packages/pandas/io/parsers/c_parser_wrapper.py:234\u001b[0m, in \u001b[0;36mCParserWrapper.read\u001b[0;34m(self, nrows)\u001b[0m\n\u001b[1;32m    232\u001b[0m \u001b[38;5;28;01mtry\u001b[39;00m:\n\u001b[1;32m    233\u001b[0m     \u001b[38;5;28;01mif\u001b[39;00m \u001b[38;5;28mself\u001b[39m\u001b[38;5;241m.\u001b[39mlow_memory:\n\u001b[0;32m--> 234\u001b[0m         chunks \u001b[38;5;241m=\u001b[39m \u001b[38;5;28;43mself\u001b[39;49m\u001b[38;5;241;43m.\u001b[39;49m\u001b[43m_reader\u001b[49m\u001b[38;5;241;43m.\u001b[39;49m\u001b[43mread_low_memory\u001b[49m\u001b[43m(\u001b[49m\u001b[43mnrows\u001b[49m\u001b[43m)\u001b[49m\n\u001b[1;32m    235\u001b[0m         \u001b[38;5;66;03m# destructive to chunks\u001b[39;00m\n\u001b[1;32m    236\u001b[0m         data \u001b[38;5;241m=\u001b[39m _concatenate_chunks(chunks)\n",
      "File \u001b[0;32m~/anaconda3/envs/dev-sanpi/lib/python3.10/site-packages/pandas/_libs/parsers.pyx:814\u001b[0m, in \u001b[0;36mpandas._libs.parsers.TextReader.read_low_memory\u001b[0;34m()\u001b[0m\n",
      "File \u001b[0;32m~/anaconda3/envs/dev-sanpi/lib/python3.10/site-packages/pandas/_libs/parsers.pyx:875\u001b[0m, in \u001b[0;36mpandas._libs.parsers.TextReader._read_rows\u001b[0;34m()\u001b[0m\n",
      "File \u001b[0;32m~/anaconda3/envs/dev-sanpi/lib/python3.10/site-packages/pandas/_libs/parsers.pyx:850\u001b[0m, in \u001b[0;36mpandas._libs.parsers.TextReader._tokenize_rows\u001b[0;34m()\u001b[0m\n",
      "File \u001b[0;32m~/anaconda3/envs/dev-sanpi/lib/python3.10/site-packages/pandas/_libs/parsers.pyx:861\u001b[0m, in \u001b[0;36mpandas._libs.parsers.TextReader._check_tokenize_status\u001b[0;34m()\u001b[0m\n",
      "File \u001b[0;32m~/anaconda3/envs/dev-sanpi/lib/python3.10/site-packages/pandas/_libs/parsers.pyx:2029\u001b[0m, in \u001b[0;36mpandas._libs.parsers.raise_parser_error\u001b[0;34m()\u001b[0m\n",
      "\u001b[0;31mParserError\u001b[0m: Error tokenizing data. C error: Expected 13 fields in line 3, saw 17\n"
     ]
    }
   ],
   "source": [
    "trig_adv_amdf = pd.read_csv(csv_path)\n",
    "trig_adv_amdf"
   ]
  },
  {
   "cell_type": "markdown",
   "metadata": {},
   "source": [
    "6. Save to `./results/assoc_df/`\n",
    "7. Add additional AM via `add_extra_am()`"
   ]
  }
 ],
 "metadata": {
  "kernelspec": {
   "display_name": "dev-sanpi",
   "language": "python",
   "name": "python3"
  },
  "language_info": {
   "codemirror_mode": {
    "name": "ipython",
    "version": 3
   },
   "file_extension": ".py",
   "mimetype": "text/x-python",
   "name": "python",
   "nbconvert_exporter": "python",
   "pygments_lexer": "ipython3",
   "version": "3.10.13"
  }
 },
 "nbformat": 4,
 "nbformat_minor": 2
}
