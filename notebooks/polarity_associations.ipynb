{
 "cells": [
  {
   "cell_type": "code",
   "execution_count": 1,
   "metadata": {},
   "outputs": [],
   "source": [
    "from pathlib import Path\n",
    "\n",
    "import pandas as pd\n",
    "\n",
    "from source.utils.dataframes import print_md_table\n",
    "\n",
    "ucs_df_dir = Path(\n",
    "    '/share/compling/projects/sanpi/results/assoc_df')\n",
    "set_dir = ucs_df_dir/'set_diff'/'min15x'/'extra'\n",
    "mir_dir = ucs_df_dir/'mirror'/'min15x'/'extra'\n",
    "paths = {\n",
    "    'mir_bg': mir_dir.joinpath('polarized-bigram_MIRROR.35f-868thresh_min15x.rsort-view_extra.pkl.gz'),\n",
    "    'set_bg': set_dir.joinpath('polarized-bigram_35f=868+_min15x.rsort-view_extra.pkl.gz'),\n",
    "    'mir_adv': mir_dir.joinpath('polarized-adv_MIRROR.35f-868thresh_min15x.rsort-view_extra.pkl.gz'),\n",
    "    'set_adv': set_dir.joinpath('polarized-adv_35f=868+_min15x.rsort-view_extra.pkl.gz'),\n",
    "}"
   ]
  },
  {
   "cell_type": "code",
   "execution_count": 2,
   "metadata": {},
   "outputs": [],
   "source": [
    "def select_data(df: pd.DataFrame,\n",
    "                n_dec: int = 3):\n",
    "\n",
    "    drop_ranks_obs = r'^[^rO]|^\\w$'\n",
    "\n",
    "    df = df.copy().filter(regex=drop_ranks_obs)\n",
    "    num_cols = df.select_dtypes('float').columns\n",
    "    df.loc[:, num_cols] = df.loc[:, num_cols].round(\n",
    "        n_dec).apply(pd.to_numeric, downcast='float')\n",
    "    return df"
   ]
  },
  {
   "cell_type": "code",
   "execution_count": 3,
   "metadata": {},
   "outputs": [],
   "source": [
    "def display_assoc(df: pd.DataFrame,\n",
    "                  N: int = 30,\n",
    "                  n_dec: int = 3,\n",
    "                  sort_columns: list = None):\n",
    "\n",
    "    col_re_filter = r'ad[vj]|given\\d$|prob|(log|odds)_ratio|^l\\d|expected_r|^f$'\n",
    "\n",
    "    if sort_columns is None:\n",
    "        sort_columns = df.columns.to_series().filter(\n",
    "            items=['am_p1_given2',\n",
    "                   'conservative_log_ratio',\n",
    "                   'adv_total',\n",
    "                   'adj_total']).to_list()\n",
    "    n_df = df.nlargest(N, columns=sort_columns).filter(regex=col_re_filter)\n",
    "    print_md_table(\n",
    "        n_df, title=f'**Top {N} associations**\\n_by `{\"` > `\".join(sort_columns)}`_\\n', n_dec=n_dec)\n",
    "    return n_df"
   ]
  },
  {
   "cell_type": "code",
   "execution_count": 14,
   "metadata": {},
   "outputs": [],
   "source": [
    "def show_data(df_path:Path):\n",
    "    _df = pd.read_pickle(df_path)\n",
    "    _df = select_data(_df)\n",
    "    return _df, display_assoc(_df)\n",
    "    "
   ]
  },
  {
   "cell_type": "markdown",
   "metadata": {},
   "source": [
    "## Strongest Bigram-Polarity Associations \n",
    "\n",
    "### Mirror Dataset Bigram Associations"
   ]
  },
  {
   "cell_type": "code",
   "execution_count": 15,
   "metadata": {},
   "outputs": [
    {
     "name": "stdout",
     "output_type": "stream",
     "text": [
      "**Top 30 associations**\n",
      "_by `am_p1_given2` > `conservative_log_ratio` > `adv_total` > `adj_total`_\n",
      "\n",
      "| key                      | l1       | l2                   |   f |   am_odds_ratio_disc |   am_p1_given2 |   am_p2_given1 |   log_ratio |   conservative_log_ratio | adv          | adj             |   adv_total |   adj_total |\n",
      "|:-------------------------|:---------|:---------------------|----:|---------------------:|---------------:|---------------:|------------:|-------------------------:|:-------------|:----------------|------------:|------------:|\n",
      "| NEG-ever_simple          | NEGATIVE | ever_simple          | 207 |                3.387 |          0.855 |          0.001 |      20.213 |                    6.081 | ever         | simple          |   5,050.000 |  27,767.000 |\n",
      "| NEG-ever_enough          | NEGATIVE | ever_enough          | 147 |                3.239 |          0.855 |          0.001 |      19.719 |                    5.562 | ever         | enough          |   5,050.000 |  10,176.000 |\n",
      "| NEG-ever_certain         | NEGATIVE | ever_certain         | 143 |                3.227 |          0.855 |          0.001 |      19.679 |                    5.520 | ever         | certain         |   5,050.000 |   2,116.000 |\n",
      "| NEG-entirely_certain     | NEGATIVE | entirely_certain     |  62 |                2.866 |          0.854 |          0.000 |      18.473 |                    4.197 | entirely     | certain         |  11,491.000 |   2,116.000 |\n",
      "| NEG-ever_black           | NEGATIVE | ever_black           |  56 |                2.822 |          0.854 |          0.000 |      18.327 |                    4.028 | ever         | black           |   5,050.000 |   1,704.000 |\n",
      "| NEG-ever_happy           | NEGATIVE | ever_happy           |  48 |                2.755 |          0.854 |          0.000 |      18.104 |                    3.766 | ever         | happy           |   5,050.000 |  15,693.000 |\n",
      "| NEG-ever_sick            | NEGATIVE | ever_sick            |  39 |                2.666 |          0.854 |          0.000 |      17.805 |                    3.403 | ever         | sick            |   5,050.000 |   2,201.000 |\n",
      "| NEG-there_much           | NEGATIVE | there_much           |  39 |                2.666 |          0.854 |          0.000 |      17.805 |                    3.403 | there        | much            |     319.000 |   8,014.000 |\n",
      "| NEG-ever_alone           | NEGATIVE | ever_alone           |  38 |                2.655 |          0.854 |          0.000 |      17.767 |                    3.357 | ever         | alone           |   5,050.000 |     824.000 |\n",
      "| NEG-ever_dull            | NEGATIVE | ever_dull            |  37 |                2.644 |          0.854 |          0.000 |      17.729 |                    3.309 | ever         | dull            |   5,050.000 |     739.000 |\n",
      "| NEG-ever_straightforward | NEGATIVE | ever_straightforward |  32 |                2.582 |          0.854 |          0.000 |      17.519 |                    3.042 | ever         | straightforward |   5,050.000 |   1,634.000 |\n",
      "| NEG-ever_final           | NEGATIVE | ever_final           |  32 |                2.582 |          0.854 |          0.000 |      17.519 |                    3.042 | ever         | final           |   5,050.000 |     224.000 |\n",
      "| NEG-ever_sure            | NEGATIVE | ever_sure            |  30 |                2.554 |          0.854 |          0.000 |      17.426 |                    2.921 | ever         | sure            |   5,050.000 |  11,285.000 |\n",
      "| NEG-truly_sure           | NEGATIVE | truly_sure           |  28 |                2.525 |          0.854 |          0.000 |      17.327 |                    2.789 | truly        | sure            |  14,216.000 |  11,285.000 |\n",
      "| NEG-ever_successful      | NEGATIVE | ever_successful      |  28 |                2.525 |          0.854 |          0.000 |      17.327 |                    2.789 | ever         | successful      |   5,050.000 |   5,646.000 |\n",
      "| NEG-more_untrue          | NEGATIVE | more_untrue          |  26 |                2.493 |          0.854 |          0.000 |      17.220 |                    2.644 | more         | untrue          | 312,473.969 |     420.000 |\n",
      "| NEG-particularly_fast    | NEGATIVE | particularly_fast    |  26 |                2.493 |          0.854 |          0.000 |      17.220 |                    2.644 | particularly | fast            |  14,612.000 |   1,459.000 |\n",
      "| NEG-ever_impossible      | NEGATIVE | ever_impossible      |  25 |                2.476 |          0.854 |          0.000 |      17.163 |                    2.567 | ever         | impossible      |   5,050.000 |   4,371.000 |\n",
      "| NEG-ever_safe            | NEGATIVE | ever_safe            |  25 |                2.476 |          0.854 |          0.000 |      17.163 |                    2.567 | ever         | safe            |   5,050.000 |   3,120.000 |\n",
      "| NEG-terribly_special     | NEGATIVE | terribly_special     |  24 |                2.459 |          0.854 |          0.000 |      17.104 |                    2.485 | terribly     | special         |   5,119.000 |  16,913.000 |\n",
      "| NEG-ever_fun             | NEGATIVE | ever_fun             |  24 |                2.459 |          0.854 |          0.000 |      17.104 |                    2.485 | ever         | fun             |   5,050.000 |   6,689.000 |\n",
      "| NEG-ever_permanent       | NEGATIVE | ever_permanent       |  22 |                2.422 |          0.854 |          0.000 |      16.979 |                    2.306 | ever         | permanent       |   5,050.000 |   1,173.000 |\n",
      "| NEG-yet_clear            | NEGATIVE | yet_clear            |  22 |                2.422 |          0.854 |          0.000 |      16.979 |                    2.306 | yet          | clear           |     855.000 |   8,610.000 |\n",
      "| NEG-more_synonymous      | NEGATIVE | more_synonymous      |  21 |                2.402 |          0.854 |          0.000 |      16.912 |                    2.209 | more         | synonymous      | 312,473.969 |     141.000 |\n",
      "| NEG-ever_clear           | NEGATIVE | ever_clear           |  21 |                2.402 |          0.854 |          0.000 |      16.912 |                    2.209 | ever         | clear           |   5,050.000 |   8,610.000 |\n",
      "| NEG-fully_certain        | NEGATIVE | fully_certain        |  21 |                2.402 |          0.854 |          0.000 |      16.912 |                    2.209 | fully        | certain         |   4,795.000 |   2,116.000 |\n",
      "| NEG-yet_certain          | NEGATIVE | yet_certain          |  21 |                2.402 |          0.854 |          0.000 |      16.912 |                    2.209 | yet          | certain         |     855.000 |   2,116.000 |\n",
      "| NEG-any_younger          | NEGATIVE | any_younger          |  20 |                2.381 |          0.854 |          0.000 |      16.841 |                    2.105 | any          | younger         |   1,495.000 |   1,042.000 |\n",
      "| NEG-overtly_wrong        | NEGATIVE | overtly_wrong        |  20 |                2.381 |          0.854 |          0.000 |      16.841 |                    2.105 | overtly      | wrong           |     833.000 |  23,764.000 |\n",
      "| NEG-ever_complete        | NEGATIVE | ever_complete        |  19 |                2.360 |          0.854 |          0.000 |      16.767 |                    1.993 | ever         | complete        |   5,050.000 |   1,376.000 |\n"
     ]
    }
   ],
   "source": [
    "mir_bg, mir_bg_top = show_data(paths['mir_bg'])"
   ]
  },
  {
   "cell_type": "markdown",
   "metadata": {},
   "source": [
    "**Top 30 associations**\n",
    "_by `am_p1_given2` > `conservative_log_ratio` > `adv_total` > `adj_total`_\n",
    "\n",
    "| key                      | l1       | l2                   |       f |   am_odds_ratio_disc |   am_p1_given2 |   am_p2_given1 |   log_ratio |   conservative_log_ratio | adv          | adj             |   adv_total |   adj_total |\n",
    "|:-------------------------|:---------|:---------------------|--------:|---------------------:|---------------:|---------------:|------------:|-------------------------:|:-------------|:----------------|------------:|------------:|\n",
    "| NEG-ever_simple          | NEGATIVE | ever_simple          | 207.000 |                3.387 |          0.855 |          0.001 |      20.213 |                    6.081 | ever         | simple          |   5,050.000 |  27,767.000 |\n",
    "| NEG-ever_enough          | NEGATIVE | ever_enough          | 147.000 |                3.239 |          0.855 |          0.001 |      19.719 |                    5.562 | ever         | enough          |   5,050.000 |  10,176.000 |\n",
    "| NEG-ever_certain         | NEGATIVE | ever_certain         | 143.000 |                3.227 |          0.855 |          0.001 |      19.679 |                    5.520 | ever         | certain         |   5,050.000 |   2,116.000 |\n",
    "| NEG-entirely_certain     | NEGATIVE | entirely_certain     |  62.000 |                2.866 |          0.854 |          0.000 |      18.473 |                    4.197 | entirely     | certain         |  11,491.000 |   2,116.000 |\n",
    "| NEG-ever_black           | NEGATIVE | ever_black           |  56.000 |                2.822 |          0.854 |          0.000 |      18.327 |                    4.028 | ever         | black           |   5,050.000 |   1,704.000 |\n",
    "| NEG-ever_happy           | NEGATIVE | ever_happy           |  48.000 |                2.755 |          0.854 |          0.000 |      18.104 |                    3.766 | ever         | happy           |   5,050.000 |  15,693.000 |\n",
    "| NEG-ever_sick            | NEGATIVE | ever_sick            |  39.000 |                2.666 |          0.854 |          0.000 |      17.805 |                    3.403 | ever         | sick            |   5,050.000 |   2,201.000 |\n",
    "| NEG-there_much           | NEGATIVE | there_much           |  39.000 |                2.666 |          0.854 |          0.000 |      17.805 |                    3.403 | there        | much            |     319.000 |   8,014.000 |\n",
    "| NEG-ever_alone           | NEGATIVE | ever_alone           |  38.000 |                2.655 |          0.854 |          0.000 |      17.767 |                    3.357 | ever         | alone           |   5,050.000 |     824.000 |\n",
    "| NEG-ever_dull            | NEGATIVE | ever_dull            |  37.000 |                2.644 |          0.854 |          0.000 |      17.729 |                    3.309 | ever         | dull            |   5,050.000 |     739.000 |\n",
    "| NEG-ever_straightforward | NEGATIVE | ever_straightforward |  32.000 |                2.582 |          0.854 |          0.000 |      17.519 |                    3.042 | ever         | straightforward |   5,050.000 |   1,634.000 |\n",
    "| NEG-ever_final           | NEGATIVE | ever_final           |  32.000 |                2.582 |          0.854 |          0.000 |      17.519 |                    3.042 | ever         | final           |   5,050.000 |     224.000 |\n",
    "| NEG-ever_sure            | NEGATIVE | ever_sure            |  30.000 |                2.554 |          0.854 |          0.000 |      17.426 |                    2.921 | ever         | sure            |   5,050.000 |  11,285.000 |\n",
    "| NEG-truly_sure           | NEGATIVE | truly_sure           |  28.000 |                2.525 |          0.854 |          0.000 |      17.327 |                    2.789 | truly        | sure            |  14,216.000 |  11,285.000 |\n",
    "| NEG-ever_successful      | NEGATIVE | ever_successful      |  28.000 |                2.525 |          0.854 |          0.000 |      17.327 |                    2.789 | ever         | successful      |   5,050.000 |   5,646.000 |\n",
    "| NEG-more_untrue          | NEGATIVE | more_untrue          |  26.000 |                2.493 |          0.854 |          0.000 |      17.220 |                    2.644 | more         | untrue          | 312,473.969 |     420.000 |\n",
    "| NEG-particularly_fast    | NEGATIVE | particularly_fast    |  26.000 |                2.493 |          0.854 |          0.000 |      17.220 |                    2.644 | particularly | fast            |  14,612.000 |   1,459.000 |\n",
    "| NEG-ever_impossible      | NEGATIVE | ever_impossible      |  25.000 |                2.476 |          0.854 |          0.000 |      17.163 |                    2.567 | ever         | impossible      |   5,050.000 |   4,371.000 |\n",
    "| NEG-ever_safe            | NEGATIVE | ever_safe            |  25.000 |                2.476 |          0.854 |          0.000 |      17.163 |                    2.567 | ever         | safe            |   5,050.000 |   3,120.000 |\n",
    "| NEG-terribly_special     | NEGATIVE | terribly_special     |  24.000 |                2.459 |          0.854 |          0.000 |      17.104 |                    2.485 | terribly     | special         |   5,119.000 |  16,913.000 |\n",
    "| NEG-ever_fun             | NEGATIVE | ever_fun             |  24.000 |                2.459 |          0.854 |          0.000 |      17.104 |                    2.485 | ever         | fun             |   5,050.000 |   6,689.000 |\n",
    "| NEG-ever_permanent       | NEGATIVE | ever_permanent       |  22.000 |                2.422 |          0.854 |          0.000 |      16.979 |                    2.306 | ever         | permanent       |   5,050.000 |   1,173.000 |\n",
    "| NEG-yet_clear            | NEGATIVE | yet_clear            |  22.000 |                2.422 |          0.854 |          0.000 |      16.979 |                    2.306 | yet          | clear           |     855.000 |   8,610.000 |\n",
    "| NEG-more_synonymous      | NEGATIVE | more_synonymous      |  21.000 |                2.402 |          0.854 |          0.000 |      16.912 |                    2.209 | more         | synonymous      | 312,473.969 |     141.000 |\n",
    "| NEG-ever_clear           | NEGATIVE | ever_clear           |  21.000 |                2.402 |          0.854 |          0.000 |      16.912 |                    2.209 | ever         | clear           |   5,050.000 |   8,610.000 |\n",
    "| NEG-fully_certain        | NEGATIVE | fully_certain        |  21.000 |                2.402 |          0.854 |          0.000 |      16.912 |                    2.209 | fully        | certain         |   4,795.000 |   2,116.000 |\n",
    "| NEG-yet_certain          | NEGATIVE | yet_certain          |  21.000 |                2.402 |          0.854 |          0.000 |      16.912 |                    2.209 | yet          | certain         |     855.000 |   2,116.000 |\n",
    "| NEG-any_younger          | NEGATIVE | any_younger          |  20.000 |                2.381 |          0.854 |          0.000 |      16.841 |                    2.105 | any          | younger         |   1,495.000 |   1,042.000 |\n",
    "| NEG-overtly_wrong        | NEGATIVE | overtly_wrong        |  20.000 |                2.381 |          0.854 |          0.000 |      16.841 |                    2.105 | overtly      | wrong           |     833.000 |  23,764.000 |\n",
    "| NEG-ever_complete        | NEGATIVE | ever_complete        |  19.000 |                2.360 |          0.854 |          0.000 |      16.767 |                    1.993 | ever         | complete        |   5,050.000 |   1,376.000 |\n"
   ]
  },
  {
   "cell_type": "code",
   "execution_count": 16,
   "metadata": {},
   "outputs": [
    {
     "data": {
      "text/plain": [
       "<Axes: ylabel='Frequency'>"
      ]
     },
     "execution_count": 16,
     "metadata": {},
     "output_type": "execute_result"
    },
    {
     "data": {
      "image/png": "[encoded data removed]",
      "text/plain": [
       "<Figure size 640x480 with 1 Axes>"
      ]
     },
     "metadata": {},
     "output_type": "display_data"
    }
   ],
   "source": [
    "mir_bg.am_p1_given2.plot(kind='hist')"
   ]
  },
  {
   "cell_type": "code",
   "execution_count": 17,
   "metadata": {},
   "outputs": [
    {
     "data": {
      "text/plain": [
       "<Axes: ylabel='Frequency'>"
      ]
     },
     "execution_count": 17,
     "metadata": {},
     "output_type": "execute_result"
    },
    {
     "data": {
      "image/png": "[encoded data removed]",
      "text/plain": [
       "<Figure size 640x480 with 1 Axes>"
      ]
     },
     "metadata": {},
     "output_type": "display_data"
    }
   ],
   "source": [
    "mir_bg.conservative_log_ratio.plot(kind='hist')"
   ]
  },
  {
   "cell_type": "code",
   "execution_count": 18,
   "metadata": {},
   "outputs": [
    {
     "name": "stderr",
     "output_type": "stream",
     "text": [
      "/tmp/ipykernel_2122168/798713192.py:1: FutureWarning: The default of observed=False is deprecated and will be changed to True in a future version of pandas. Pass observed=False to retain current behavior or observed=True to adopt the future default and silence this warning.\n",
      "  mir_bgm.groupby('adv').plot()\n",
      "/home/arh234/.conda/envs/dev-sanpi/lib/python3.11/site-packages/pandas/plotting/_matplotlib/core.py:513: RuntimeWarning: More than 20 figures have been opened. Figures created through the pyplot interface (`matplotlib.pyplot.figure`) are retained until explicitly closed and may consume too much memory. (To control this warning, see the rcParam `figure.max_open_warning`). Consider using `matplotlib.pyplot.close()`.\n",
      "  fig = self.plt.figure(figsize=self.figsize)\n"
     ]
    },
    {
     "ename": "KeyboardInterrupt",
     "evalue": "",
     "output_type": "error",
     "traceback": [
      "\u001b[0;31m---------------------------------------------------------------------------\u001b[0m",
      "\u001b[0;31mKeyboardInterrupt\u001b[0m                         Traceback (most recent call last)",
      "Cell \u001b[0;32mIn[18], line 1\u001b[0m\n\u001b[0;32m----> 1\u001b[0m mir_bgm\u001b[38;5;241m.\u001b[39mgroupby(\u001b[38;5;124m'\u001b[39m\u001b[38;5;124madv\u001b[39m\u001b[38;5;124m'\u001b[39m)\u001b[38;5;241m.\u001b[39mplot()\n",
      "File \u001b[0;32m~/.conda/envs/dev-sanpi/lib/python3.11/site-packages/pandas/core/groupby/groupby.py:723\u001b[0m, in \u001b[0;36mGroupByPlot.__call__\u001b[0;34m(self, *args, **kwargs)\u001b[0m\n\u001b[1;32m    720\u001b[0m     \u001b[38;5;28;01mreturn\u001b[39;00m \u001b[38;5;28mself\u001b[39m\u001b[38;5;241m.\u001b[39mplot(\u001b[38;5;241m*\u001b[39margs, \u001b[38;5;241m*\u001b[39m\u001b[38;5;241m*\u001b[39mkwargs)\n\u001b[1;32m    722\u001b[0m f\u001b[38;5;241m.\u001b[39m\u001b[38;5;18m__name__\u001b[39m \u001b[38;5;241m=\u001b[39m \u001b[38;5;124m\"\u001b[39m\u001b[38;5;124mplot\u001b[39m\u001b[38;5;124m\"\u001b[39m\n\u001b[0;32m--> 723\u001b[0m \u001b[38;5;28;01mreturn\u001b[39;00m \u001b[38;5;28mself\u001b[39m\u001b[38;5;241m.\u001b[39m_groupby\u001b[38;5;241m.\u001b[39m_python_apply_general(f, \u001b[38;5;28mself\u001b[39m\u001b[38;5;241m.\u001b[39m_groupby\u001b[38;5;241m.\u001b[39m_selected_obj)\n",
      "File \u001b[0;32m~/.conda/envs/dev-sanpi/lib/python3.11/site-packages/pandas/core/groupby/groupby.py:1819\u001b[0m, in \u001b[0;36mGroupBy._python_apply_general\u001b[0;34m(self, f, data, not_indexed_same, is_transform, is_agg)\u001b[0m\n\u001b[1;32m   1784\u001b[0m \u001b[38;5;129m@final\u001b[39m\n\u001b[1;32m   1785\u001b[0m \u001b[38;5;28;01mdef\u001b[39;00m \u001b[38;5;21m_python_apply_general\u001b[39m(\n\u001b[1;32m   1786\u001b[0m     \u001b[38;5;28mself\u001b[39m,\n\u001b[0;32m   (...)\u001b[0m\n\u001b[1;32m   1791\u001b[0m     is_agg: \u001b[38;5;28mbool\u001b[39m \u001b[38;5;241m=\u001b[39m \u001b[38;5;28;01mFalse\u001b[39;00m,\n\u001b[1;32m   1792\u001b[0m ) \u001b[38;5;241m-\u001b[39m\u001b[38;5;241m>\u001b[39m NDFrameT:\n\u001b[1;32m   1793\u001b[0m \u001b[38;5;250m    \u001b[39m\u001b[38;5;124;03m\"\"\"\u001b[39;00m\n\u001b[1;32m   1794\u001b[0m \u001b[38;5;124;03m    Apply function f in python space\u001b[39;00m\n\u001b[1;32m   1795\u001b[0m \n\u001b[0;32m   (...)\u001b[0m\n\u001b[1;32m   1817\u001b[0m \u001b[38;5;124;03m        data after applying f\u001b[39;00m\n\u001b[1;32m   1818\u001b[0m \u001b[38;5;124;03m    \"\"\"\u001b[39;00m\n\u001b[0;32m-> 1819\u001b[0m     values, mutated \u001b[38;5;241m=\u001b[39m \u001b[38;5;28mself\u001b[39m\u001b[38;5;241m.\u001b[39mgrouper\u001b[38;5;241m.\u001b[39mapply_groupwise(f, data, \u001b[38;5;28mself\u001b[39m\u001b[38;5;241m.\u001b[39maxis)\n\u001b[1;32m   1820\u001b[0m     \u001b[38;5;28;01mif\u001b[39;00m not_indexed_same \u001b[38;5;129;01mis\u001b[39;00m \u001b[38;5;28;01mNone\u001b[39;00m:\n\u001b[1;32m   1821\u001b[0m         not_indexed_same \u001b[38;5;241m=\u001b[39m mutated\n",
      "File \u001b[0;32m~/.conda/envs/dev-sanpi/lib/python3.11/site-packages/pandas/core/groupby/ops.py:911\u001b[0m, in \u001b[0;36mBaseGrouper.apply_groupwise\u001b[0;34m(self, f, data, axis)\u001b[0m\n\u001b[1;32m    909\u001b[0m \u001b[38;5;66;03m# group might be modified\u001b[39;00m\n\u001b[1;32m    910\u001b[0m group_axes \u001b[38;5;241m=\u001b[39m group\u001b[38;5;241m.\u001b[39maxes\n\u001b[0;32m--> 911\u001b[0m res \u001b[38;5;241m=\u001b[39m f(group)\n\u001b[1;32m    912\u001b[0m \u001b[38;5;28;01mif\u001b[39;00m \u001b[38;5;129;01mnot\u001b[39;00m mutated \u001b[38;5;129;01mand\u001b[39;00m \u001b[38;5;129;01mnot\u001b[39;00m _is_indexed_like(res, group_axes, axis):\n\u001b[1;32m    913\u001b[0m     mutated \u001b[38;5;241m=\u001b[39m \u001b[38;5;28;01mTrue\u001b[39;00m\n",
      "File \u001b[0;32m~/.conda/envs/dev-sanpi/lib/python3.11/site-packages/pandas/core/groupby/groupby.py:720\u001b[0m, in \u001b[0;36mGroupByPlot.__call__.<locals>.f\u001b[0;34m(self)\u001b[0m\n\u001b[1;32m    719\u001b[0m \u001b[38;5;28;01mdef\u001b[39;00m \u001b[38;5;21mf\u001b[39m(\u001b[38;5;28mself\u001b[39m):\n\u001b[0;32m--> 720\u001b[0m     \u001b[38;5;28;01mreturn\u001b[39;00m \u001b[38;5;28mself\u001b[39m\u001b[38;5;241m.\u001b[39mplot(\u001b[38;5;241m*\u001b[39margs, \u001b[38;5;241m*\u001b[39m\u001b[38;5;241m*\u001b[39mkwargs)\n",
      "File \u001b[0;32m~/.conda/envs/dev-sanpi/lib/python3.11/site-packages/pandas/plotting/_core.py:1031\u001b[0m, in \u001b[0;36mPlotAccessor.__call__\u001b[0;34m(self, *args, **kwargs)\u001b[0m\n\u001b[1;32m   1028\u001b[0m             label_name \u001b[38;5;241m=\u001b[39m label_kw \u001b[38;5;129;01mor\u001b[39;00m data\u001b[38;5;241m.\u001b[39mcolumns\n\u001b[1;32m   1029\u001b[0m             data\u001b[38;5;241m.\u001b[39mcolumns \u001b[38;5;241m=\u001b[39m label_name\n\u001b[0;32m-> 1031\u001b[0m \u001b[38;5;28;01mreturn\u001b[39;00m plot_backend\u001b[38;5;241m.\u001b[39mplot(data, kind\u001b[38;5;241m=\u001b[39mkind, \u001b[38;5;241m*\u001b[39m\u001b[38;5;241m*\u001b[39mkwargs)\n",
      "File \u001b[0;32m~/.conda/envs/dev-sanpi/lib/python3.11/site-packages/pandas/plotting/_matplotlib/__init__.py:70\u001b[0m, in \u001b[0;36mplot\u001b[0;34m(data, kind, **kwargs)\u001b[0m\n\u001b[1;32m     68\u001b[0m             ax \u001b[38;5;241m=\u001b[39m plt\u001b[38;5;241m.\u001b[39mgca()\n\u001b[1;32m     69\u001b[0m         kwargs[\u001b[38;5;124m\"\u001b[39m\u001b[38;5;124max\u001b[39m\u001b[38;5;124m\"\u001b[39m] \u001b[38;5;241m=\u001b[39m \u001b[38;5;28mgetattr\u001b[39m(ax, \u001b[38;5;124m\"\u001b[39m\u001b[38;5;124mleft_ax\u001b[39m\u001b[38;5;124m\"\u001b[39m, ax)\n\u001b[0;32m---> 70\u001b[0m plot_obj \u001b[38;5;241m=\u001b[39m PLOT_CLASSES[kind](data, \u001b[38;5;241m*\u001b[39m\u001b[38;5;241m*\u001b[39mkwargs)\n\u001b[1;32m     71\u001b[0m plot_obj\u001b[38;5;241m.\u001b[39mgenerate()\n\u001b[1;32m     72\u001b[0m plot_obj\u001b[38;5;241m.\u001b[39mdraw()\n",
      "File \u001b[0;32m~/.conda/envs/dev-sanpi/lib/python3.11/site-packages/pandas/plotting/_matplotlib/core.py:1347\u001b[0m, in \u001b[0;36mLinePlot.__init__\u001b[0;34m(self, data, **kwargs)\u001b[0m\n\u001b[1;32m   1344\u001b[0m \u001b[38;5;28;01mdef\u001b[39;00m \u001b[38;5;21m__init__\u001b[39m(\u001b[38;5;28mself\u001b[39m, data, \u001b[38;5;241m*\u001b[39m\u001b[38;5;241m*\u001b[39mkwargs) \u001b[38;5;241m-\u001b[39m\u001b[38;5;241m>\u001b[39m \u001b[38;5;28;01mNone\u001b[39;00m:\n\u001b[1;32m   1345\u001b[0m     \u001b[38;5;28;01mfrom\u001b[39;00m \u001b[38;5;21;01mpandas\u001b[39;00m\u001b[38;5;21;01m.\u001b[39;00m\u001b[38;5;21;01mplotting\u001b[39;00m \u001b[38;5;28;01mimport\u001b[39;00m plot_params\n\u001b[0;32m-> 1347\u001b[0m     MPLPlot\u001b[38;5;241m.\u001b[39m\u001b[38;5;21m__init__\u001b[39m(\u001b[38;5;28mself\u001b[39m, data, \u001b[38;5;241m*\u001b[39m\u001b[38;5;241m*\u001b[39mkwargs)\n\u001b[1;32m   1348\u001b[0m     \u001b[38;5;28;01mif\u001b[39;00m \u001b[38;5;28mself\u001b[39m\u001b[38;5;241m.\u001b[39mstacked:\n\u001b[1;32m   1349\u001b[0m         \u001b[38;5;28mself\u001b[39m\u001b[38;5;241m.\u001b[39mdata \u001b[38;5;241m=\u001b[39m \u001b[38;5;28mself\u001b[39m\u001b[38;5;241m.\u001b[39mdata\u001b[38;5;241m.\u001b[39mfillna(value\u001b[38;5;241m=\u001b[39m\u001b[38;5;241m0\u001b[39m)\n",
      "File \u001b[0;32m~/.conda/envs/dev-sanpi/lib/python3.11/site-packages/pandas/plotting/_matplotlib/core.py:173\u001b[0m, in \u001b[0;36mMPLPlot.__init__\u001b[0;34m(self, data, kind, by, subplots, sharex, sharey, use_index, figsize, grid, legend, rot, ax, fig, title, xlim, ylim, xticks, yticks, xlabel, ylabel, fontsize, secondary_y, colormap, table, layout, include_bool, column, **kwds)\u001b[0m\n\u001b[1;32m    171\u001b[0m     \u001b[38;5;28mself\u001b[39m\u001b[38;5;241m.\u001b[39mcolumns \u001b[38;5;241m=\u001b[39m com\u001b[38;5;241m.\u001b[39mmaybe_make_list(column)\n\u001b[1;32m    172\u001b[0m \u001b[38;5;28;01melif\u001b[39;00m \u001b[38;5;28mself\u001b[39m\u001b[38;5;241m.\u001b[39mby \u001b[38;5;129;01mis\u001b[39;00m \u001b[38;5;28;01mNone\u001b[39;00m:\n\u001b[0;32m--> 173\u001b[0m     \u001b[38;5;28mself\u001b[39m\u001b[38;5;241m.\u001b[39mcolumns \u001b[38;5;241m=\u001b[39m [\n\u001b[1;32m    174\u001b[0m         col \u001b[38;5;28;01mfor\u001b[39;00m col \u001b[38;5;129;01min\u001b[39;00m data\u001b[38;5;241m.\u001b[39mcolumns \u001b[38;5;28;01mif\u001b[39;00m is_numeric_dtype(data[col])\n\u001b[1;32m    175\u001b[0m     ]\n\u001b[1;32m    176\u001b[0m \u001b[38;5;28;01melse\u001b[39;00m:\n\u001b[1;32m    177\u001b[0m     \u001b[38;5;28mself\u001b[39m\u001b[38;5;241m.\u001b[39mcolumns \u001b[38;5;241m=\u001b[39m [\n\u001b[1;32m    178\u001b[0m         col\n\u001b[1;32m    179\u001b[0m         \u001b[38;5;28;01mfor\u001b[39;00m col \u001b[38;5;129;01min\u001b[39;00m data\u001b[38;5;241m.\u001b[39mcolumns\n\u001b[1;32m    180\u001b[0m         \u001b[38;5;28;01mif\u001b[39;00m col \u001b[38;5;129;01mnot\u001b[39;00m \u001b[38;5;129;01min\u001b[39;00m \u001b[38;5;28mself\u001b[39m\u001b[38;5;241m.\u001b[39mby \u001b[38;5;129;01mand\u001b[39;00m is_numeric_dtype(data[col])\n\u001b[1;32m    181\u001b[0m     ]\n",
      "File \u001b[0;32m~/.conda/envs/dev-sanpi/lib/python3.11/site-packages/pandas/plotting/_matplotlib/core.py:174\u001b[0m, in \u001b[0;36m<listcomp>\u001b[0;34m(.0)\u001b[0m\n\u001b[1;32m    171\u001b[0m     \u001b[38;5;28mself\u001b[39m\u001b[38;5;241m.\u001b[39mcolumns \u001b[38;5;241m=\u001b[39m com\u001b[38;5;241m.\u001b[39mmaybe_make_list(column)\n\u001b[1;32m    172\u001b[0m \u001b[38;5;28;01melif\u001b[39;00m \u001b[38;5;28mself\u001b[39m\u001b[38;5;241m.\u001b[39mby \u001b[38;5;129;01mis\u001b[39;00m \u001b[38;5;28;01mNone\u001b[39;00m:\n\u001b[1;32m    173\u001b[0m     \u001b[38;5;28mself\u001b[39m\u001b[38;5;241m.\u001b[39mcolumns \u001b[38;5;241m=\u001b[39m [\n\u001b[0;32m--> 174\u001b[0m         col \u001b[38;5;28;01mfor\u001b[39;00m col \u001b[38;5;129;01min\u001b[39;00m data\u001b[38;5;241m.\u001b[39mcolumns \u001b[38;5;28;01mif\u001b[39;00m is_numeric_dtype(data[col])\n\u001b[1;32m    175\u001b[0m     ]\n\u001b[1;32m    176\u001b[0m \u001b[38;5;28;01melse\u001b[39;00m:\n\u001b[1;32m    177\u001b[0m     \u001b[38;5;28mself\u001b[39m\u001b[38;5;241m.\u001b[39mcolumns \u001b[38;5;241m=\u001b[39m [\n\u001b[1;32m    178\u001b[0m         col\n\u001b[1;32m    179\u001b[0m         \u001b[38;5;28;01mfor\u001b[39;00m col \u001b[38;5;129;01min\u001b[39;00m data\u001b[38;5;241m.\u001b[39mcolumns\n\u001b[1;32m    180\u001b[0m         \u001b[38;5;28;01mif\u001b[39;00m col \u001b[38;5;129;01mnot\u001b[39;00m \u001b[38;5;129;01min\u001b[39;00m \u001b[38;5;28mself\u001b[39m\u001b[38;5;241m.\u001b[39mby \u001b[38;5;129;01mand\u001b[39;00m is_numeric_dtype(data[col])\n\u001b[1;32m    181\u001b[0m     ]\n",
      "File \u001b[0;32m~/.conda/envs/dev-sanpi/lib/python3.11/site-packages/pandas/core/frame.py:3869\u001b[0m, in \u001b[0;36mDataFrame.__getitem__\u001b[0;34m(self, key)\u001b[0m\n\u001b[1;32m   3862\u001b[0m \u001b[38;5;66;03m# GH#45316 Return view if key is not duplicated\u001b[39;00m\n\u001b[1;32m   3863\u001b[0m \u001b[38;5;66;03m# Only use drop_duplicates with duplicates for performance\u001b[39;00m\n\u001b[1;32m   3864\u001b[0m \u001b[38;5;28;01mif\u001b[39;00m \u001b[38;5;129;01mnot\u001b[39;00m is_mi \u001b[38;5;129;01mand\u001b[39;00m (\n\u001b[1;32m   3865\u001b[0m     \u001b[38;5;28mself\u001b[39m\u001b[38;5;241m.\u001b[39mcolumns\u001b[38;5;241m.\u001b[39mis_unique\n\u001b[1;32m   3866\u001b[0m     \u001b[38;5;129;01mand\u001b[39;00m key \u001b[38;5;129;01min\u001b[39;00m \u001b[38;5;28mself\u001b[39m\u001b[38;5;241m.\u001b[39mcolumns\n\u001b[1;32m   3867\u001b[0m     \u001b[38;5;129;01mor\u001b[39;00m key \u001b[38;5;129;01min\u001b[39;00m \u001b[38;5;28mself\u001b[39m\u001b[38;5;241m.\u001b[39mcolumns\u001b[38;5;241m.\u001b[39mdrop_duplicates(keep\u001b[38;5;241m=\u001b[39m\u001b[38;5;28;01mFalse\u001b[39;00m)\n\u001b[1;32m   3868\u001b[0m ):\n\u001b[0;32m-> 3869\u001b[0m     \u001b[38;5;28;01mreturn\u001b[39;00m \u001b[38;5;28mself\u001b[39m\u001b[38;5;241m.\u001b[39m_get_item_cache(key)\n\u001b[1;32m   3871\u001b[0m \u001b[38;5;28;01melif\u001b[39;00m is_mi \u001b[38;5;129;01mand\u001b[39;00m \u001b[38;5;28mself\u001b[39m\u001b[38;5;241m.\u001b[39mcolumns\u001b[38;5;241m.\u001b[39mis_unique \u001b[38;5;129;01mand\u001b[39;00m key \u001b[38;5;129;01min\u001b[39;00m \u001b[38;5;28mself\u001b[39m\u001b[38;5;241m.\u001b[39mcolumns:\n\u001b[1;32m   3872\u001b[0m     \u001b[38;5;28;01mreturn\u001b[39;00m \u001b[38;5;28mself\u001b[39m\u001b[38;5;241m.\u001b[39m_getitem_multilevel(key)\n",
      "File \u001b[0;32m~/.conda/envs/dev-sanpi/lib/python3.11/site-packages/pandas/core/frame.py:4415\u001b[0m, in \u001b[0;36mDataFrame._get_item_cache\u001b[0;34m(self, item)\u001b[0m\n\u001b[1;32m   4410\u001b[0m \u001b[38;5;28;01mif\u001b[39;00m res \u001b[38;5;129;01mis\u001b[39;00m \u001b[38;5;28;01mNone\u001b[39;00m:\n\u001b[1;32m   4411\u001b[0m     \u001b[38;5;66;03m# All places that call _get_item_cache have unique columns,\u001b[39;00m\n\u001b[1;32m   4412\u001b[0m     \u001b[38;5;66;03m#  pending resolution of GH#33047\u001b[39;00m\n\u001b[1;32m   4414\u001b[0m     loc \u001b[38;5;241m=\u001b[39m \u001b[38;5;28mself\u001b[39m\u001b[38;5;241m.\u001b[39mcolumns\u001b[38;5;241m.\u001b[39mget_loc(item)\n\u001b[0;32m-> 4415\u001b[0m     res \u001b[38;5;241m=\u001b[39m \u001b[38;5;28mself\u001b[39m\u001b[38;5;241m.\u001b[39m_ixs(loc, axis\u001b[38;5;241m=\u001b[39m\u001b[38;5;241m1\u001b[39m)\n\u001b[1;32m   4417\u001b[0m     cache[item] \u001b[38;5;241m=\u001b[39m res\n\u001b[1;32m   4419\u001b[0m     \u001b[38;5;66;03m# for a chain\u001b[39;00m\n",
      "File \u001b[0;32m~/.conda/envs/dev-sanpi/lib/python3.11/site-packages/pandas/core/frame.py:3804\u001b[0m, in \u001b[0;36mDataFrame._ixs\u001b[0;34m(self, i, axis)\u001b[0m\n\u001b[1;32m   3801\u001b[0m label \u001b[38;5;241m=\u001b[39m \u001b[38;5;28mself\u001b[39m\u001b[38;5;241m.\u001b[39mcolumns[i]\n\u001b[1;32m   3803\u001b[0m col_mgr \u001b[38;5;241m=\u001b[39m \u001b[38;5;28mself\u001b[39m\u001b[38;5;241m.\u001b[39m_mgr\u001b[38;5;241m.\u001b[39miget(i)\n\u001b[0;32m-> 3804\u001b[0m result \u001b[38;5;241m=\u001b[39m \u001b[38;5;28mself\u001b[39m\u001b[38;5;241m.\u001b[39m_box_col_values(col_mgr, i)\n\u001b[1;32m   3806\u001b[0m \u001b[38;5;66;03m# this is a cached value, mark it so\u001b[39;00m\n\u001b[1;32m   3807\u001b[0m result\u001b[38;5;241m.\u001b[39m_set_as_cached(label, \u001b[38;5;28mself\u001b[39m)\n",
      "File \u001b[0;32m~/.conda/envs/dev-sanpi/lib/python3.11/site-packages/pandas/core/frame.py:4390\u001b[0m, in \u001b[0;36mDataFrame._box_col_values\u001b[0;34m(self, values, loc)\u001b[0m\n\u001b[1;32m   4385\u001b[0m \u001b[38;5;250m\u001b[39m\u001b[38;5;124;03m\"\"\"\u001b[39;00m\n\u001b[1;32m   4386\u001b[0m \u001b[38;5;124;03mProvide boxed values for a column.\u001b[39;00m\n\u001b[1;32m   4387\u001b[0m \u001b[38;5;124;03m\"\"\"\u001b[39;00m\n\u001b[1;32m   4388\u001b[0m \u001b[38;5;66;03m# Lookup in columns so that if e.g. a str datetime was passed\u001b[39;00m\n\u001b[1;32m   4389\u001b[0m \u001b[38;5;66;03m#  we attach the Timestamp object as the name.\u001b[39;00m\n\u001b[0;32m-> 4390\u001b[0m name \u001b[38;5;241m=\u001b[39m \u001b[38;5;28mself\u001b[39m\u001b[38;5;241m.\u001b[39mcolumns[loc]\n\u001b[1;32m   4391\u001b[0m \u001b[38;5;66;03m# We get index=self.index bc values is a SingleDataManager\u001b[39;00m\n\u001b[1;32m   4392\u001b[0m obj \u001b[38;5;241m=\u001b[39m \u001b[38;5;28mself\u001b[39m\u001b[38;5;241m.\u001b[39m_constructor_sliced_from_mgr(values, axes\u001b[38;5;241m=\u001b[39mvalues\u001b[38;5;241m.\u001b[39maxes)\n",
      "File \u001b[0;32m~/.conda/envs/dev-sanpi/lib/python3.11/site-packages/pandas/core/indexes/base.py:5365\u001b[0m, in \u001b[0;36mIndex.__getitem__\u001b[0;34m(self, key)\u001b[0m\n\u001b[1;32m   5361\u001b[0m getitem \u001b[38;5;241m=\u001b[39m \u001b[38;5;28mself\u001b[39m\u001b[38;5;241m.\u001b[39m_data\u001b[38;5;241m.\u001b[39m\u001b[38;5;21m__getitem__\u001b[39m\n\u001b[1;32m   5363\u001b[0m \u001b[38;5;28;01mif\u001b[39;00m is_integer(key) \u001b[38;5;129;01mor\u001b[39;00m is_float(key):\n\u001b[1;32m   5364\u001b[0m     \u001b[38;5;66;03m# GH#44051 exclude bool, which would return a 2d ndarray\u001b[39;00m\n\u001b[0;32m-> 5365\u001b[0m     key \u001b[38;5;241m=\u001b[39m com\u001b[38;5;241m.\u001b[39mcast_scalar_indexer(key)\n\u001b[1;32m   5366\u001b[0m     \u001b[38;5;28;01mreturn\u001b[39;00m getitem(key)\n\u001b[1;32m   5368\u001b[0m \u001b[38;5;28;01mif\u001b[39;00m \u001b[38;5;28misinstance\u001b[39m(key, \u001b[38;5;28mslice\u001b[39m):\n\u001b[1;32m   5369\u001b[0m     \u001b[38;5;66;03m# This case is separated from the conditional above to avoid\u001b[39;00m\n\u001b[1;32m   5370\u001b[0m     \u001b[38;5;66;03m# pessimization com.is_bool_indexer and ndim checks.\u001b[39;00m\n",
      "File \u001b[0;32m~/.conda/envs/dev-sanpi/lib/python3.11/site-packages/pandas/core/common.py:149\u001b[0m, in \u001b[0;36mcast_scalar_indexer\u001b[0;34m(val)\u001b[0m\n\u001b[1;32m    144\u001b[0m             \u001b[38;5;28;01mreturn\u001b[39;00m lib\u001b[38;5;241m.\u001b[39mis_bool_list(key)\n\u001b[1;32m    146\u001b[0m     \u001b[38;5;28;01mreturn\u001b[39;00m \u001b[38;5;28;01mFalse\u001b[39;00m\n\u001b[0;32m--> 149\u001b[0m \u001b[38;5;28;01mdef\u001b[39;00m \u001b[38;5;21mcast_scalar_indexer\u001b[39m(val):\n\u001b[1;32m    150\u001b[0m \u001b[38;5;250m    \u001b[39m\u001b[38;5;124;03m\"\"\"\u001b[39;00m\n\u001b[1;32m    151\u001b[0m \u001b[38;5;124;03m    Disallow indexing with a float key, even if that key is a round number.\u001b[39;00m\n\u001b[1;32m    152\u001b[0m \n\u001b[0;32m   (...)\u001b[0m\n\u001b[1;32m    159\u001b[0m \u001b[38;5;124;03m    outval : scalar\u001b[39;00m\n\u001b[1;32m    160\u001b[0m \u001b[38;5;124;03m    \"\"\"\u001b[39;00m\n\u001b[1;32m    161\u001b[0m     \u001b[38;5;66;03m# assumes lib.is_scalar(val)\u001b[39;00m\n",
      "\u001b[0;31mKeyboardInterrupt\u001b[0m: "
     ]
    }
   ],
   "source": [
    "mir_bg_top.groupby('adv').plot()"
   ]
  },
  {
   "cell_type": "markdown",
   "metadata": {},
   "source": [
    "### Set Difference Bigram Associations"
   ]
  },
  {
   "cell_type": "code",
   "execution_count": 6,
   "metadata": {},
   "outputs": [
    {
     "name": "stdout",
     "output_type": "stream",
     "text": [
      "**Top 30 associations**\n",
      "_by `am_p1_given2` > `conservative_log_ratio` > `adv_total` > `adj_total`_\n",
      "\n",
      "|    | l1      | l2                          |   f |   am_odds_ratio_disc |   am_p1_given2 |   am_p2_given1 |   log_ratio |   conservative_log_ratio |   unexpected_ratio |   joint_probability | adv         | adj             |   adv_total |   adj_total |\n",
      "|---:|:--------|:----------------------------|----:|---------------------:|---------------:|---------------:|------------:|-------------------------:|-------------------:|--------------------:|:------------|:----------------|------------:|------------:|\n",
      "|  0 | NEGATED | exactly_shy                 | 124 |                3.801 |          0.962 |          0.000 |      21.588 |                    7.201 |              0.962 |               0.000 | exactly     | shy             |  59,426.000 |  50,705.000 |\n",
      "|  1 | NEGATED | exactly_forthcoming         | 107 |                3.738 |          0.962 |          0.000 |      21.375 |                    6.969 |              0.962 |               0.000 | exactly     | forthcoming     |  59,426.000 |  11,222.000 |\n",
      "|  2 | NEGATED | exactly_practical           | 106 |                3.734 |          0.962 |          0.000 |      21.362 |                    6.954 |              0.962 |               0.000 | exactly     | practical       |  59,426.000 |  67,013.000 |\n",
      "|  3 | NEGATED | exactly_impressive          | 100 |                3.708 |          0.962 |          0.000 |      21.278 |                    6.862 |              0.962 |               0.000 | exactly     | impressive      |  59,426.000 | 195,248.000 |\n",
      "|  4 | NEGATED | exactly_straightforward     |  83 |                3.628 |          0.962 |          0.000 |      21.009 |                    6.563 |              0.962 |               0.000 | exactly     | straightforward |  59,426.000 |  59,542.000 |\n",
      "|  5 | NEGATED | exactly_reassuring          |  78 |                3.601 |          0.962 |          0.000 |      20.919 |                    6.462 |              0.962 |               0.000 | exactly     | reassuring      |  59,426.000 |   8,768.000 |\n",
      "|  6 | NEGATED | exactly_intuitive           |  76 |                3.590 |          0.962 |          0.000 |      20.882 |                    6.419 |              0.962 |               0.000 | exactly     | intuitive       |  59,426.000 |  23,265.000 |\n",
      "|  7 | NEGATED | exactly_novel               |  66 |                3.529 |          0.962 |          0.000 |      20.678 |                    6.186 |              0.962 |               0.000 | exactly     | novel           |  59,426.000 |   8,056.000 |\n",
      "|  8 | NEGATED | exactly_unheard             |  65 |                3.523 |          0.962 |          0.000 |      20.656 |                    6.161 |              0.962 |               0.000 | exactly     | unheard         |  59,426.000 |  17,809.000 |\n",
      "|  9 | NEGATED | exactly_romantic            |  64 |                3.516 |          0.962 |          0.000 |      20.634 |                    6.135 |              0.962 |               0.000 | exactly     | romantic        |  59,426.000 |  33,311.000 |\n",
      "| 10 | NEGATED | that_thrilled               |  59 |                3.481 |          0.962 |          0.000 |      20.517 |                    5.997 |              0.962 |               0.000 | that        | thrilled        | 249,255.016 |  29,212.000 |\n",
      "| 11 | NEGATED | exactly_kind                |  52 |                3.426 |          0.962 |          0.000 |      20.334 |                    5.781 |              0.962 |               0.000 | exactly     | kind            |  59,426.000 |  30,230.000 |\n",
      "| 12 | NEGATED | exactly_obvious             |  50 |                3.410 |          0.962 |          0.000 |      20.278 |                    5.712 |              0.962 |               0.000 | exactly     | obvious         |  59,426.000 | 192,364.000 |\n",
      "| 13 | NEGATED | exactly_worried             |  47 |                3.383 |          0.962 |          0.000 |      20.189 |                    5.604 |              0.962 |               0.000 | exactly     | worried         |  59,426.000 | 118,127.000 |\n",
      "| 14 | NEGATED | exactly_inexpensive         |  46 |                3.374 |          0.962 |          0.000 |      20.158 |                    5.566 |              0.962 |               0.000 | exactly     | inexpensive     |  59,426.000 |  27,873.000 |\n",
      "| 15 | NEGATED | only_yummy                  |  44 |                3.355 |          0.962 |          0.000 |      20.093 |                    5.486 |              0.962 |               0.000 | only        | yummy           | 445,868.000 |   9,013.000 |\n",
      "| 16 | NEGATED | yet_privy                   |  38 |                3.292 |          0.962 |          0.000 |      19.882 |                    5.220 |              0.962 |               0.000 | yet         | privy           |  96,968.000 |   4,150.000 |\n",
      "| 17 | NEGATED | exactly_supportive          |  37 |                3.280 |          0.962 |          0.000 |      19.843 |                    5.170 |              0.962 |               0.000 | exactly     | supportive      |  59,426.000 |  62,714.000 |\n",
      "| 18 | NEGATED | exactly_unprecedented       |  37 |                3.280 |          0.962 |          0.000 |      19.843 |                    5.170 |              0.962 |               0.000 | exactly     | unprecedented   |  59,426.000 |  11,998.000 |\n",
      "| 19 | NEGATED | exactly_user-friendly       |  36 |                3.269 |          0.962 |          0.000 |      19.804 |                    5.119 |              0.962 |               0.000 | exactly     | user-friendly   |  59,426.000 |  10,405.000 |\n",
      "| 21 | NEGATED | exactly_alone               |  35 |                3.257 |          0.962 |          0.000 |      19.763 |                    5.066 |              0.962 |               0.000 | exactly     | alone           |  59,426.000 |  82,780.000 |\n",
      "| 20 | NEGATED | exactly_transparent         |  35 |                3.257 |          0.962 |          0.000 |      19.763 |                    5.066 |              0.962 |               0.000 | exactly     | transparent     |  59,426.000 |  46,080.000 |\n",
      "| 23 | NEGATED | necessarily_interchangeable |  34 |                3.244 |          0.962 |          0.000 |      19.721 |                    5.011 |              0.962 |               0.000 | necessarily | interchangeable |  54,048.000 |   4,990.000 |\n",
      "| 22 | NEGATED | necessarily_transferable    |  34 |                3.244 |          0.962 |          0.000 |      19.721 |                    5.011 |              0.962 |               0.000 | necessarily | transferable    |  54,048.000 |   4,127.000 |\n",
      "| 25 | NEGATED | only_captivating            |  33 |                3.231 |          0.962 |          0.000 |      19.678 |                    4.954 |              0.962 |               0.000 | only        | captivating     | 445,868.000 |  10,506.000 |\n",
      "| 24 | NEGATED | only_appalling              |  33 |                3.231 |          0.962 |          0.000 |      19.678 |                    4.954 |              0.962 |               0.000 | only        | appalling       | 445,868.000 |   7,004.000 |\n",
      "| 27 | NEGATED | exactly_illegal             |  32 |                3.218 |          0.962 |          0.000 |      19.634 |                    4.895 |              0.962 |               0.000 | exactly     | illegal         |  59,426.000 |  43,798.000 |\n",
      "| 26 | NEGATED | exactly_fashionable         |  32 |                3.218 |          0.962 |          0.000 |      19.634 |                    4.895 |              0.962 |               0.000 | exactly     | fashionable     |  59,426.000 |  16,514.000 |\n",
      "| 30 | NEGATED | exactly_dominant            |  31 |                3.205 |          0.962 |          0.000 |      19.588 |                    4.833 |              0.962 |               0.000 | exactly     | dominant        |  59,426.000 |  37,653.000 |\n",
      "| 28 | NEGATED | exactly_plentiful           |  31 |                3.205 |          0.962 |          0.000 |      19.588 |                    4.833 |              0.962 |               0.000 | exactly     | plentiful       |  59,426.000 |   9,509.000 |\n"
     ]
    }
   ],
   "source": [
    "set_bg, set_bg_top = show_data(paths['set_bg'])"
   ]
  },
  {
   "cell_type": "markdown",
   "metadata": {},
   "source": [
    "**Top 30 associations**\n",
    "_by `am_p1_given2` > `conservative_log_ratio` > `adv_total` > `adj_total`_\n",
    "\n",
    "|    | l1      | l2                          |       f |   am_odds_ratio_disc |   am_p1_given2 |   am_p2_given1 |   log_ratio |   conservative_log_ratio |   unexpected_ratio |   joint_probability | adv         | adj             |   adv_total |   adj_total |\n",
    "|---:|:--------|:----------------------------|--------:|---------------------:|---------------:|---------------:|------------:|-------------------------:|-------------------:|--------------------:|:------------|:----------------|------------:|------------:|\n",
    "|  0 | NEGATED | exactly_shy                 | 124.000 |                3.801 |          0.962 |          0.000 |      21.588 |                    7.201 |              0.962 |               0.000 | exactly     | shy             |  59,426.000 |  50,705.000 |\n",
    "|  1 | NEGATED | exactly_forthcoming         | 107.000 |                3.738 |          0.962 |          0.000 |      21.375 |                    6.969 |              0.962 |               0.000 | exactly     | forthcoming     |  59,426.000 |  11,222.000 |\n",
    "|  2 | NEGATED | exactly_practical           | 106.000 |                3.734 |          0.962 |          0.000 |      21.362 |                    6.954 |              0.962 |               0.000 | exactly     | practical       |  59,426.000 |  67,013.000 |\n",
    "|  3 | NEGATED | exactly_impressive          | 100.000 |                3.708 |          0.962 |          0.000 |      21.278 |                    6.862 |              0.962 |               0.000 | exactly     | impressive      |  59,426.000 | 195,248.000 |\n",
    "|  4 | NEGATED | exactly_straightforward     |  83.000 |                3.628 |          0.962 |          0.000 |      21.009 |                    6.563 |              0.962 |               0.000 | exactly     | straightforward |  59,426.000 |  59,542.000 |\n",
    "|  5 | NEGATED | exactly_reassuring          |  78.000 |                3.601 |          0.962 |          0.000 |      20.919 |                    6.462 |              0.962 |               0.000 | exactly     | reassuring      |  59,426.000 |   8,768.000 |\n",
    "|  6 | NEGATED | exactly_intuitive           |  76.000 |                3.590 |          0.962 |          0.000 |      20.882 |                    6.419 |              0.962 |               0.000 | exactly     | intuitive       |  59,426.000 |  23,265.000 |\n",
    "|  7 | NEGATED | exactly_novel               |  66.000 |                3.529 |          0.962 |          0.000 |      20.678 |                    6.186 |              0.962 |               0.000 | exactly     | novel           |  59,426.000 |   8,056.000 |\n",
    "|  8 | NEGATED | exactly_unheard             |  65.000 |                3.523 |          0.962 |          0.000 |      20.656 |                    6.161 |              0.962 |               0.000 | exactly     | unheard         |  59,426.000 |  17,809.000 |\n",
    "|  9 | NEGATED | exactly_romantic            |  64.000 |                3.516 |          0.962 |          0.000 |      20.634 |                    6.135 |              0.962 |               0.000 | exactly     | romantic        |  59,426.000 |  33,311.000 |\n",
    "| 10 | NEGATED | that_thrilled               |  59.000 |                3.481 |          0.962 |          0.000 |      20.517 |                    5.997 |              0.962 |               0.000 | that        | thrilled        | 249,255.016 |  29,212.000 |\n",
    "| 11 | NEGATED | exactly_kind                |  52.000 |                3.426 |          0.962 |          0.000 |      20.334 |                    5.781 |              0.962 |               0.000 | exactly     | kind            |  59,426.000 |  30,230.000 |\n",
    "| 12 | NEGATED | exactly_obvious             |  50.000 |                3.410 |          0.962 |          0.000 |      20.278 |                    5.712 |              0.962 |               0.000 | exactly     | obvious         |  59,426.000 | 192,364.000 |\n",
    "| 13 | NEGATED | exactly_worried             |  47.000 |                3.383 |          0.962 |          0.000 |      20.189 |                    5.604 |              0.962 |               0.000 | exactly     | worried         |  59,426.000 | 118,127.000 |\n",
    "| 14 | NEGATED | exactly_inexpensive         |  46.000 |                3.374 |          0.962 |          0.000 |      20.158 |                    5.566 |              0.962 |               0.000 | exactly     | inexpensive     |  59,426.000 |  27,873.000 |\n",
    "| 15 | NEGATED | only_yummy                  |  44.000 |                3.355 |          0.962 |          0.000 |      20.093 |                    5.486 |              0.962 |               0.000 | only        | yummy           | 445,868.000 |   9,013.000 |\n",
    "| 16 | NEGATED | yet_privy                   |  38.000 |                3.292 |          0.962 |          0.000 |      19.882 |                    5.220 |              0.962 |               0.000 | yet         | privy           |  96,968.000 |   4,150.000 |\n",
    "| 17 | NEGATED | exactly_supportive          |  37.000 |                3.280 |          0.962 |          0.000 |      19.843 |                    5.170 |              0.962 |               0.000 | exactly     | supportive      |  59,426.000 |  62,714.000 |\n",
    "| 18 | NEGATED | exactly_unprecedented       |  37.000 |                3.280 |          0.962 |          0.000 |      19.843 |                    5.170 |              0.962 |               0.000 | exactly     | unprecedented   |  59,426.000 |  11,998.000 |\n",
    "| 19 | NEGATED | exactly_user-friendly       |  36.000 |                3.269 |          0.962 |          0.000 |      19.804 |                    5.119 |              0.962 |               0.000 | exactly     | user-friendly   |  59,426.000 |  10,405.000 |\n",
    "| 21 | NEGATED | exactly_alone               |  35.000 |                3.257 |          0.962 |          0.000 |      19.763 |                    5.066 |              0.962 |               0.000 | exactly     | alone           |  59,426.000 |  82,780.000 |\n",
    "| 20 | NEGATED | exactly_transparent         |  35.000 |                3.257 |          0.962 |          0.000 |      19.763 |                    5.066 |              0.962 |               0.000 | exactly     | transparent     |  59,426.000 |  46,080.000 |\n",
    "| 23 | NEGATED | necessarily_interchangeable |  34.000 |                3.244 |          0.962 |          0.000 |      19.721 |                    5.011 |              0.962 |               0.000 | necessarily | interchangeable |  54,048.000 |   4,990.000 |\n",
    "| 22 | NEGATED | necessarily_transferable    |  34.000 |                3.244 |          0.962 |          0.000 |      19.721 |                    5.011 |              0.962 |               0.000 | necessarily | transferable    |  54,048.000 |   4,127.000 |\n",
    "| 25 | NEGATED | only_captivating            |  33.000 |                3.231 |          0.962 |          0.000 |      19.678 |                    4.954 |              0.962 |               0.000 | only        | captivating     | 445,868.000 |  10,506.000 |\n",
    "| 24 | NEGATED | only_appalling              |  33.000 |                3.231 |          0.962 |          0.000 |      19.678 |                    4.954 |              0.962 |               0.000 | only        | appalling       | 445,868.000 |   7,004.000 |\n",
    "| 27 | NEGATED | exactly_illegal             |  32.000 |                3.218 |          0.962 |          0.000 |      19.634 |                    4.895 |              0.962 |               0.000 | exactly     | illegal         |  59,426.000 |  43,798.000 |\n",
    "| 26 | NEGATED | exactly_fashionable         |  32.000 |                3.218 |          0.962 |          0.000 |      19.634 |                    4.895 |              0.962 |               0.000 | exactly     | fashionable     |  59,426.000 |  16,514.000 |\n",
    "| 30 | NEGATED | exactly_dominant            |  31.000 |                3.205 |          0.962 |          0.000 |      19.588 |                    4.833 |              0.962 |               0.000 | exactly     | dominant        |  59,426.000 |  37,653.000 |\n",
    "| 28 | NEGATED | exactly_plentiful           |  31.000 |                3.205 |          0.962 |          0.000 |      19.588 |                    4.833 |              0.962 |               0.000 | exactly     | plentiful       |  59,426.000 |   9,509.000 |"
   ]
  },
  {
   "cell_type": "markdown",
   "metadata": {},
   "source": [
    "## Strongest `ADV`-Polarity Associations \n",
    "\n",
    "### Mirror Dataset `ADV` Associations"
   ]
  },
  {
   "cell_type": "code",
   "execution_count": 7,
   "metadata": {},
   "outputs": [
    {
     "name": "stdout",
     "output_type": "stream",
     "text": [
      "**Top 30 associations**\n",
      "_by `am_p1_given2` > `conservative_log_ratio`_\n",
      "\n",
      "| key               | l1       | l2            |    f |   am_odds_ratio_disc |   am_p1_given2 |   am_p2_given1 |   log_ratio |   conservative_log_ratio |\n",
      "|:------------------|:---------|:--------------|-----:|---------------------:|---------------:|---------------:|------------:|-------------------------:|\n",
      "| NEG-anywhere      | NEGATIVE | anywhere      |   36 |                1.787 |          0.778 |          0.000 |       6.138 |                    2.842 |\n",
      "| NEG-ever          | NEGATIVE | ever          | 4613 |                1.799 |          0.770 |          0.016 |       5.953 |                    5.607 |\n",
      "| NEG-this          | NEGATIVE | this          |   28 |                1.246 |          0.611 |          0.000 |       4.191 |                    1.637 |\n",
      "| NEG-exactly       | NEGATIVE | exactly       |  787 |                1.200 |          0.584 |          0.003 |       3.984 |                    3.504 |\n",
      "| NEG-any           | NEGATIVE | any           | 1068 |                1.168 |          0.569 |          0.003 |       3.876 |                    3.474 |\n",
      "| NEG-remotely      | NEGATIVE | remotely      | 1758 |                1.086 |          0.529 |          0.006 |       3.600 |                    3.305 |\n",
      "| NEG-particularly  | NEGATIVE | particularly  | 9079 |                0.996 |          0.479 |          0.029 |       3.268 |                    3.147 |\n",
      "| NEG-anymore       | NEGATIVE | anymore       |   16 |                0.965 |          0.470 |          0.000 |       3.231 |                    0.253 |\n",
      "| NEG-that          | NEGATIVE | that          | 4318 |                0.915 |          0.436 |          0.013 |       3.021 |                    2.854 |\n",
      "| NEG-necessarily   | NEGATIVE | necessarily   |  936 |                0.908 |          0.434 |          0.003 |       3.012 |                    2.654 |\n",
      "| NEG-inherently    | NEGATIVE | inherently    | 2814 |                0.798 |          0.370 |          0.008 |       2.638 |                    2.445 |\n",
      "| NEG-precisely     | NEGATIVE | precisely     |   48 |                0.734 |          0.334 |          0.000 |       2.438 |                    0.948 |\n",
      "| NEG-again         | NEGATIVE | again         |  171 |                0.732 |          0.333 |          0.000 |       2.432 |                    1.664 |\n",
      "| NEG-overtly       | NEGATIVE | overtly       |  370 |                0.672 |          0.299 |          0.001 |       2.230 |                    1.726 |\n",
      "| NEG-intrinsically | NEGATIVE | intrinsically |  419 |                0.669 |          0.297 |          0.001 |       2.220 |                    1.748 |\n",
      "| NEG-majorly       | NEGATIVE | majorly       |   48 |                0.594 |          0.254 |          0.000 |       1.968 |                    0.554 |\n",
      "| NEG-specially     | NEGATIVE | specially     |   28 |                0.585 |          0.249 |          0.000 |       1.934 |                    0.037 |\n",
      "| NEG-outwardly     | NEGATIVE | outwardly     |   63 |                0.574 |          0.243 |          0.000 |       1.901 |                    0.687 |\n",
      "| NEG-knowingly     | NEGATIVE | knowingly     |   30 |                0.550 |          0.229 |          0.000 |       1.816 |                    0.009 |\n",
      "| NEG-yet           | NEGATIVE | yet           |  313 |                0.531 |          0.221 |          0.001 |       1.761 |                    1.244 |\n",
      "| NEG-alone         | NEGATIVE | alone         |   16 |                0.531 |          0.218 |          0.000 |       1.746 |                    0.000 |\n",
      "| NEG-especially    | NEGATIVE | especially    | 1542 |                0.517 |          0.213 |          0.004 |       1.710 |                    1.482 |\n",
      "| NEG-enough        | NEGATIVE | enough        |   34 |                0.471 |          0.188 |          0.000 |       1.553 |                    0.000 |\n",
      "| NEG-definitively  | NEGATIVE | definitively  |   15 |                0.475 |          0.188 |          0.000 |       1.553 |                    0.000 |\n",
      "| NEG-solely        | NEGATIVE | solely        |   73 |                0.466 |          0.186 |          0.000 |       1.544 |                    0.459 |\n",
      "| NEG-specifically  | NEGATIVE | specifically  |  132 |                0.462 |          0.184 |          0.000 |       1.532 |                    0.741 |\n",
      "| NEG-offensively   | NEGATIVE | offensively   |   27 |                0.464 |          0.184 |          0.000 |       1.527 |                    0.000 |\n",
      "| NEG-fully         | NEGATIVE | fully         | 1568 |                0.457 |          0.182 |          0.004 |       1.512 |                    1.290 |\n",
      "| NEG-statistically | NEGATIVE | statistically |  135 |                0.454 |          0.181 |          0.000 |       1.506 |                    0.726 |\n",
      "| NEG-substantively | NEGATIVE | substantively |   16 |                0.461 |          0.181 |          0.000 |       1.509 |                    0.000 |\n"
     ]
    }
   ],
   "source": [
    "mir_adv_top = show_data(paths['mir_adv'])"
   ]
  },
  {
   "cell_type": "markdown",
   "metadata": {},
   "source": [
    "**Top 30 associations**\n",
    "_by `am_p1_given2` > `conservative_log_ratio`_\n",
    "\n",
    "| key               | l1       | l2            |         f |   am_odds_ratio_disc |   am_p1_given2 |   am_p2_given1 |   log_ratio |   conservative_log_ratio |\n",
    "|:------------------|:---------|:--------------|----------:|---------------------:|---------------:|---------------:|------------:|-------------------------:|\n",
    "| NEG-anywhere      | NEGATIVE | anywhere      |    36.000 |                1.787 |          0.778 |          0.000 |       6.138 |                    2.842 |\n",
    "| NEG-ever          | NEGATIVE | ever          | 4,613.000 |                1.799 |          0.770 |          0.016 |       5.953 |                    5.607 |\n",
    "| NEG-this          | NEGATIVE | this          |    28.000 |                1.246 |          0.611 |          0.000 |       4.191 |                    1.637 |\n",
    "| NEG-exactly       | NEGATIVE | exactly       |   787.000 |                1.200 |          0.584 |          0.003 |       3.984 |                    3.504 |\n",
    "| NEG-any           | NEGATIVE | any           | 1,068.000 |                1.168 |          0.569 |          0.003 |       3.876 |                    3.474 |\n",
    "| NEG-remotely      | NEGATIVE | remotely      | 1,758.000 |                1.086 |          0.529 |          0.006 |       3.600 |                    3.305 |\n",
    "| NEG-particularly  | NEGATIVE | particularly  | 9,079.000 |                0.996 |          0.479 |          0.029 |       3.268 |                    3.147 |\n",
    "| NEG-anymore       | NEGATIVE | anymore       |    16.000 |                0.965 |          0.470 |          0.000 |       3.231 |                    0.253 |\n",
    "| NEG-that          | NEGATIVE | that          | 4,318.000 |                0.915 |          0.436 |          0.013 |       3.021 |                    2.854 |\n",
    "| NEG-necessarily   | NEGATIVE | necessarily   |   936.000 |                0.908 |          0.434 |          0.003 |       3.012 |                    2.654 |\n",
    "| NEG-inherently    | NEGATIVE | inherently    | 2,814.000 |                0.798 |          0.370 |          0.008 |       2.638 |                    2.445 |\n",
    "| NEG-precisely     | NEGATIVE | precisely     |    48.000 |                0.734 |          0.334 |          0.000 |       2.438 |                    0.948 |\n",
    "| NEG-again         | NEGATIVE | again         |   171.000 |                0.732 |          0.333 |          0.000 |       2.432 |                    1.664 |\n",
    "| NEG-overtly       | NEGATIVE | overtly       |   370.000 |                0.672 |          0.299 |          0.001 |       2.230 |                    1.726 |\n",
    "| NEG-intrinsically | NEGATIVE | intrinsically |   419.000 |                0.669 |          0.297 |          0.001 |       2.220 |                    1.748 |\n",
    "| NEG-majorly       | NEGATIVE | majorly       |    48.000 |                0.594 |          0.254 |          0.000 |       1.968 |                    0.554 |\n",
    "| NEG-specially     | NEGATIVE | specially     |    28.000 |                0.585 |          0.249 |          0.000 |       1.934 |                    0.037 |\n",
    "| NEG-outwardly     | NEGATIVE | outwardly     |    63.000 |                0.574 |          0.243 |          0.000 |       1.901 |                    0.687 |\n",
    "| NEG-knowingly     | NEGATIVE | knowingly     |    30.000 |                0.550 |          0.229 |          0.000 |       1.816 |                    0.009 |\n",
    "| NEG-yet           | NEGATIVE | yet           |   313.000 |                0.531 |          0.221 |          0.001 |       1.761 |                    1.244 |\n",
    "| NEG-alone         | NEGATIVE | alone         |    16.000 |                0.531 |          0.218 |          0.000 |       1.746 |                    0.000 |\n",
    "| NEG-especially    | NEGATIVE | especially    | 1,542.000 |                0.517 |          0.213 |          0.004 |       1.710 |                    1.482 |\n",
    "| NEG-enough        | NEGATIVE | enough        |    34.000 |                0.471 |          0.188 |          0.000 |       1.553 |                    0.000 |\n",
    "| NEG-definitively  | NEGATIVE | definitively  |    15.000 |                0.475 |          0.188 |          0.000 |       1.553 |                    0.000 |\n",
    "| NEG-solely        | NEGATIVE | solely        |    73.000 |                0.466 |          0.186 |          0.000 |       1.544 |                    0.459 |\n",
    "| NEG-specifically  | NEGATIVE | specifically  |   132.000 |                0.462 |          0.184 |          0.000 |       1.532 |                    0.741 |\n",
    "| NEG-offensively   | NEGATIVE | offensively   |    27.000 |                0.464 |          0.184 |          0.000 |       1.527 |                    0.000 |\n",
    "| NEG-fully         | NEGATIVE | fully         | 1,568.000 |                0.457 |          0.182 |          0.004 |       1.512 |                    1.290 |\n",
    "| NEG-statistically | NEGATIVE | statistically |   135.000 |                0.454 |          0.181 |          0.000 |       1.506 |                    0.726 |\n",
    "| NEG-substantively | NEGATIVE | substantively |    16.000 |                0.461 |          0.181 |          0.000 |       1.509 |                    0.000 |\n"
   ]
  },
  {
   "cell_type": "markdown",
   "metadata": {},
   "source": [
    "### Set Difference Dataset `ADV` Associations"
   ]
  },
  {
   "cell_type": "code",
   "execution_count": 8,
   "metadata": {},
   "outputs": [
    {
     "name": "stdout",
     "output_type": "stream",
     "text": [
      "**Top 30 associations**\n",
      "_by `am_p1_given2` > `conservative_log_ratio`_\n",
      "\n",
      "|    | l1      | l2            |      f |   am_odds_ratio_disc |   am_p1_given2 |   am_p2_given1 |   log_ratio |   conservative_log_ratio |   unexpected_ratio |   joint_probability |\n",
      "|---:|:--------|:--------------|-------:|---------------------:|---------------:|---------------:|------------:|-------------------------:|-------------------:|--------------------:|\n",
      "|  0 | NEGATED | necessarily   |  41009 |                1.909 |          0.721 |          0.013 |       6.323 |                    6.251 |              0.950 |               0.009 |\n",
      "|  1 | NEGATED | exactly       |  41973 |                1.793 |          0.669 |          0.013 |       5.936 |                    5.871 |              0.946 |               0.009 |\n",
      "|  2 | NEGATED | that          | 165061 |                1.721 |          0.626 |          0.051 |       5.641 |                    5.611 |              0.943 |               0.032 |\n",
      "|  3 | NEGATED | immediately   |  57132 |                1.527 |          0.528 |          0.018 |       5.046 |                    5.000 |              0.933 |               0.009 |\n",
      "|  4 | NEGATED | yet           |  51866 |                1.473 |          0.498 |          0.016 |       4.871 |                    4.825 |              0.929 |               0.008 |\n",
      "|  5 | NEGATED | terribly      |  17854 |                0.958 |          0.224 |          0.005 |       3.177 |                    3.113 |              0.856 |               0.001 |\n",
      "|  6 | NEGATED | remotely      |   5504 |                0.946 |          0.219 |          0.002 |       3.140 |                    3.026 |              0.853 |               0.000 |\n",
      "|  7 | NEGATED | only          | 109955 |                0.934 |          0.210 |          0.031 |       3.059 |                    3.034 |              0.847 |               0.006 |\n",
      "|  8 | NEGATED | altogether    |   4413 |                0.869 |          0.187 |          0.001 |       2.884 |                    2.759 |              0.832 |               0.000 |\n",
      "|  9 | NEGATED | consciously   |    914 |                0.868 |          0.187 |          0.000 |       2.883 |                    2.606 |              0.832 |               0.000 |\n",
      "| 10 | NEGATED | anymore       |    414 |                0.862 |          0.184 |          0.000 |       2.862 |                    2.446 |              0.830 |               0.000 |\n",
      "| 11 | NEGATED | entirely      |  62400 |                0.848 |          0.177 |          0.017 |       2.792 |                    2.759 |              0.823 |               0.003 |\n",
      "| 12 | NEGATED | overly        |  24028 |                0.818 |          0.167 |          0.006 |       2.709 |                    2.657 |              0.815 |               0.001 |\n",
      "| 13 | NEGATED | precisely     |    764 |                0.801 |          0.161 |          0.000 |       2.659 |                    2.360 |              0.810 |               0.000 |\n",
      "| 14 | NEGATED | anywhere      |    212 |                0.761 |          0.147 |          0.000 |       2.524 |                    1.948 |              0.795 |               0.000 |\n",
      "| 15 | NEGATED | mobile        |    484 |                0.749 |          0.143 |          0.000 |       2.485 |                    2.111 |              0.790 |               0.000 |\n",
      "| 16 | NEGATED | in            |    162 |                0.737 |          0.138 |          0.000 |       2.446 |                    1.784 |              0.786 |               0.000 |\n",
      "| 17 | NEGATED | appreciably   |    232 |                0.722 |          0.134 |          0.000 |       2.396 |                    1.850 |              0.779 |               0.000 |\n",
      "| 18 | NEGATED | merely        |   5320 |                0.711 |          0.130 |          0.001 |       2.361 |                    2.251 |              0.775 |               0.000 |\n",
      "| 19 | NEGATED | any           |  15342 |                0.700 |          0.126 |          0.004 |       2.320 |                    2.256 |              0.769 |               0.000 |\n",
      "| 20 | NEGATED | always        | 103441 |                0.703 |          0.125 |          0.026 |       2.297 |                    2.273 |              0.766 |               0.003 |\n",
      "| 21 | NEGATED | unduly        |    899 |                0.692 |          0.124 |          0.000 |       2.297 |                    2.027 |              0.766 |               0.000 |\n",
      "| 22 | NEGATED | outright      |   1189 |                0.676 |          0.119 |          0.000 |       2.245 |                    2.012 |              0.759 |               0.000 |\n",
      "| 23 | NEGATED | directly      |   8065 |                0.662 |          0.115 |          0.002 |       2.197 |                    2.109 |              0.752 |               0.000 |\n",
      "| 24 | NEGATED | lawfully      |    145 |                0.652 |          0.112 |          0.000 |       2.162 |                    1.469 |              0.747 |               0.000 |\n",
      "| 25 | NEGATED | as            | 526827 |                0.687 |          0.109 |          0.128 |       2.075 |                    2.064 |              0.734 |               0.014 |\n",
      "| 26 | NEGATED | overtly       |   2037 |                0.642 |          0.109 |          0.000 |       2.131 |                    1.955 |              0.743 |               0.000 |\n",
      "| 27 | NEGATED | adequately    |    308 |                0.617 |          0.102 |          0.000 |       2.048 |                    1.585 |              0.730 |               0.000 |\n",
      "| 28 | NEGATED | automatically |    775 |                0.607 |          0.099 |          0.000 |       2.014 |                    1.727 |              0.724 |               0.000 |\n",
      "| 29 | NEGATED | mutually      |   5928 |                0.593 |          0.095 |          0.001 |       1.968 |                    1.866 |              0.716 |               0.000 |\n"
     ]
    }
   ],
   "source": [
    "set_adv_top = show_data(paths['set_adv'])"
   ]
  },
  {
   "cell_type": "markdown",
   "metadata": {},
   "source": [
    "**Top 30 associations**\n",
    "_by `am_p1_given2` > `conservative_log_ratio`_\n",
    "\n",
    "|    | l1      | l2            |           f |   am_odds_ratio_disc |   am_p1_given2 |   am_p2_given1 |   log_ratio |   conservative_log_ratio |   unexpected_ratio |   joint_probability |\n",
    "|---:|:--------|:--------------|------------:|---------------------:|---------------:|---------------:|------------:|-------------------------:|-------------------:|--------------------:|\n",
    "|  0 | NEGATED | necessarily   |  41,009.000 |                1.909 |          0.721 |          0.013 |       6.323 |                    6.251 |              0.950 |               0.009 |\n",
    "|  1 | NEGATED | exactly       |  41,973.000 |                1.793 |          0.669 |          0.013 |       5.936 |                    5.871 |              0.946 |               0.009 |\n",
    "|  2 | NEGATED | that          | 165,061.000 |                1.721 |          0.626 |          0.051 |       5.641 |                    5.611 |              0.943 |               0.032 |\n",
    "|  3 | NEGATED | immediately   |  57,132.000 |                1.527 |          0.528 |          0.018 |       5.046 |                    5.000 |              0.933 |               0.009 |\n",
    "|  4 | NEGATED | yet           |  51,866.000 |                1.473 |          0.498 |          0.016 |       4.871 |                    4.825 |              0.929 |               0.008 |\n",
    "|  5 | NEGATED | terribly      |  17,854.000 |                0.958 |          0.224 |          0.005 |       3.177 |                    3.113 |              0.856 |               0.001 |\n",
    "|  6 | NEGATED | remotely      |   5,504.000 |                0.946 |          0.219 |          0.002 |       3.140 |                    3.026 |              0.853 |               0.000 |\n",
    "|  7 | NEGATED | only          | 109,955.000 |                0.934 |          0.210 |          0.031 |       3.059 |                    3.034 |              0.847 |               0.006 |\n",
    "|  8 | NEGATED | altogether    |   4,413.000 |                0.869 |          0.187 |          0.001 |       2.884 |                    2.759 |              0.832 |               0.000 |\n",
    "|  9 | NEGATED | consciously   |     914.000 |                0.868 |          0.187 |          0.000 |       2.883 |                    2.606 |              0.832 |               0.000 |\n",
    "| 10 | NEGATED | anymore       |     414.000 |                0.862 |          0.184 |          0.000 |       2.862 |                    2.446 |              0.830 |               0.000 |\n",
    "| 11 | NEGATED | entirely      |  62,400.000 |                0.848 |          0.177 |          0.017 |       2.792 |                    2.759 |              0.823 |               0.003 |\n",
    "| 12 | NEGATED | overly        |  24,028.000 |                0.818 |          0.167 |          0.006 |       2.709 |                    2.657 |              0.815 |               0.001 |\n",
    "| 13 | NEGATED | precisely     |     764.000 |                0.801 |          0.161 |          0.000 |       2.659 |                    2.360 |              0.810 |               0.000 |\n",
    "| 14 | NEGATED | anywhere      |     212.000 |                0.761 |          0.147 |          0.000 |       2.524 |                    1.948 |              0.795 |               0.000 |\n",
    "| 15 | NEGATED | mobile        |     484.000 |                0.749 |          0.143 |          0.000 |       2.485 |                    2.111 |              0.790 |               0.000 |\n",
    "| 16 | NEGATED | in            |     162.000 |                0.737 |          0.138 |          0.000 |       2.446 |                    1.784 |              0.786 |               0.000 |\n",
    "| 17 | NEGATED | appreciably   |     232.000 |                0.722 |          0.134 |          0.000 |       2.396 |                    1.850 |              0.779 |               0.000 |\n",
    "| 18 | NEGATED | merely        |   5,320.000 |                0.711 |          0.130 |          0.001 |       2.361 |                    2.251 |              0.775 |               0.000 |\n",
    "| 19 | NEGATED | any           |  15,342.000 |                0.700 |          0.126 |          0.004 |       2.320 |                    2.256 |              0.769 |               0.000 |\n",
    "| 20 | NEGATED | always        | 103,441.000 |                0.703 |          0.125 |          0.026 |       2.297 |                    2.273 |              0.766 |               0.003 |\n",
    "| 21 | NEGATED | unduly        |     899.000 |                0.692 |          0.124 |          0.000 |       2.297 |                    2.027 |              0.766 |               0.000 |\n",
    "| 22 | NEGATED | outright      |   1,189.000 |                0.676 |          0.119 |          0.000 |       2.245 |                    2.012 |              0.759 |               0.000 |\n",
    "| 23 | NEGATED | directly      |   8,065.000 |                0.662 |          0.115 |          0.002 |       2.197 |                    2.109 |              0.752 |               0.000 |\n",
    "| 24 | NEGATED | lawfully      |     145.000 |                0.652 |          0.112 |          0.000 |       2.162 |                    1.469 |              0.747 |               0.000 |\n",
    "| 25 | NEGATED | as            | 526,827.000 |                0.687 |          0.109 |          0.128 |       2.075 |                    2.064 |              0.734 |               0.014 |\n",
    "| 26 | NEGATED | overtly       |   2,037.000 |                0.642 |          0.109 |          0.000 |       2.131 |                    1.955 |              0.743 |               0.000 |\n",
    "| 27 | NEGATED | adequately    |     308.000 |                0.617 |          0.102 |          0.000 |       2.048 |                    1.585 |              0.730 |               0.000 |\n",
    "| 28 | NEGATED | automatically |     775.000 |                0.607 |          0.099 |          0.000 |       2.014 |                    1.727 |              0.724 |               0.000 |\n",
    "| 29 | NEGATED | mutually      |   5,928.000 |                0.593 |          0.095 |          0.001 |       1.968 |                    1.866 |              0.716 |               0.000 |\n"
   ]
  }
 ],
 "metadata": {
  "kernelspec": {
   "display_name": "dev-sanpi",
   "language": "python",
   "name": "python3"
  },
  "language_info": {
   "codemirror_mode": {
    "name": "ipython",
    "version": 3
   },
   "file_extension": ".py",
   "mimetype": "text/x-python",
   "name": "python",
   "nbconvert_exporter": "python",
   "pygments_lexer": "ipython3",
   "version": "3.11.8"
  }
 },
 "nbformat": 4,
 "nbformat_minor": 2
}
