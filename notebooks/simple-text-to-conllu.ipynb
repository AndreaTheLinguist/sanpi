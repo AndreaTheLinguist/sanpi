{
 "cells": [
  {
   "cell_type": "code",
   "execution_count": 5,
   "metadata": {},
   "outputs": [],
   "source": [
    "import stanza\n",
    "from pprint import pprint\n",
    "from sys import argv\n",
    "_DOC2CONLL_TEXT = stanza.utils.conll.CoNLL.doc2conll_text"
   ]
  },
  {
   "cell_type": "code",
   "execution_count": 2,
   "metadata": {},
   "outputs": [
    {
     "name": "stdout",
     "output_type": "stream",
     "text": [
      "Loading dependency parsing pipeline...\n"
     ]
    },
    {
     "name": "stderr",
     "output_type": "stream",
     "text": [
      "Downloading https://raw.githubusercontent.com/stanfordnlp/stanza-resources/main/resources_1.4.0.json: 154kB [00:00, 34.4MB/s]                    \n",
      "2023-10-17 18:03:54 INFO: Loading these models for language: en (English):\n",
      "========================\n",
      "| Processor | Package  |\n",
      "------------------------\n",
      "| tokenize  | combined |\n",
      "| pos       | combined |\n",
      "| lemma     | combined |\n",
      "| depparse  | combined |\n",
      "========================\n",
      "\n",
      "2023-10-17 18:03:54 INFO: Use device: cpu\n",
      "2023-10-17 18:03:54 INFO: Loading: tokenize\n",
      "2023-10-17 18:03:54 INFO: Loading: pos\n",
      "2023-10-17 18:03:55 INFO: Loading: lemma\n",
      "2023-10-17 18:03:55 INFO: Loading: depparse\n",
      "2023-10-17 18:03:55 INFO: Done loading processors!\n"
     ]
    }
   ],
   "source": [
    "try:\n",
    "    print('Loading dependency parsing pipeline...')\n",
    "    NLP = stanza.Pipeline(\n",
    "            lang='en',\n",
    "            processors='tokenize,pos,lemma,depparse')\n",
    "except stanza.pipeline.core.ResourcesFileNotFoundError:\n",
    "    print('Language model not found. Downloading...')\n",
    "    stanza.download('en')\n",
    "    print('Loading dependency parsing pipeline...\\n')\n",
    "    NLP = stanza.Pipeline(\n",
    "            lang='en',\n",
    "            processors='tokenize,pos,lemma,depparse')"
   ]
  },
  {
   "cell_type": "code",
   "execution_count": null,
   "metadata": {},
   "outputs": [],
   "source": [
    "text = argv[0]"
   ]
  },
  {
   "cell_type": "code",
   "execution_count": 7,
   "metadata": {},
   "outputs": [
    {
     "data": {
      "text/plain": [
       "[\n",
       "  [\n",
       "    {\n",
       "      \"id\": 1,\n",
       "      \"text\": \"No\",\n",
       "      \"lemma\": \"no\",\n",
       "      \"upos\": \"DET\",\n",
       "      \"xpos\": \"DT\",\n",
       "      \"head\": 2,\n",
       "      \"deprel\": \"det\",\n",
       "      \"start_char\": 0,\n",
       "      \"end_char\": 2\n",
       "    },\n",
       "    {\n",
       "      \"id\": 2,\n",
       "      \"text\": \"one\",\n",
       "      \"lemma\": \"one\",\n",
       "      \"upos\": \"NOUN\",\n",
       "      \"xpos\": \"NN\",\n",
       "      \"feats\": \"Number=Sing\",\n",
       "      \"head\": 10,\n",
       "      \"deprel\": \"nsubj\",\n",
       "      \"start_char\": 3,\n",
       "      \"end_char\": 6\n",
       "    },\n",
       "    {\n",
       "      \"id\": 3,\n",
       "      \"text\": \"in\",\n",
       "      \"lemma\": \"in\",\n",
       "      \"upos\": \"ADP\",\n",
       "      \"xpos\": \"IN\",\n",
       "      \"head\": 5,\n",
       "      \"deprel\": \"case\",\n",
       "      \"start_char\": 7,\n",
       "      \"end_char\": 9\n",
       "    },\n",
       "    {\n",
       "      \"id\": 4,\n",
       "      \"text\": \"my\",\n",
       "      \"lemma\": \"my\",\n",
       "      \"upos\": \"PRON\",\n",
       "      \"xpos\": \"PRP$\",\n",
       "      \"feats\": \"Number=Sing|Person=1|Poss=Yes|PronType=Prs\",\n",
       "      \"head\": 5,\n",
       "      \"deprel\": \"nmod:poss\",\n",
       "      \"start_char\": 10,\n",
       "      \"end_char\": 12\n",
       "    },\n",
       "    {\n",
       "      \"id\": 5,\n",
       "      \"text\": \"family\",\n",
       "      \"lemma\": \"family\",\n",
       "      \"upos\": \"NOUN\",\n",
       "      \"xpos\": \"NN\",\n",
       "      \"feats\": \"Number=Sing\",\n",
       "      \"head\": 2,\n",
       "      \"deprel\": \"nmod\",\n",
       "      \"start_char\": 13,\n",
       "      \"end_char\": 19\n",
       "    },\n",
       "    {\n",
       "      \"id\": 6,\n",
       "      \"text\": \"has\",\n",
       "      \"lemma\": \"have\",\n",
       "      \"upos\": \"AUX\",\n",
       "      \"xpos\": \"VBZ\",\n",
       "      \"feats\": \"Mood=Ind|Number=Sing|Person=3|Tense=Pres|VerbForm=Fin\",\n",
       "      \"head\": 10,\n",
       "      \"deprel\": \"aux\",\n",
       "      \"start_char\": 20,\n",
       "      \"end_char\": 23\n",
       "    },\n",
       "    {\n",
       "      \"id\": 7,\n",
       "      \"text\": \"ever\",\n",
       "      \"lemma\": \"ever\",\n",
       "      \"upos\": \"ADV\",\n",
       "      \"xpos\": \"RB\",\n",
       "      \"head\": 10,\n",
       "      \"deprel\": \"advmod\",\n",
       "      \"start_char\": 24,\n",
       "      \"end_char\": 28\n",
       "    },\n",
       "    {\n",
       "      \"id\": 8,\n",
       "      \"text\": \"been\",\n",
       "      \"lemma\": \"be\",\n",
       "      \"upos\": \"AUX\",\n",
       "      \"xpos\": \"VBN\",\n",
       "      \"feats\": \"Tense=Past|VerbForm=Part\",\n",
       "      \"head\": 10,\n",
       "      \"deprel\": \"cop\",\n",
       "      \"start_char\": 29,\n",
       "      \"end_char\": 33\n",
       "    },\n",
       "    {\n",
       "      \"id\": 9,\n",
       "      \"text\": \"to\",\n",
       "      \"lemma\": \"to\",\n",
       "      \"upos\": \"ADP\",\n",
       "      \"xpos\": \"IN\",\n",
       "      \"head\": 10,\n",
       "      \"deprel\": \"case\",\n",
       "      \"start_char\": 34,\n",
       "      \"end_char\": 36\n",
       "    },\n",
       "    {\n",
       "      \"id\": 10,\n",
       "      \"text\": \"Antartica\",\n",
       "      \"lemma\": \"Antartica\",\n",
       "      \"upos\": \"PROPN\",\n",
       "      \"xpos\": \"NNP\",\n",
       "      \"feats\": \"Number=Sing\",\n",
       "      \"head\": 0,\n",
       "      \"deprel\": \"root\",\n",
       "      \"start_char\": 37,\n",
       "      \"end_char\": 46\n",
       "    },\n",
       "    {\n",
       "      \"id\": 11,\n",
       "      \"text\": \".\",\n",
       "      \"lemma\": \".\",\n",
       "      \"upos\": \"PUNCT\",\n",
       "      \"xpos\": \".\",\n",
       "      \"head\": 10,\n",
       "      \"deprel\": \"punct\",\n",
       "      \"start_char\": 46,\n",
       "      \"end_char\": 47\n",
       "    }\n",
       "  ]\n",
       "]"
      ]
     },
     "execution_count": 7,
     "metadata": {},
     "output_type": "execute_result"
    }
   ],
   "source": [
    "doc = NLP('No one in my family has ever been to Antartica.')\n",
    "doc\n"
   ]
  },
  {
   "cell_type": "code",
   "execution_count": null,
   "metadata": {},
   "outputs": [],
   "source": [
    "conllu = _DOC2CONLL_TEXT(doc)\n",
    "print(conllu)"
   ]
  }
 ],
 "metadata": {
  "kernelspec": {
   "display_name": "dev-sanpi",
   "language": "python",
   "name": "python3"
  },
  "language_info": {
   "codemirror_mode": {
    "name": "ipython",
    "version": 3
   },
   "file_extension": ".py",
   "mimetype": "text/x-python",
   "name": "python",
   "nbconvert_exporter": "python",
   "pygments_lexer": "ipython3",
   "version": "3.9.13"
  }
 },
 "nbformat": 4,
 "nbformat_minor": 2
}
