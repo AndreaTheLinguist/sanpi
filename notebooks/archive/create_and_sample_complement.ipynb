{
 "cells": [
  {
   "cell_type": "code",
   "execution_count": null,
   "metadata": {},
   "outputs": [],
   "source": [
    "from pathlib import Path\n",
    "from source.utils import POST_PROC_DIR, confirm_dir\n",
    "RBXadj_clean_hits_path = POST_PROC_DIR.joinpath('RBXadj/bigrams_clean.35f.pkl.gz')\n",
    "all_clean = pd.read_pickle(RBXadj_clean_hits_path)"
   ]
  },
  {
   "cell_type": "markdown",
   "metadata": {},
   "source": [
    "load negated `hit_id`s"
   ]
  },
  {
   "cell_type": "code",
   "execution_count": null,
   "metadata": {},
   "outputs": [],
   "source": [
    "RBdirect_hit_id_index = Path('4_post-processed/RBdirect/*MIN-7*index*.txt') #FIXME\n",
    "neg_ids = {neg_id.strip() for neg_id in RBdirect_hit_id_index.read_text().splitlines()}"
   ]
  },
  {
   "cell_type": "markdown",
   "metadata": {},
   "source": [
    "compute complement\n"
   ]
  },
  {
   "cell_type": "code",
   "execution_count": null,
   "metadata": {},
   "outputs": [],
   "source": [
    "clean_not_neg = all_clean.loc[~all_clean.hit_id.isin(neg_ids), :]\n",
    "#TODO: Apply enforcement here, as done for `POSmirror` in `notebooks/mirror_exactly_ex.ipynb`"
   ]
  },
  {
   "cell_type": "markdown",
   "metadata": {},
   "source": [
    "- [ ] Apply enforcement here, as done for `POSmirror`:\\\n",
    "  👉 Code in [`notebooks/mirror_exactly_ex.ipynb`](notebooks/mirror_exactly_ex.ipynb)"
   ]
  },
  {
   "cell_type": "markdown",
   "metadata": {},
   "source": [
    "set complement paths"
   ]
  },
  {
   "cell_type": "code",
   "execution_count": null,
   "metadata": {},
   "outputs": [],
   "source": [
    "complement_dir = RBdirect_hit_id_index.parent.joinpath('complement')\n",
    "confirm_dir(complement_dir)\n",
    "complement_pkl= complement_dir.joinpath(f'ALL_not-neg_{RBXadj_clean_hits_path.name}')"
   ]
  },
  {
   "cell_type": "markdown",
   "metadata": {},
   "source": [
    "save full complement\n"
   ]
  },
  {
   "cell_type": "code",
   "execution_count": null,
   "metadata": {},
   "outputs": [],
   "source": [
    "clean_not_neg.to_pickle(complement_pkl)"
   ]
  },
  {
   "cell_type": "markdown",
   "metadata": {},
   "source": [
    "pull complement sample\n"
   ]
  },
  {
   "cell_type": "code",
   "execution_count": null,
   "metadata": {},
   "outputs": [],
   "source": [
    "N = len(neg_ids)\n",
    "not_neg_sample = clean_not_neg.sample(N)"
   ]
  },
  {
   "cell_type": "markdown",
   "metadata": {},
   "source": [
    "save complement sample\n"
   ]
  },
  {
   "cell_type": "code",
   "execution_count": null,
   "metadata": {},
   "outputs": [],
   "source": [
    "not_neg_sample.to_pickle(complement_pkl.with_name(complement_pkl.name.replace('ALL',f'SAMPLE{N}')))"
   ]
  }
 ],
 "metadata": {
  "language_info": {
   "name": "python"
  }
 },
 "nbformat": 4,
 "nbformat_minor": 2
}
