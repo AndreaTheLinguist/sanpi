{
 "cells": [
  {
   "cell_type": "code",
   "execution_count": 1,
   "metadata": {},
   "outputs": [
    {
     "name": "stderr",
     "output_type": "stream",
     "text": [
      "/home/arh234/anaconda3/envs/dev-sanpi/lib/python3.10/site-packages/scipy/__init__.py:146: UserWarning: A NumPy version >=1.16.5 and <1.23.0 is required for this version of SciPy (detected version 1.24.3\n",
      "  warnings.warn(f\"A NumPy version >={np_minversion} and <{np_maxversion}\"\n"
     ]
    },
    {
     "data": {
      "text/plain": [
       "{'POSmirror': PosixPath('/share/compling/data/sanpi/4_post-processed/POSmirror/trigger-bigrams_thr0-001p.35f.pkl.gz'),\n",
       " 'NEGmirror': PosixPath('/share/compling/data/sanpi/4_post-processed/NEGmirror/trigger-bigrams_thr0-001p.35f.pkl.gz')}"
      ]
     },
     "execution_count": 1,
     "metadata": {},
     "output_type": "execute_result"
    }
   ],
   "source": [
    "import re\n",
    "from pathlib import Path\n",
    "\n",
    "import pandas as pd\n",
    "\n",
    "from source.utils import POST_PROC_DIR, print_iter\n",
    "from source.utils.sample import sample_pickle\n",
    "\n",
    "HIT_EX_COLS = ['WITH::^.[il].*lower', 'WITH::text', 'token_str']\n",
    "\n",
    "pkl_name = 'trigger-bigrams_thr0-001p.35f.pkl.gz'\n",
    "path_dict = {p: POST_PROC_DIR / p / pkl_name for  p in ('POSmirror','NEGmirror')}\n",
    "path_dict"
   ]
  },
  {
   "cell_type": "code",
   "execution_count": 2,
   "metadata": {},
   "outputs": [],
   "source": [
    "pmir = pd.read_pickle(path_dict['POSmirror'])\n",
    "nmir = pd.read_pickle(path_dict['NEGmirror'])"
   ]
  },
  {
   "cell_type": "code",
   "execution_count": 3,
   "metadata": {},
   "outputs": [],
   "source": [
    "def str_to_cat(df):\n",
    "    cat_cols = df.filter(regex=r'form|bigram|lemma|deprel|head').columns\n",
    "    df[cat_cols] = df[cat_cols].astype('category')\n",
    "    # df.info()\n",
    "    return df"
   ]
  },
  {
   "cell_type": "code",
   "execution_count": 4,
   "metadata": {},
   "outputs": [],
   "source": [
    "pmir = str_to_cat(pmir)"
   ]
  },
  {
   "cell_type": "code",
   "execution_count": 5,
   "metadata": {},
   "outputs": [],
   "source": [
    "nmir = str_to_cat(nmir)"
   ]
  },
  {
   "cell_type": "code",
   "execution_count": 6,
   "metadata": {},
   "outputs": [],
   "source": [
    "def set_col_widths(df):\n",
    "    cols = df.copy().reset_index().columns\n",
    "    width_dict = (\n",
    "        {c: None for c in cols}\n",
    "        | {c: 22 for c in cols[cols.str.contains('_id')]}\n",
    "        | {c: 40 for c in cols[cols.str.contains('text')]}\n",
    "        | {c: 30 for c in cols[cols.str.contains('forms')]}\n",
    "        | {c: 55 for c in cols[cols.str.contains('_str')]})\n",
    "    return list(width_dict.values())"
   ]
  },
  {
   "cell_type": "code",
   "execution_count": 8,
   "metadata": {},
   "outputs": [
    {
     "name": "stdout",
     "output_type": "stream",
     "text": [
      "\n",
      "POSmirror columns:\n",
      "▸ adv_form\n",
      "▸ adj_form\n",
      "▸ text_window\n",
      "▸ bigram_id\n",
      "▸ token_str\n",
      "▸ mir_deprel\n",
      "▸ mir_head\n",
      "▸ mir_lemma\n",
      "▸ adv_lemma\n",
      "▸ adj_lemma\n",
      "▸ mir_form\n",
      "▸ mir_form_lower\n",
      "▸ adv_form_lower\n",
      "▸ adj_form_lower\n",
      "▸ bigram_lower\n",
      "▸ all_forms_lower\n",
      "▸ pattern\n",
      "▸ category\n",
      "▸ prev_form_lower\n",
      "\n",
      "NEGmirror columns:\n",
      "▸ neg_form\n",
      "▸ adv_form\n",
      "▸ adj_form\n",
      "▸ text_window\n",
      "▸ bigram_id\n",
      "▸ token_str\n",
      "▸ neg_deprel\n",
      "▸ neg_head\n",
      "▸ neg_lemma\n",
      "▸ adv_lemma\n",
      "▸ adj_lemma\n",
      "▸ neg_form_lower\n",
      "▸ adv_form_lower\n",
      "▸ adj_form_lower\n",
      "▸ bigram_lower\n",
      "▸ all_forms_lower\n",
      "▸ pattern\n",
      "▸ category\n",
      "▸ prev_form_lower\n"
     ]
    }
   ],
   "source": [
    "print_iter(header = 'POSmirror columns:', iter_obj= pmir.columns.to_list())\n",
    "print_iter(header = 'NEGmirror columns:', iter_obj= nmir.columns.to_list())"
   ]
  },
  {
   "cell_type": "code",
   "execution_count": 24,
   "metadata": {},
   "outputs": [],
   "source": [
    "def show_sample(df: pd.DataFrame,\n",
    "                format: str = 'grid',\n",
    "                limit_cols: bool = True):\n",
    "    if limit_cols and format != 'pipe':\n",
    "        col_widths_list = set_col_widths(df)\n",
    "    else:\n",
    "        col_widths_list = [None] * len(df.columns)\n",
    "    print(df.to_markdown(\n",
    "        floatfmt=',.0f', intfmt=',',\n",
    "        maxcolwidths=col_widths_list, \n",
    "        tablefmt=format\n",
    "        ))"
   ]
  },
  {
   "cell_type": "code",
   "execution_count": 29,
   "metadata": {},
   "outputs": [
    {
     "name": "stdout",
     "output_type": "stream",
     "text": [
      "| pattern      |     count |\n",
      "|:-------------|----------:|\n",
      "| pos-mirror-R | 1,313,154 |\n",
      "| pos-mirror-L |   362,347 |\n"
     ]
    }
   ],
   "source": [
    "show_sample(pmir.pattern.value_counts().to_frame(), limit_cols=False, format='pipe')"
   ]
  },
  {
   "cell_type": "code",
   "execution_count": 28,
   "metadata": {},
   "outputs": [
    {
     "name": "stdout",
     "output_type": "stream",
     "text": [
      "| pattern      |   count |\n",
      "|:-------------|--------:|\n",
      "| neg-mirror-R | 210,404 |\n",
      "| neg-mirror-L |  75,031 |\n"
     ]
    }
   ],
   "source": [
    "show_sample(nmir.pattern.value_counts().to_frame(), limit_cols=False, format='pipe')"
   ]
  },
  {
   "cell_type": "code",
   "execution_count": 32,
   "metadata": {},
   "outputs": [],
   "source": [
    "REGNOT=r\"n[o']t\"\n",
    "def embolden(series,\n",
    "            bold_regex=None):\n",
    "    bold_regex = bold_regex or r\" (n[o']t) \"\n",
    "    return series.apply(\n",
    "        lambda x: re.sub(bold_regex,\n",
    "                        r' __`\\1`__ ', x, flags=re.I))\n",
    "    \n"
   ]
  },
  {
   "cell_type": "markdown",
   "metadata": {},
   "source": [
    "## Problem Sentences\n",
    "\n",
    "The following examples are all from the `POSmirror` data set which should not include any negative triggers. \n",
    "I believe the issue may be due to unexpected parses or cases where the negative trigger dependency is indirect or scopes over the identified positive trigger. "
   ]
  },
  {
   "cell_type": "code",
   "execution_count": 35,
   "metadata": {},
   "outputs": [
    {
     "name": "stdout",
     "output_type": "stream",
     "text": [
      "\n",
      "- *filtering rows...*\n",
      "  - regex parsing = True\n",
      "  - ✓ Applied filter: `token_str== n[o']t .* exactly `\n",
      "  - ✓ Applied filter: `adv_form_lower==^exactly$`\n",
      "  - ✓ Applied filter: `pattern==.*L$`\n",
      "\n",
      "### All (5) row(s) matching filter(s) from `input frame`\n",
      "\n",
      "| hit_id                                    | mir_form_lower   | bigram_lower     | text_window                                                  | token_str                                                                                                                                                                                                                                                                                                                                                                                            |\n",
      "|:------------------------------------------|:-----------------|:-----------------|:-------------------------------------------------------------|:-----------------------------------------------------------------------------------------------------------------------------------------------------------------------------------------------------------------------------------------------------------------------------------------------------------------------------------------------------------------------------------------------------|\n",
      "| pcc_eng_25_005.3062_x0070160_19:11-12-13  | many             | exactly_alike    | , there are __`not`__ many __`exactly`__ alike .             | Because the traps were all handmade , there are __`not`__ many __`exactly`__ alike .                                                                                                                                                                                                                                                                                                                 |\n",
      "| pcc_eng_03_092.8566_x1487301_15:21-22-23  | something        | exactly_friendly | n't think it was something __`exactly`__ friendly for kids . | The i Pad is a fairly simple device to use for adults , but I did __`n't`__ think it was something __`exactly`__ friendly for kids .                                                                                                                                                                                                                                                                 |\n",
      "| pcc_eng_29_085.1202_x1358647_07:4-5-6     | something        | exactly_new      | This is __`n't`__ something __`exactly`__ new .              | This is __`n't`__ something __`exactly`__ new .                                                                                                                                                                                                                                                                                                                                                      |\n",
      "| pcc_eng_21_004.3936_x0054774_071:62-63-64 | something        | exactly_new      | so it 's __`not`__ something __`exactly`__ new with him ] )  | It 's also missing some of his earlier stuff , but the \" KMD \" ( Kurious and another random dude Doom was supposedly gonna make a new KMD album with [ another of the many rumored - but- never- seen Doom projects a la Madvillainy 2 & the Ghost collab - this was from like 2000 so it 's __`not`__ something __`exactly`__ new with him ] ) track Sorcerors is on there , which is really nice . |\n",
      "| pcc_eng_08_092.9577_x1488616_29:17-18-19  | something        | exactly_right    | I did __`n't`__ have something __`exactly`__ right .         | \" [ My clients ] needed a piece of art , and I did __`n't`__ have something __`exactly`__ right .                                                                                                                                                                                                                                                                                                    |\n",
      "\n",
      "- *filtering rows...*\n",
      "  - regex parsing = True\n",
      "  - ✓ Applied filter: `token_str== n[o']t .* exactly `\n",
      "  - ✓ Applied filter: `adv_form_lower==^exactly$`\n",
      "  - ✓ Applied filter: `pattern==.*R$`\n",
      "\n",
      "### 6 random rows matching filter(s) from `input frame`\n",
      "\n",
      "| hit_id                                    | mir_form_lower   | bigram_lower          | text_window                                                                             | token_str                                                                                                                                                                                                          |\n",
      "|:------------------------------------------|:-----------------|:----------------------|:----------------------------------------------------------------------------------------|:-------------------------------------------------------------------------------------------------------------------------------------------------------------------------------------------------------------------|\n",
      "| pcc_eng_12_094.2404_x1507082_04:30-34-35  | all              | exactly_positive      | personas -- and __`not`__ all of them are __`exactly`__ positive : there 's             | It 's a world where everyone has a superpower ( except for the protagonist , Tom ) and are known by their superhero / heroine personas -- and __`not`__ all of them are __`exactly`__ positive : there 's          |\n",
      "| pcc_eng_17_015.9117_x0241162_083:08-11-12 | everyone         | exactly_alike         | do __`not`__ mean that everyone must be __`exactly`__ alike or posses __`exactly`__ the | By this we do __`not`__ mean that everyone must be __`exactly`__ alike or posses __`exactly`__ the same things .                                                                                                   |\n",
      "| pcc_eng_19_105.3382_x1687028_31:17-19-20  | everything       | exactly_right         | put scenes where __`not`__ everything is __`exactly`__ right or accurate to serious     | While historical dramas and bio-pics do get to play around history and put scenes where __`not`__ everything is __`exactly`__ right or accurate to serious history buffs .                                         |\n",
      "| pcc_eng_29_039.1779_x0616435_087:5-7-8    | or               | exactly_contemplative | Philosophy is __`n't`__ restful or even __`exactly`__ contemplative .                   | Philosophy is __`n't`__ restful or even __`exactly`__ contemplative .                                                                                                                                              |\n",
      "| pcc_eng_23_043.3902_x0684965_07:10-14-15  | or               | exactly_right         | this is contradictory , or if it 's __`exactly`__ right .                               | I do __`n't`__ know if this is contradictory , or if it 's __`exactly`__ right .                                                                                                                                   |\n",
      "| pcc_eng_10_002.5898_x0025804_76:35-40-41  | something        | exactly_right         | explore further , or something that I think is __`exactly`__ right .                    | I may __`not`__ always agree with everything in a post by Richard Decision Skills , but if I \" like \" it , I found something to think about / explore further , or something that I think is __`exactly`__ right . |\n",
      "\n",
      "- *filtering rows...*\n",
      "  - regex parsing = True\n",
      "  - ✓ Applied filter: `token_str== n[o']t .* ever `\n",
      "  - ✓ Applied filter: `adv_form_lower==^ever$`\n",
      "  - ✓ Applied filter: `pattern==.*L$`\n",
      "\n",
      "### 6 random rows matching filter(s) from `input frame`\n",
      "\n",
      "| hit_id                                   | mir_form_lower   | bigram_lower     | text_window                                                                           | token_str                                                                                                                                                                                                                                                                                                                                   |\n",
      "|:-----------------------------------------|:-----------------|:-----------------|:--------------------------------------------------------------------------------------|:--------------------------------------------------------------------------------------------------------------------------------------------------------------------------------------------------------------------------------------------------------------------------------------------------------------------------------------------|\n",
      "| pcc_eng_11_083.0903_x1328650_1:25-26-27  | everyone         | ever_involved    | admittedly __`not`__ familiar with everyone __`ever`__ involved with the Wo W         | There are other items in the patch files that look to be named after certain individuals , but I 'm admittedly __`not`__ familiar with everyone __`ever`__ involved with the Wo W community , so I 'll leave it to you guys to let me know if I missed someone .                                                                            |\n",
      "| nyt_eng_19950818_0506_53:14-17-18        | someone          | ever_likely      | liberals and surely __`not`__ someone who is __`ever`__ likely to be labeled a        | she is one of broadcasting 's last remaining flaming liberals and surely __`not`__ someone who is __`ever`__ likely to be labeled a girly-girl .                                                                                                                                                                                            |\n",
      "| apw_eng_20080222_0028_15:35-39-40        | something        | ever_comfortable | but this is __`not`__ something the Times is __`ever`__ comfortable doing , '' New    | `` From the looks of it , the paper is going to have to fight for its story -- and its ethics -- in the court of public opinion , but this is __`not`__ something the Times is __`ever`__ comfortable doing , '' New York University journalism professor Jay Rosen said in a posting on The Huffington Post , a widely read online forum . |\n",
      "| pcc_eng_14_006.0533_x0081779_21:11-12-13 | something        | ever_palpable    | taught , it is something __`ever`__ palpable , in classrooms throughout               | While love may __`not`__ be overtly taught , it is something __`ever`__ palpable , in classrooms throughout the world .                                                                                                                                                                                                                     |\n",
      "| pcc_eng_25_021.6812_x0334207_13:08-09-10 | something        | ever_present     | points system were __`n't`__ something __`ever`__ present in the traditional referral | Gamification and a points system were __`n't`__ something __`ever`__ present in the traditional referral scheme and this has seen huge levels of engagement .                                                                                                                                                                               |\n",
      "| pcc_eng_10_005.9191_x0079566_10:6-7-8    | something        | ever_related     | anyone hates AARP and something __`ever`__ related to it , then                       | If anyone hates AARP and something __`ever`__ related to it , then it 's good to hear that they wo __`n't`__ ever __`ever`__ e-book an OAT journey , as a result of I would take one once more and I 'd hate to journey with somebody toting a grudge .                                                                                     |\n",
      "\n",
      "- *filtering rows...*\n",
      "  - regex parsing = True\n",
      "  - ✓ Applied filter: `token_str== n[o']t .* ever `\n",
      "  - ✓ Applied filter: `adv_form_lower==^ever$`\n",
      "  - ✓ Applied filter: `pattern==.*R$`\n",
      "\n",
      "### 6 random rows matching filter(s) from `input frame`\n",
      "\n",
      "| hit_id                                   | mir_form_lower   | bigram_lower    | text_window                                                                         | token_str                                                                                                                                                                                                                                                                                                                                                                                                                               |\n",
      "|:-----------------------------------------|:-----------------|:----------------|:------------------------------------------------------------------------------------|:----------------------------------------------------------------------------------------------------------------------------------------------------------------------------------------------------------------------------------------------------------------------------------------------------------------------------------------------------------------------------------------------------------------------------------------|\n",
      "| pcc_eng_13_016.0662_x0243353_68:13-14-15 | always           | ever_ready      | we know , or always __`ever`__ ready , nor was she                                  | She was __`n't`__ a prophetic one , as we know , or always __`ever`__ ready , nor was she chosen , at last , to lead anyone but herself .                                                                                                                                                                                                                                                                                               |\n",
      "| pcc_eng_09_064.5404_x1027932_02:46-52-53 | or               | ever_different  | n't remember when , or if , the situation was __`ever`__ different ) , it continues | While FNC 's dominance vs. its rivals in cable news - CNN and NBC - owned MSNBC - is __`not`__ exactly surprise news ( since FNC has enjoyed a huge lead over the other guys for so long that we ca __`n't`__ remember when , or if , the situation was __`ever`__ different ) , it continues to fascinate us .                                                                                                                         |\n",
      "| pcc_eng_10_066.0161_x1051014_1:54-56-57  | or               | ever_likely     | I 've __`ever`__ had or am __`ever`__ likely to have with her                       | It 's hard __`not`__ to get very jealous of the people -- and in particular the other guy -- that has my girlfriend right now while I do __`n't`__ -- that has more time with her on a day- to - day basis as I sit here working than I 've __`ever`__ had or am __`ever`__ likely to have with her -- and that will do so for many months to come .                                                                                    |\n",
      "| pcc_eng_13_005.3835_x0070567_24:72-74-75 | or               | ever_likely     | others in person , or is __`ever`__ likely to .                                     | And the Net is a curiously impersonal medium : the letter writers of earlier times usually knew their respondents , or if __`not`__ had standard formal styles of writing to fall back on ; online we have a community which is dispersed , disparate , often with cultural preconceptions impossible to judge in advance , and almost no member of which has __`ever`__ met any of the others in person , or is __`ever`__ likely to . |\n",
      "| pcc_eng_20_050.1656_x0794195_24:10-14-15 | or               | ever_likely     | was a meaningful bout or that he was __`ever`__ likely to win .                     | It 's __`not`__ like this was a meaningful bout or that he was __`ever`__ likely to win .                                                                                                                                                                                                                                                                                                                                               |\n",
      "| pcc_eng_26_068.6160_x1093226_16:19-24-25 | or               | ever_vulnerable | fixed the problem ( or indeed if they were __`ever`__ vulnerable ) then the best    | And , if a website you use has __`n't`__ made clear if they have fixed the problem ( or indeed if they were __`ever`__ vulnerable ) then the best thing you can do is badger them into telling you .                                                                                                                                                                                                                                    |\n",
      "\n",
      "- *filtering rows...*\n",
      "  - regex parsing = True\n",
      "  - ✓ Applied filter: `token_str== n[o']t .* necessarily `\n",
      "  - ✓ Applied filter: `adv_form_lower==^necessarily$`\n",
      "  - ✓ Applied filter: `pattern==.*L$`\n",
      "\n",
      "### 6 random rows matching filter(s) from `input frame`\n",
      "\n",
      "| hit_id                                   | mir_form_lower   | bigram_lower          | text_window                                                                          | token_str                                                                                                                                                       |\n",
      "|:-----------------------------------------|:-----------------|:----------------------|:-------------------------------------------------------------------------------------|:----------------------------------------------------------------------------------------------------------------------------------------------------------------|\n",
      "| pcc_eng_13_096.8088_x1548276_35:4-5-6    | something        | necessarily_exclusive | It 's __`not`__ something __`necessarily`__ exclusive to people of multiple          | It 's __`not`__ something __`necessarily`__ exclusive to people of multiple backgrounds , but it 's a story that allows everyone to empathize .                 |\n",
      "| nyt_eng_19981205_0227_72:5-8-9           | something        | necessarily_important | `` It 's __`not`__ something that 's __`necessarily`__ important to me , ''          | `` It 's __`not`__ something that 's __`necessarily`__ important to me , '' he said .                                                                           |\n",
      "| pcc_eng_14_099.6587_x1594817_1:7-8-9     | something        | necessarily_new       | automatically dim are __`n't`__ something __`necessarily`__ new for automobiles , as | Surfaces that automatically dim are __`n't`__ something __`necessarily`__ new for automobiles , as numerous cars already offer auto-dimming rear-view mirrors . |\n",
      "| nyt_eng_20040908_0162_13:09-12-13        | something        | necessarily_proud     | it 's __`not`__ ... something I 'm __`necessarily`__ proud of . ''                   | but it happened and it 's __`not`__ ... something I 'm __`necessarily`__ proud of . ''                                                                          |\n",
      "| pcc_eng_15_039.6162_x0624547_09:27-28-29 | something        | necessarily_typical   | her to be into something __`necessarily`__ typical .                                 | \" Storywise , it had to be a song that I wanted Judith to be into , but I did __`n't`__ want her to be into something __`necessarily`__ typical .               |\n",
      "| pcc_eng_00_065.1762_x1037596_12:11-12-13 | something        | necessarily_unusual   | regular happenstance , __`not`__ something __`necessarily`__ unusual .               | That is because conjunctions are a regular happenstance , __`not`__ something __`necessarily`__ unusual .                                                       |\n",
      "\n",
      "- *filtering rows...*\n",
      "  - regex parsing = True\n",
      "  - ✓ Applied filter: `token_str== n[o']t .* necessarily `\n",
      "  - ✓ Applied filter: `adv_form_lower==^necessarily$`\n",
      "  - ✓ Applied filter: `pattern==.*R$`\n",
      "\n",
      "### 6 random rows matching filter(s) from `input frame`\n",
      "\n",
      "| hit_id                                   | mir_form_lower   | bigram_lower               | text_window                                                                                         | token_str                                                                                                                                                                                                                                         |\n",
      "|:-----------------------------------------|:-----------------|:---------------------------|:----------------------------------------------------------------------------------------------------|:--------------------------------------------------------------------------------------------------------------------------------------------------------------------------------------------------------------------------------------------------|\n",
      "| pcc_eng_08_032.0308_x0502446_16:24-28-29 | all              | necessarily_capable        | or stages , __`not`__ all of which are __`necessarily`__ capable of being characterised as          | Consequently , those tournaments must be regarded as events which are , in principle , divisible into different matches or stages , __`not`__ all of which are __`necessarily`__ capable of being characterised as an event of major importance . |\n",
      "| pcc_eng_13_070.8281_x1128694_02:16-20-21 | all              | necessarily_fun            | things , and __`not`__ all of them are __`necessarily`__ fun .                                      | Going into business for yourself means learning about a lot of things , and __`not`__ all of them are __`necessarily`__ fun .                                                                                                                     |\n",
      "| pcc_eng_19_074.8534_x1193054_37:05-13-14 | everything       | necessarily_reversible     | After all , __`not`__ everything that we do to our environment is __`necessarily`__ reversible .    | After all , __`not`__ everything that we do to our environment is __`necessarily`__ reversible .                                                                                                                                                  |\n",
      "| pcc_eng_15_004.1344_x0050467_11:18-20-21 | or               | necessarily_desirable      | objectivity was __`not`__ essential or even __`necessarily`__ desirable .                           | To avoid censorship , later newspaper adopted a different strategy , deciding that objectivity was __`not`__ essential or even __`necessarily`__ desirable .                                                                                      |\n",
      "| pcc_eng_23_022.2196_x0342815_14:21-22-23 | or               | necessarily_representative | they are __`n't`__ elected or __`necessarily`__ representative of the people they                   | They are a minority of religious organisations that claim to represent \" communities \" , but they are __`n't`__ elected or __`necessarily`__ representative of the people they claim to speak for .                                               |\n",
      "| pcc_eng_09_006.0786_x0082396_13:06-13-14 | someone          | necessarily_better         | 'm __`not`__ saying that someone who is so much older is __`necessarily`__ better , just that under | I 'm __`not`__ saying that someone who is so much older is __`necessarily`__ better , just that under the age of 25 is still immature , no matter what the law says .                                                                             |\n",
      "\n",
      "- *filtering rows...*\n",
      "  - regex parsing = True\n",
      "  - ✓ Applied filter: `token_str== n[o']t .* yet `\n",
      "  - ✓ Applied filter: `adv_form_lower==^yet$`\n",
      "  - ✓ Applied filter: `pattern==.*L$`\n",
      "\n",
      "### 6 random rows matching filter(s) from `input frame`\n",
      "\n",
      "| hit_id                                    | mir_form_lower   | bigram_lower   | text_window                                                                       | token_str                                                                                                                                                                                                                                                                                                                                        |\n",
      "|:------------------------------------------|:-----------------|:---------------|:----------------------------------------------------------------------------------|:-------------------------------------------------------------------------------------------------------------------------------------------------------------------------------------------------------------------------------------------------------------------------------------------------------------------------------------------------|\n",
      "| pcc_eng_00_068.1007_x1084525_32:29-32-33  | something        | yet_appealing  | realm of fairies , something simple and __`yet`__ appealing to a younger audience | For light entertainment it 's okay , but then again the original book itself is __`n't`__ much else than a fantastic journey into the realm of fairies , something simple and __`yet`__ appealing to a younger audience , and if you do __`n't`__ care much for character development or heavy themes , it 's alright .                          |\n",
      "| pcc_eng_20_002.8552_x0029721_35:16-18-19  | something        | yet_casual     | he 'd have done something sharp __`yet`__ casual with the uniforms if             | He did __`n't`__ intend to end in the nick , although he 'd have done something sharp __`yet`__ casual with the uniforms if he had ; but he always anticipated that the party would be over soon .                                                                                                                                               |\n",
      "| pcc_eng_08_056.0790_x0891782_008:33-35-36 | something        | yet_familiar   | and style that exude something fresh __`yet`__ familiar , something lasting .     | Their debut album , Classic , strives to live up to its title __`not`__ only in capturing the quality of timelessness , but also in tapping into sentiments and style that exude something fresh __`yet`__ familiar , something lasting .                                                                                                        |\n",
      "| pcc_eng_15_013.4718_x0201157_030:22-23-24 | something        | yet_unfinished | reason to believe that something __`yet`__ unfinished is coming for me            | Ken 's sticking around me , and he 's __`not`__ the idle type ; I have every reason to believe that something __`yet`__ unfinished is coming for me as a loose end , and Ken is using me as bait to get at it - and both of us know it .                                                                                                         |\n",
      "| pcc_eng_04_037.1918_x0584956_15:42-43-44  | something        | yet_unknown    | - dimensional experience toward something __`yet`__ unknown .                     | The struggles have played out before us , and the choices are being made every day , in everyone 's life : to be or __`not`__ to be of higher consciousness , to reach beyond your 3 - dimensional experience toward something __`yet`__ unknown .                                                                                               |\n",
      "| pcc_eng_03_025.0461_x0389193_151:15-17-18 | something        | yet_useless    | an advanced degree in something fun __`yet`__ useless , like Gender Studies       | Why ca __`n't`__ I enjoy the freedom to graduate with an advanced degree in something fun __`yet`__ useless , like Gender Studies , never have to worry about paying back my student loans , and live at home with my Mom well into my 30s or 40s and have access to free universal healthcare , free birth control and free abortion services ? |\n",
      "\n",
      "- *filtering rows...*\n",
      "  - regex parsing = True\n",
      "  - ✓ Applied filter: `token_str== n[o']t .* yet `\n",
      "  - ✓ Applied filter: `adv_form_lower==^yet$`\n",
      "  - ✓ Applied filter: `pattern==.*R$`\n",
      "\n",
      "### 6 random rows matching filter(s) from `input frame`\n",
      "\n",
      "| hit_id                                      | mir_form_lower   | bigram_lower     | text_window                                                                                              | token_str                                                                                                                                                                                                                                                                                                                                                                                                                                                                                                                                                                                                                                                                                                                                                                                                                           |\n",
      "|:--------------------------------------------|:-----------------|:-----------------|:---------------------------------------------------------------------------------------------------------|:------------------------------------------------------------------------------------------------------------------------------------------------------------------------------------------------------------------------------------------------------------------------------------------------------------------------------------------------------------------------------------------------------------------------------------------------------------------------------------------------------------------------------------------------------------------------------------------------------------------------------------------------------------------------------------------------------------------------------------------------------------------------------------------------------------------------------------|\n",
      "| pcc_eng_26_030.4833_x0476381_21:27-31-32    | many             | yet_willing      | common human experience than many of us are __`yet`__ willing to admit . '                               | Nevertheless , the uncertainties confronting the young today are __`not`__ unique to their generation ; they are much more part of our common human experience than many of us are __`yet`__ willing to admit . '                                                                                                                                                                                                                                                                                                                                                                                                                                                                                                                                                                                                                   |\n",
      "| pcc_eng_27_108.03804_x1737583_069:24-34-35  | or               | yet_fresh        | at such moments ; or at least while the recollection of such moments was __`yet`__ fresh on her spirit : | If Shirley were __`not`__ an indolent , a reckless , an ignorant being , she would take a pen at such moments ; or at least while the recollection of such moments was __`yet`__ fresh on her spirit : she would seize , she would fix the apparition , tell the vision revealed .                                                                                                                                                                                                                                                                                                                                                                                                                                                                                                                                                  |\n",
      "| pcc_eng_16_018.6265_x0285541_08628:07-10-11 | or               | yet_more         | your cruelty contented , or have I __`yet`__ more to suffer ?                                            | Is __`not`__ your cruelty contented , or have I __`yet`__ more to suffer ?                                                                                                                                                                                                                                                                                                                                                                                                                                                                                                                                                                                                                                                                                                                                                          |\n",
      "| pcc_eng_19_044.5091_x0702472_085:17-19-20   | or               | yet_ready        | the rest do __`n't`__ or are __`yet`__ ready .                                                           | It 's hard to be the one that wants to change when the rest do __`n't`__ or are __`yet`__ ready .                                                                                                                                                                                                                                                                                                                                                                                                                                                                                                                                                                                                                                                                                                                                   |\n",
      "| pcc_eng_19_090.9902_x1454514_30:114-116-117 | or               | yet_unidentified | integrity of any surviving or as __`yet`__ unidentified archaeological remains associated with           | Key elements that contribute to the heritage character of the site include : - the original location of the Elizabeth and Mary wreck in the St. Lawrence River , on the seabed of Anse-aux - Bouleaux , __`not`__ far from Baie-Trinite , in the Cote - Nord region of Quebec ; - the continued association of the site with the collection of more than 4,000 perfectly preserved artifacts found during the dives which relate to the navigation , armament , food , clothing , hygiene and the living conditions of the expedition , removed for research , and in storage and on display to the public ; - the integrity of any surviving or as __`yet`__ unidentified archaeological remains associated with the wreck of the Elizabeth and Mary , which may be found within the site in their original placement and extent . |\n",
      "| pcc_eng_24_063.6453_x1013601_40:41-48-49    | or               | yet_unwilling    | sex abuse issues , or , if he does , is __`yet`__ unwilling or incapable of responding                   | On Jan. 21 , 2014 , after the United Nations hearings , Thomas C. Fox , the publisher of this paper , wrote that Pope Francis \" does __`not`__ understand the full magnitude of the related sex abuse issues , or , if he does , is __`yet`__ unwilling or incapable of responding to it . \"                                                                                                                                                                                                                                                                                                                                                                                                                                                                                                                                        |\n"
     ]
    }
   ],
   "source": [
    "for adv in ['exactly', 'ever', 'necessarily', 'yet']:\n",
    "    for pat_suff in ['L', 'R']:\n",
    "        problems = sample_pickle(\n",
    "            data=pmir, sample_size=6, regex=True, print_sample=False,\n",
    "            filters=[f'token_str== {REGNOT} .* {adv} ',\n",
    "                    f'adv_form_lower==^{adv}$', \n",
    "                    f'pattern==.*{pat_suff}$'],\n",
    "            columns=['mir_form_lower', 'bigram_lower', 'text_window', 'token_str'],\n",
    "            sort_by='all_forms_lower')\n",
    "\n",
    "        show_sample(\n",
    "            problems.loc[problems.token_str.str.contains(f'{REGNOT}.*{adv}')].assign(\n",
    "                token_str=embolden(problems.token_str, f' ({REGNOT}|{adv}) '),\n",
    "                text_window=embolden(problems.text_window, f' ({REGNOT}|{adv}) ')\n",
    "            ),\n",
    "            format='pipe', limit_cols=False)"
   ]
  },
  {
   "cell_type": "markdown",
   "metadata": {},
   "source": [
    "- This could be dealt with by modifying the patterns (i.e. the `WITHOUT` clauses specifically) and rerunning everything, but\n",
    "  1. There's no telling how long that would take \n",
    "  2. verifying its accuracy is difficult\n",
    "  3. even with 100% accurate patterns for *correct* parses, there is no way to prevent or really even predict all possible *mis*parses\n",
    "- So there is a better way: \n",
    "  \n",
    "  The preponderance of positive data provides a large margin for additional data exclusions without unbalancing the samples---in fact, \n",
    "  it actually brings `[POSMIR,f1]` _closer_ to the negative sample size, `[NEGMIR, f1]`.\n",
    "\n",
    "  Therefore, it is possible to simply drop anything with a likely negation preceding the bigram, \n",
    "  regardless of the polarity environment the particular syntactic configuration creates, and call it a day.\n"
   ]
  },
  {
   "cell_type": "code",
   "execution_count": 36,
   "metadata": {},
   "outputs": [],
   "source": [
    "pmir['adv_index'] = pd.to_numeric(pmir.index.to_series().str.split(':').str.get(-1).apply(lambda i: re.search(r'-(\\d+)-', i).group().strip('-')), downcast='unsigned')\n",
    "pmir['preceding_text'] = pmir.apply(lambda x: ' '.join(x.token_str.split()[:x.adv_index - 1]), axis='columns').astype('string')"
   ]
  },
  {
   "cell_type": "code",
   "execution_count": 37,
   "metadata": {},
   "outputs": [
    {
     "name": "stdout",
     "output_type": "stream",
     "text": [
      "+------------------------+-----------------------------------------+------------------+---------------------------------------------------------+\n",
      "| hit_id                 | preceding_text                          | bigram_lower     | token_str                                               |\n",
      "+========================+=========================================+==================+=========================================================+\n",
      "| pcc_eng_20_107.03184_x | There 's something                      | very_comfortable | There 's something very comfortable to that in me . \"   |\n",
      "| 1718038_28:3-4-5       |                                         |                  |                                                         |\n",
      "+------------------------+-----------------------------------------+------------------+---------------------------------------------------------+\n",
      "| pcc_eng_19_014.4502_x0 | \" Close to Perpignan the wind is always | quite_strong     | \" Close to Perpignan the wind is always quite strong    |\n",
      "| 217288_7:08-09-10      |                                         |                  | and it will be a really stressful day , all the Sport   |\n",
      "|                        |                                         |                  | Directors know this as the route is very open .         |\n",
      "+------------------------+-----------------------------------------+------------------+---------------------------------------------------------+\n",
      "| pcc_eng_24_051.1468_x0 | Such an orbit is evidence , as is that  | very_dramatic    | Such an orbit is evidence , as is that of Triton , that |\n",
      "| 810962_090:14-15-16    | of Triton , that something              |                  | something very dramatic must have happened long ago in  |\n",
      "|                        |                                         |                  | the history of the Neptunian system .                   |\n",
      "+------------------------+-----------------------------------------+------------------+---------------------------------------------------------+\n",
      "| pcc_eng_03_076.6704_x1 | High levels of PM are typically created | especially_windy | High levels of PM are typically created when the air is |\n",
      "| 225714_13:14-15-16     | when the air is especially stagnant or  |                  | especially stagnant or especially windy .               |\n",
      "+------------------------+-----------------------------------------+------------------+---------------------------------------------------------+\n",
      "| pcc_eng_28_041.5107_x0 | For people to really be able to hear    | really_exciting  | For people to really be able to hear this - even for me |\n",
      "| 655230_027:23-24-25    | this - even for me - for the first time |                  | - for the first time fully fleshed out is something     |\n",
      "|                        | fully fleshed out is something          |                  | really exciting .                                       |\n",
      "+------------------------+-----------------------------------------+------------------+---------------------------------------------------------+\n"
     ]
    }
   ],
   "source": [
    "show_sample(pmir[['preceding_text', 'bigram_lower', 'token_str']].sample(5))"
   ]
  },
  {
   "cell_type": "code",
   "execution_count": 44,
   "metadata": {},
   "outputs": [
    {
     "name": "stdout",
     "output_type": "stream",
     "text": [
      "| hit_id                                    | preceding_text                                                                                                                                       | bigram_lower   | token_str                                                                                                                                                                           |\n",
      "|:------------------------------------------|:-----------------------------------------------------------------------------------------------------------------------------------------------------|:---------------|:------------------------------------------------------------------------------------------------------------------------------------------------------------------------------------|\n",
      "| pcc_eng_17_051.8568_x0821672_01:12-13-14  | We 've all said it when a road or building seems all                                                                                                 | too_familiar   | We 've all said it when a road or building seems all too familiar in a TV show or big screen drama .                                                                                |\n",
      "| pcc_eng_29_086.5098_x1381112_406:23-25-26 | In the end , it is always about the storytelling and you want to make it all as believable as possible and always be                                 | as_true        | In the end , it is always about the storytelling and you want to make it all as believable as possible and always be as true to the characters as you can be .                      |\n",
      "| pcc_eng_18_089.2559_x1429145_24:28-29-30  | Partners in Health is the largest health care provider in rural Haiti ; it oversees some 10 hospitals and clinics , all far from the capital and all | still_intact   | Partners in Health is the largest health care provider in rural Haiti ; it oversees some 10 hospitals and clinics , all far from the capital and all still intact .                 |\n",
      "| pcc_eng_04_096.0551_x1535866_352:6-7-8    | Certainly I had in mind something                                                                                                                    | much_smaller   | Certainly I had in mind something much smaller and something which met much more frequently .                                                                                       |\n",
      "| nyt_eng_20041113_0069_23:3-4-5            | people are often                                                                                                                                     | too_quick      | people are often too quick to assume that any difference found between two races is genetic and immutable , said Dr. David Altshuler , a medical geneticist at Harvard University . |\n"
     ]
    }
   ],
   "source": [
    "show_sample(pmir[['preceding_text', 'bigram_lower', 'token_str']].sample(5), format='pipe')"
   ]
  },
  {
   "cell_type": "code",
   "execution_count": 45,
   "metadata": {},
   "outputs": [
    {
     "name": "stderr",
     "output_type": "stream",
     "text": [
      "/tmp/ipykernel_3461/180626172.py:1: UserWarning: This pattern is interpreted as a regular expression, and has match groups. To actually get the groups, use str.extract.\n",
      "  pmir['after_neg'] = pmir.preceding_text.str.lower().str.contains(r\" n[o'e](t?|body|thing|where|ver|ne| one) \", regex=True)\n"
     ]
    },
    {
     "name": "stdout",
     "output_type": "stream",
     "text": [
      "+------------------------+------------------------------------------+-------------------------+---------------------------------------------------------+\n",
      "| hit_id                 | preceding_text                           | bigram_lower            | token_str                                               |\n",
      "+========================+==========================================+=========================+=========================================================+\n",
      "| pcc_eng_23_080.3263_x1 | The so-called dismal science has never   | more_controversial      | The so-called dismal science has never been more        |\n",
      "| 281816_3:11-25-26      | been more popular - or , given its       |                         | popular - or , given its failure to predict or prevent  |\n",
      "|                        | failure to predict or prevent the recent |                         | the recent financial crisis , more controversial .      |\n",
      "|                        | financial crisis ,                       |                         |                                                         |\n",
      "+------------------------+------------------------------------------+-------------------------+---------------------------------------------------------+\n",
      "| pcc_eng_17_087.8810_x1 | Perhaps you did n't write a good         | too_busy                | Perhaps you did n't write a good Headline , or they     |\n",
      "| 404142_106:10-13-14    | Headline , or they were                  |                         | were too busy at the time to take a look .              |\n",
      "+------------------------+------------------------------------------+-------------------------+---------------------------------------------------------+\n",
      "| pcc_eng_20_034.9188_x0 | He has n't been able to apply that mean  | well_aware              | He has n't been able to apply that mean streak to his   |\n",
      "| 548352_10:16-18-19     | streak to his game we 're all now        |                         | game we 're all now well aware of and it has shown .    |\n",
      "+------------------------+------------------------------------------+-------------------------+---------------------------------------------------------+\n",
      "| pcc_eng_11_052.2601_x0 | I do n't know if it is because I think   | so_lazy                 | I do n't know if it is because I think of my spiritual  |\n",
      "| 829322_369:35-40-41    | of my spiritual well - being as having   |                         | well - being as having far more importance , or if it   |\n",
      "|                        | far more importance , or if it is        |                         | is because I have no fear of death , or if I am just so |\n",
      "|                        | because I have no fear of death , or if  |                         | lazy that it is not a priority .                        |\n",
      "|                        | I am just                                |                         |                                                         |\n",
      "+------------------------+------------------------------------------+-------------------------+---------------------------------------------------------+\n",
      "| pcc_eng_19_086.4159_x1 | She was acting as an administration      | deliberately_misleading | She was acting as an administration spokeswoman ; there |\n",
      "| 380334_08:14-15-16     | spokeswoman ; there was nothing either   |                         | was nothing either incompetent or deliberately          |\n",
      "|                        | incompetent or                           |                         | misleading about the way she presented the information  |\n",
      "|                        |                                          |                         | she was given .                                         |\n",
      "+------------------------+------------------------------------------+-------------------------+---------------------------------------------------------+\n",
      "| pcc_eng_16_062.6634_x0 | Well , I am not expecting those aliens   | really_attractive       | Well , I am not expecting those aliens to be as vicious |\n",
      "| 998269_18:16-18-19     | to be as vicious as the Xenomorphs or as |                         | as the Xenomorphs or as really attractive as Superman . |\n",
      "+------------------------+------------------------------------------+-------------------------+---------------------------------------------------------+\n",
      "| pcc_eng_02_040.5537_x0 | The most common complaint about some fly | still_active            | The most common complaint about some fly -by- night     |\n",
      "| 639969_13:26-31-32     | -by- night pest controllers is that \"    |                         | pest controllers is that \" the service has not worked - |\n",
      "|                        | the service has not worked - the pests   |                         | the pests are back \" or \" the termites are still active |\n",
      "|                        | are back \" or \" the termites are         |                         | in the house \" and the business has disappeared .       |\n",
      "+------------------------+------------------------------------------+-------------------------+---------------------------------------------------------+\n",
      "| pcc_eng_12_100.7648_x1 | Martin Dies , the chairman of the House  | particularly_irrational | Martin Dies , the chairman of the House Un-American     |\n",
      "| 612132_056:28-30-31    | Un-American Activities Committee , saw   |                         | Activities Committee , saw the egalitarian FWP as a     |\n",
      "|                        | the egalitarian FWP as a hotbed of       |                         | hotbed of radical subversion , which is not surprising  |\n",
      "|                        | radical subversion , which is not        |                         | or even particularly irrational from a man who thought  |\n",
      "|                        | surprising or even                       |                         | that immigration was a \" great alien invasion . \"       |\n",
      "+------------------------+------------------------------------------+-------------------------+---------------------------------------------------------+\n",
      "| pcc_eng_16_011.6357_x0 | Converting the work of arguably the      | too_apparent            | Converting the work of arguably the greatest American   |\n",
      "| 172456_04:27-28-29     | greatest American pulp novelist of the   |                         | pulp novelist of the 20th century to the big screen is  |\n",
      "|                        | 20th century to the big screen is no     |                         | no easy task , a fact made all too apparent by director |\n",
      "|                        | easy task , a fact made all              |                         | Michael Winterbottom 's hollow film adaptation of       |\n",
      "|                        |                                          |                         | Thompson 's 1952 novel , \" The Killer Inside Me . \"     |\n",
      "+------------------------+------------------------------------------+-------------------------+---------------------------------------------------------+\n",
      "| pcc_eng_21_054.8713_x0 | Your brake system can degrade over time  | more_unpredictable      | Your brake system can degrade over time , so even if    |\n",
      "| 870946_7:32-34-35      | , so even if you are n't experiencing    |                         | you are n't experiencing symptoms , you could have      |\n",
      "|                        | symptoms , you could have corroding      |                         | corroding fluid lines , leaking cylinders , uneven wear |\n",
      "|                        | fluid lines , leaking cylinders , uneven |                         | , or something even more unpredictable .                |\n",
      "|                        | wear , or something even                 |                         |                                                         |\n",
      "+------------------------+------------------------------------------+-------------------------+---------------------------------------------------------+\n"
     ]
    }
   ],
   "source": [
    "pmir['after_neg'] = pmir.preceding_text.str.lower().str.contains(r\" n[o'e](t?|body|thing|where|ver|ne| one) \", regex=True)\n",
    "show_sample(pmir.loc[pmir.after_neg, ['preceding_text', 'bigram_lower', 'token_str']].sample(10))"
   ]
  },
  {
   "cell_type": "code",
   "execution_count": 56,
   "metadata": {},
   "outputs": [
    {
     "name": "stdout",
     "output_type": "stream",
     "text": [
      "| hit_id                                    | preceding_text                                                                                                  | bigram_lower        | token_str                                                                                                                                               |\n",
      "|:------------------------------------------|:----------------------------------------------------------------------------------------------------------------|:--------------------|:--------------------------------------------------------------------------------------------------------------------------------------------------------|\n",
      "| pcc_eng_06_050.0638_x0793919_173:24-25-26 | There are many \" girl on top \" variations that are easy to try and you do __`n't`__ have to be the strongest or | most_flexible       | There are many \" girl on top \" variations that are easy to try and you do n't have to be the strongest or most flexible couple for them to feel great . |\n",
      "| pcc_eng_12_077.6671_x1238890_09:11-13-14  | These are __`n't`__ necessarily the best players at each spot or the                                            | most_surprising     | These are n't necessarily the best players at each spot or the most surprising .                                                                        |\n",
      "| pcc_eng_22_104.8330_x1677738_08:10-11-12  | Having MCS means __`never`__ knowing when you can manage something                                              | as_simple           | Having MCS means never knowing when you can manage something as simple as making toast .                                                                |\n",
      "| pcc_eng_20_055.5535_x0881335_049:08-10-11 | That 's __`not`__ to say we should always be                                                                    | politically_correct | That 's not to say we should always be politically correct , but be mindful of people 's sensibilities .                                                |\n",
      "| nyt_eng_20000926_0325_2:08-14-15          | a : It 's __`no`__ surprise that many of the pre-packed lunches are                                             | relatively_high     | a : It 's no surprise that many of the pre-packed lunches are relatively high in fat and sodium compared to something like a turkey sandwich .          |\n",
      "| pcc_eng_11_008.7045_x0124674_03:22-23-24  | The smell ( __`not`__ too fruity ) , the light orange hue , the simple and chic bottle - it 's all              | so_lovely           | The smell ( not too fruity ) , the light orange hue , the simple and chic bottle - it 's all so lovely .                                                |\n"
     ]
    }
   ],
   "source": [
    "some_neg_ex = pmir.loc[pmir.after_neg, ['preceding_text', 'bigram_lower', 'token_str']].sample(6)\n",
    "show_sample(some_neg_ex.assign(\n",
    "    preceding_text=embolden(some_neg_ex.preceding_text, \n",
    "                            f' ({REGNOT}|nobody|nothing|never|none|no) ')\n",
    "    ), format='pipe')"
   ]
  },
  {
   "cell_type": "code",
   "execution_count": 59,
   "metadata": {},
   "outputs": [
    {
     "name": "stdout",
     "output_type": "stream",
     "text": [
      "* $1,459,568$ tokens in `POSmirror` hits not preceded by negation\n",
      "  > - I.e. what would remain if _all_ potential contaminants were excluded\n",
      "  > - _215,933_ potential exclusions\n",
      "* $285,435$ tokens in `NEGmirror` hits\n",
      "* Updated difference in hit subtotals: $1,174,133$\n"
     ]
    }
   ],
   "source": [
    "print(f'* ${pmir.after_neg.value_counts()[False]:,}$ tokens in `POSmirror` hits not preceded by negation')\n",
    "print('  > - I.e. what would remain if _all_ potential contaminants were excluded')\n",
    "print(f'  > - _{pmir.after_neg.value_counts()[True]:,}_ potential exclusions')\n",
    "print(f'* ${len(nmir):,}$ tokens in `NEGmirror` hits')\n",
    "print(f'* Updated difference in hit subtotals: ${pmir.after_neg.value_counts()[False] - len(nmir):,}$')"
   ]
  },
  {
   "cell_type": "markdown",
   "metadata": {},
   "source": [
    "_Without considering any upper case_\n",
    "* ~~__1,457,913__ tokens in `POSmirror` hits not preceded by negation~~\n",
    "    * ~~I.e. what would remain if _all_ potential contaminants were excluded~~\n",
    "    * ~~_217,588_ potential exclusions~~\n",
    "---\n",
    "_Without considering fully upper case triggers_\n",
    "* ~~__1,460,126__ tokens in `POSmirror` hits not preceded by negation~~\n",
    "  * ~~I.e. what would remain if _all_ potential contaminants were excluded~~\n",
    "  * ~~_215,375_ potential exclusions~~\n",
    "---\n",
    "_Normalized for case first_\n",
    "* $1,459,568$ tokens in `POSmirror` hits not preceded by negation\n",
    "  > - I.e. what would remain if _all_ potential contaminants were excluded\n",
    "  > - _215,933_ potential exclusions\n",
    "* $285,435$ tokens in `NEGmirror` hits\n",
    "* Updated difference in hit subtotals: $1,174,133$"
   ]
  },
  {
   "cell_type": "code",
   "execution_count": 60,
   "metadata": {},
   "outputs": [
    {
     "name": "stdout",
     "output_type": "stream",
     "text": [
      "<class 'pandas.core.frame.DataFrame'>\n",
      "Index: 1459568 entries, apw_eng_19941111_0004_1:14-15-16 to pcc_eng_val_3.11253_x52703_07:08-10-11\n",
      "Data columns (total 21 columns):\n",
      " #   Column           Non-Null Count    Dtype   \n",
      "---  ------           --------------    -----   \n",
      " 0   adv_form         1459568 non-null  category\n",
      " 1   adj_form         1459568 non-null  category\n",
      " 2   text_window      1459568 non-null  string  \n",
      " 3   bigram_id        1459568 non-null  category\n",
      " 4   token_str        1459568 non-null  string  \n",
      " 5   mir_deprel       1459568 non-null  category\n",
      " 6   mir_head         1459568 non-null  category\n",
      " 7   mir_lemma        1459568 non-null  category\n",
      " 8   adv_lemma        1459568 non-null  category\n",
      " 9   adj_lemma        1459568 non-null  category\n",
      " 10  mir_form         1459568 non-null  category\n",
      " 11  mir_form_lower   1459568 non-null  category\n",
      " 12  adv_form_lower   1459568 non-null  category\n",
      " 13  adj_form_lower   1459568 non-null  category\n",
      " 14  bigram_lower     1459568 non-null  category\n",
      " 15  all_forms_lower  1459568 non-null  category\n",
      " 16  pattern          1459568 non-null  category\n",
      " 17  category         1459568 non-null  category\n",
      " 18  prev_form_lower  1459568 non-null  category\n",
      " 19  adv_index        1459568 non-null  uint8   \n",
      " 20  preceding_text   1459568 non-null  string  \n",
      "dtypes: category(17), string(3), uint8(1)\n",
      "memory usage: 1.0 GB\n"
     ]
    }
   ],
   "source": [
    "enforced_pos= pmir.loc[~pmir.after_neg, :'preceding_text']\n",
    "enforced_pos.info()"
   ]
  },
  {
   "cell_type": "code",
   "execution_count": 61,
   "metadata": {},
   "outputs": [
    {
     "name": "stdout",
     "output_type": "stream",
     "text": [
      "\n",
      "- *filtering rows...*\n",
      "  - regex parsing = False\n",
      "  - ✓ Applied filter: `adv_form_lower==exactly`\n",
      "\n",
      "### 10 random rows matching filter(s) from `input frame`\n",
      "\n",
      "+------------------------+----------------------------+------------------------------------------+------------------------------------------+---------------------------------------------------------+\n",
      "| hit_id                 | all_forms_lower            | text_window                              | preceding_text                           | token_str                                               |\n",
      "+========================+============================+==========================================+==========================================+=========================================================+\n",
      "| nyt_eng_19990225_0004_ | everybody_exactly_right    | `` Everybody '' is exactly right with    | `` Everybody '' is                       | `` Everybody '' is exactly right with this team .       |\n",
      "| 56:2-5-6               |                            | this team .                              |                                          |                                                         |\n",
      "+------------------------+----------------------------+------------------------------------------+------------------------------------------+---------------------------------------------------------+\n",
      "| pcc_eng_01_056.7092_x0 | everything_exactly_correct | try to make sure everything I write is   | I really do try to make sure everything  | I really do try to make sure everything I write is      |\n",
      "| 900896_84:08-12-13     |                            | exactly correct ( personal opinions      | I write is                               | exactly correct ( personal opinions excepted ! ) , but  |\n",
      "|                        |                            | excepted                                 |                                          | on occasion , I experience what my late great-          |\n",
      "|                        |                            |                                          |                                          | grandmother termed a \" brain fart \" .                   |\n",
      "+------------------------+----------------------------+------------------------------------------+------------------------------------------+---------------------------------------------------------+\n",
      "| pcc_eng_04_045.9637_x0 | all_exactly_right          | , and Italy are all exactly right .      | All of you who guessed from my last post | All of you who guessed from my last post that I have    |\n",
      "| 726663_03:23-24-25     |                            |                                          | that I have just returned from England , | just returned from England , France , and Italy are all |\n",
      "|                        |                            |                                          | France , and Italy are all               | exactly right .                                         |\n",
      "+------------------------+----------------------------+------------------------------------------+------------------------------------------+---------------------------------------------------------+\n",
      "| pcc_eng_19_092.2002_x1 | all_exactly_subtle         | Not all of them have been exactly subtle | Not all of them have been                | Not all of them have been exactly subtle .              |\n",
      "| 474180_15:2-7-8        |                            | .                                        |                                          |                                                         |\n",
      "+------------------------+----------------------------+------------------------------------------+------------------------------------------+---------------------------------------------------------+\n",
      "| pcc_eng_21_007.9004_x0 | something_exactly_right    | We say something is \" exactly right \"    | We say something is \"                    | We say something is \" exactly right \" when we mean it   |\n",
      "| 111267_067:3-6-7       |                            | when we mean                             |                                          | is good enough for our purposes .                       |\n",
      "+------------------------+----------------------------+------------------------------------------+------------------------------------------+---------------------------------------------------------+\n",
      "| pcc_eng_21_008.3030_x0 | something_exactly_perfect  | So if something 's exactly perfect , it  | So if something 's                       | So if something 's exactly perfect , it 's right on     |\n",
      "| 117796_34:3-5-6        |                            | 's right                                 |                                          | point , with no room to spare .                         |\n",
      "+------------------------+----------------------------+------------------------------------------+------------------------------------------+---------------------------------------------------------+\n",
      "| pcc_eng_21_079.5590_x1 | everything_exactly_right   | \" Everything must be exactly right ,     | \" Everything must be                     | \" Everything must be exactly right , James , understand |\n",
      "| 269528_003:2-5-6       |                            | James , understand                       |                                          | ?                                                       |\n",
      "+------------------------+----------------------------+------------------------------------------+------------------------------------------+---------------------------------------------------------+\n",
      "| pcc_eng_23_003.9391_x0 | many_exactly_right         | English character actors , many of whom  | The adult cast is a \" Who's Who \" of     | The adult cast is a \" Who's Who \" of English character  |\n",
      "| 047296_07:15-19-20     |                            | are exactly right for the roles they     | English character actors , many of whom  | actors , many of whom are exactly right for the roles   |\n",
      "|                        |                            |                                          | are                                      | they were called to play .                              |\n",
      "+------------------------+----------------------------+------------------------------------------+------------------------------------------+---------------------------------------------------------+\n",
      "| pcc_eng_24_046.2031_x0 | all_exactly_alike          | Man Whose Teeth Were All Exactly Alike ( | Humpty Dumpty in Oakland is a fine work  | Humpty Dumpty in Oakland is a fine work , even if it is |\n",
      "| 730651_07:25-26-27     |                            | henceforth Teeth )                       | , even if it is very despairing , and so | very despairing , and so is The Man Whose Teeth Were    |\n",
      "|                        |                            |                                          | is The Man Whose Teeth Were All          | All Exactly Alike ( henceforth Teeth ) .                |\n",
      "+------------------------+----------------------------+------------------------------------------+------------------------------------------+---------------------------------------------------------+\n",
      "| pcc_eng_28_071.1671_x1 | everything_exactly_right   | is complicated , and everything , right  | Everyone is complicated , and everything | Everyone is complicated , and everything , right down   |\n",
      "| 135248_19:06-21-22     |                            | down to the period funk music from       | , right down to the period funk music    | to the period funk music from Lollywood 's heyday , is  |\n",
      "|                        |                            | Lollywood 's heyday , is exactly right . | from Lollywood 's heyday , is            | exactly right .                                         |\n",
      "+------------------------+----------------------------+------------------------------------------+------------------------------------------+---------------------------------------------------------+\n"
     ]
    }
   ],
   "source": [
    "adv = 'exactly'\n",
    "new_exactly_ex = sample_pickle(\n",
    "    data=enforced_pos,\n",
    "    print_sample=False, sample_size=10,\n",
    "    columns=['all_forms_lower', 'text_window', 'preceding_text', 'token_str'],\n",
    "    filters=[f'adv_form_lower=={adv}'],\n",
    ")\n",
    "\n",
    "show_sample(new_exactly_ex)"
   ]
  },
  {
   "cell_type": "code",
   "execution_count": 64,
   "metadata": {},
   "outputs": [
    {
     "name": "stdout",
     "output_type": "stream",
     "text": [
      "\n",
      "- *filtering rows...*\n",
      "  - regex parsing = False\n",
      "  - ✓ Applied filter: `adv_form_lower==exactly`\n",
      "  - ✓ Applied filter: `pattern==pos-mirror-R`\n",
      "\n",
      "### 8 random rows matching filter(s) from `input frame`\n",
      "\n",
      "| hit_id                                     | all_forms_lower         | text_window                                                        | token_str                                                                                                                                                                                                                                                       |\n",
      "|:-------------------------------------------|:------------------------|:-------------------------------------------------------------------|:----------------------------------------------------------------------------------------------------------------------------------------------------------------------------------------------------------------------------------------------------------------|\n",
      "| pcc_eng_24_088.2047_x1410351_42:16-17-18   | all_exactly_alike       | , if we were all __`exactly`__ alike we would never exchange       | As any introductory economics class can tell you , after all , if we were all __`exactly`__ alike we would never exchange anything at all .                                                                                                                     |\n",
      "| pcc_eng_26_012.4795_x0185440_4029:18-20-21 | all_exactly_alike       | is that girls are all so __`exactly`__ alike . '                   | ' I was thinking , ' said Martin , ' how strange it is that girls are all so __`exactly`__ alike . '                                                                                                                                                            |\n",
      "| pcc_eng_17_104.6794_x1676013_18:23-24-25   | all_exactly_alike       | seen , they are all __`exactly`__ alike ( ! ) :                    | Now here are some pictures , all purporting to illustrate \" Pizza Napolitana \" ; as may be seen , they are all __`exactly`__ alike ( ! ) :                                                                                                                      |\n",
      "| pcc_eng_02_014.3329_x0215708_22:10-12-13   | always_exactly_aware    | bad as they should always be __`exactly`__ aware of what the offer | I think this was very bad as they should always be __`exactly`__ aware of what the offer .                                                                                                                                                                      |\n",
      "| pcc_eng_05_073.6668_x1175947_062:5-6-7     | always_exactly_equal    | The Ego is therefore always __`exactly`__ equal to the Non-Ego ,   | The Ego is therefore always __`exactly`__ equal to the Non-Ego , { 231 } and the destruction of an atom of helium would be as catastrophic to the conservation of matter and energy as if a million spheres were blotted into annihilation by the will of God . |\n",
      "| pcc_eng_22_095.2471_x1523059_018:2-5-6     | both_exactly_right      | But both cannot be __`exactly`__ right when they 're both          | But both cannot be __`exactly`__ right when they 're both responsible for a team folding in the final two weeks and losing as many games as it won .                                                                                                            |\n",
      "| pcc_eng_07_106.5163_x1705439_100:5-8-9     | sometimes_exactly_right | And , indeed , sometimes that 's __`exactly`__ right !             | And , indeed , sometimes that 's __`exactly`__ right !                                                                                                                                                                                                          |\n",
      "| pcc_eng_26_042.7040_x0674618_13:10-11-12   | all_exactly_right       | Bayh and Lincoln were all __`exactly`__ right .                    | Of course , Bennett , Bayh and Lincoln were all __`exactly`__ right .                                                                                                                                                                                           |\n",
      "\n",
      "- *filtering rows...*\n",
      "  - regex parsing = False\n",
      "  - ✓ Applied filter: `adv_form_lower==exactly`\n",
      "  - ✓ Applied filter: `pattern==pos-mirror-L`\n",
      "\n",
      "### 8 random rows matching filter(s) from `input frame`\n",
      "\n",
      "| hit_id                                    | all_forms_lower           | text_window                                                         | token_str                                                                                                                                         |\n",
      "|:------------------------------------------|:--------------------------|:--------------------------------------------------------------------|:--------------------------------------------------------------------------------------------------------------------------------------------------|\n",
      "| pcc_eng_05_069.4747_x1107978_086:1-2-3    | everybody_exactly_alike   | Everybody __`exactly`__ alike . \"                                   | Everybody __`exactly`__ alike . \"                                                                                                                 |\n",
      "| pcc_eng_06_038.9890_x0614425_107:3-6-7    | all_exactly_alike         | They are all of them __`exactly`__ alike , and there is             | They are all of them __`exactly`__ alike , and there is not one of them can be eaten .                                                            |\n",
      "| pcc_eng_02_048.1298_x0762484_04:1-2-3     | everybody_exactly_alike   | Everybody __`exactly`__ alike . \"                                   | Everybody __`exactly`__ alike . \"                                                                                                                 |\n",
      "| pcc_eng_01_028.2684_x0440942_22:23-24-25  | everyone_exactly_alike    | keys or surfaces , everyone __`exactly`__ alike .                   | All we have is typewriting : a series of gestures that are always the same - taps on keys or surfaces , everyone __`exactly`__ alike .            |\n",
      "| pcc_eng_15_106.5980_x1707092_015:16-17-18 | something_exactly_related | , you offered them something __`exactly`__ related to the post they | What if , instead of pointing visitors to a semi-related resource , you offered them something __`exactly`__ related to the post they just read ? |\n",
      "| pcc_eng_08_106.0266_x1700594_12:1-2-3     | everything_exactly_same   | Everything __`exactly`__ same , minimum 290 people                  | Everything __`exactly`__ same , minimum 290 people dead .                                                                                         |\n",
      "| pcc_eng_11_064.7133_x1031125_24:1-2-3     | everything_exactly_same   | Everything __`exactly`__ same , minimum two hundred                 | Everything __`exactly`__ same , minimum two hundred ninety people dead .                                                                          |\n",
      "| pcc_eng_01_090.6691_x1449922_24:1-2-3     | everything_exactly_same   | Everything __`exactly`__ same , minimum 290 people                  | Everything __`exactly`__ same , minimum 290 people dead .                                                                                         |\n"
     ]
    }
   ],
   "source": [
    "for pat_suff in ['R', 'L']:\n",
    "    new_exactly_ex = sample_pickle(\n",
    "        data=enforced_pos, sample_size=8,\n",
    "        print_sample=False, sort_by='adj_form_lower',\n",
    "        columns=['all_forms_lower', 'text_window', 'token_str'],\n",
    "        filters=[f'adv_form_lower=={adv}', \n",
    "                f'pattern==pos-mirror-{pat_suff}'],\n",
    "    )\n",
    "\n",
    "    show_sample(new_exactly_ex.assign(\n",
    "        text_window=embolden(new_exactly_ex.text_window, f' ({adv}) '),\n",
    "        token_str=embolden(new_exactly_ex.token_str, f' ({adv}) ')\n",
    "    ), format='pipe')"
   ]
  },
  {
   "cell_type": "code",
   "execution_count": 70,
   "metadata": {},
   "outputs": [
    {
     "name": "stdout",
     "output_type": "stream",
     "text": [
      "Updated `POSmirror` hits dataframe already exists:\\ \n",
      "  `/share/compling/data/sanpi/4_post-processed/POSmirror/enforced-POS-trigger-bigrams_thr0-001p.35f.pkl.gz\n",
      "\n",
      "```shell\n",
      "-rw-r--r-- 1 arh234 207M May 16 23:30 /share/compling/data/sanpi/4_post-processed/POSmirror/enforced-POS-trigger-bigrams_thr0-001p.35f.pkl.gz\n",
      "```\n"
     ]
    }
   ],
   "source": [
    "enforced_path = path_dict['POSmirror'].with_name('enforced-POS-'+path_dict['POSmirror'].name)\n",
    "if not enforced_path.is_file():\n",
    "    \n",
    "    enforced_pos.to_pickle(enforced_path)\n",
    "    print(f'Updated `POSmirror` hits dataframe saved as:\\ \\n  `{enforced_path}')\n",
    "else: \n",
    "    print(f'Updated `POSmirror` hits dataframe already exists:\\ \\n  `{enforced_path}')\n",
    "    print('\\n```shell')\n",
    "    !ls -ho {enforced_path}\n",
    "    print('```')\n",
    "    "
   ]
  }
 ],
 "metadata": {
  "kernelspec": {
   "display_name": "dev-sanpi",
   "language": "python",
   "name": "python3"
  },
  "language_info": {
   "codemirror_mode": {
    "name": "ipython",
    "version": 3
   },
   "file_extension": ".py",
   "mimetype": "text/x-python",
   "name": "python",
   "nbconvert_exporter": "python",
   "pygments_lexer": "ipython3",
   "version": "3.10.13"
  }
 },
 "nbformat": 4,
 "nbformat_minor": 2
}
